{
 "cells": [
  {
   "cell_type": "markdown",
   "metadata": {},
   "source": [
    "# College Board Test 3 Corrections\n",
    "- toc: true \n",
    "- badges: true\n",
    "- comments: true\n",
    "- categories: [markdown]"
   ]
  },
  {
   "cell_type": "markdown",
   "metadata": {},
   "source": [
    "## My Corrections\n",
    "![](26.png)\n",
    "My answer is wrong because mine only selects one students that is an odd number and one student that is an even number. It is also missing step 4 which is important (The student who was selected in the previous step is assigned 0. All other students are reassigned a unique integer from 1 to 29) this means any possible pair of students is equally likely to be selected.\n",
    "\n",
    "![](31.png)\n",
    "My answer is wrong because it uses one crucial word (not) in that last sentence which makes it incorrect. With the answer I selected the algorithm will turn on the motor in some cases when the gate sensor is not activated. D is correct because after the first check if the time is during business hours, the algorithm continues past the second check if the gate sensor is activated, and then it continues past the third check if the gate is not open. Performing the checks in this order will make sure the gate is open only when it should be.  \n",
    "\n",
    "![](34.png)\n",
    "My answer is wrong because it says to turn left after moving 2 blocks foward when it should really say to move right. Answer D is correct because the robot first moves forward three spaces, then turns to the left, then after it moves forward two spaces, turns to the right, and moves forward three spaces and arrives at the gray square.\n",
    "\n",
    "![](35.png)\n",
    "My answer is wrong because when scoreC > scoreB > scoreA, the code segment incorrectly identifies Team B as the winner instead of Team C. My answer defines the wrong winner. A is the correct answer because If scoreA is greater than both scoreB and scoreC (the first two IF statements), then Team A wins. If scoreA is greater than scoreB but not greater than scoreC, then scoreC is greater than both scoreA and scoreB and Team C wins. If scoreB is greater than scoreA (the outer ELSE statement) and scoreC (the IF statment in the outer ELSE), then Team B wins. If scoreB is greater than scoreA but not greater than scoreC, then scoreC is greater than both scoreA and scoreB and Team C wins.\n",
    "\n",
    "![](44.png)\n",
    "My answer is wrong because I thought the order was flipped, so the 1st line was going to be displayed 2nd, but it was displayed 1st and vice versa with the second line, no idea why I thought this. I new it started with a number, because it prints (num) first and then the 2 strings. B is correct because The first call to printArgs displays the number 1, followed by the string \"**\", followed by the number 1. The second call to printArgs displays the number 2, followed by the string \"*\", followed by the number 2.\n"
   ]
  }
 ],
 "metadata": {
  "kernelspec": {
   "display_name": "Python 3.9.6 64-bit",
   "language": "python",
   "name": "python3"
  },
  "language_info": {
   "name": "python",
   "version": "3.9.6"
  },
  "orig_nbformat": 4,
  "vscode": {
   "interpreter": {
    "hash": "31f2aee4e71d21fbe5cf8b01ff0e069b9275f58929596ceb00d14d90e3e16cd6"
   }
  }
 },
 "nbformat": 4,
 "nbformat_minor": 2
}
