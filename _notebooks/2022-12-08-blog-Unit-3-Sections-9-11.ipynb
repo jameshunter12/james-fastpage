{
 "cells": [
  {
   "cell_type": "markdown",
   "metadata": {},
   "source": [
    "# 3.9-3.11 Homework and Hacks\n",
    "\n",
    "- toc: true \n",
    "- badges: true\n",
    "- comments: true\n",
    "- categories: [markdown]\n",
    "- image: None"
   ]
  },
  {
   "cell_type": "markdown",
   "metadata": {},
   "source": [
    "## Hacks\n",
    "\n",
    "\n",
    "4. Make a binary search tree of different the list [1,2,3,4,6,9,11,69]\n",
    "\n",
    "5. Explain thorughly how to find the number 69 in the list above (use key words)\n",
    "\n",
    "6. Make a diagram explaining how you found the list (not tree, include equation)\n",
    "\n",
    "7. Put this list of strings in a order that can be used for binary search [\"store\",\"Market\",\"Walmart\",Target\",\"Ralphs\"]\n",
    "\n",
    "8. Explain why Binary Search is more efficient than Sequential Search\n",
    "\n",
    "9. [64,36,16,11,9] Explain which number you are finding, how many check it would take, and make a binary search tree\n"
   ]
  },
  {
   "cell_type": "markdown",
   "metadata": {},
   "source": [
    "1. **Write this Boolean statement in the form of a conditional (if/else) statement:**\n",
    "stayInside⟵((isCold) OR (isRaining))"
   ]
  },
  {
   "cell_type": "code",
   "execution_count": null,
   "metadata": {
    "vscode": {
     "languageId": "powershell"
    }
   },
   "outputs": [],
   "source": [
    "{\n",
    "if(isRaining){\n",
    "        stayInside <- true\n",
    "    }\n",
    "    if(isCold){\n",
    "        stayInside <- true\n",
    "    }\n",
    "else {\n",
    "        stayInside <- false\n",
    "    }\n",
    "    }"
   ]
  },
  {
   "cell_type": "markdown",
   "metadata": {},
   "source": [
    "2. **Create an algorithm that uses selection and/or iteration that will represent one player's complete turn.**\n",
    "\n",
    "    - During a turn, each player gets 4 attempts/chances to get the greatest number possible.\n",
    "\n",
    "    - During each attempt, the player will use a random number generator to select a random number from 1 to 10.\n",
    "\n",
    "    - After they have had 4 chances, their score is the greatest number they received from the random number generator, and their turn is over."
   ]
  },
  {
   "cell_type": "code",
   "execution_count": 70,
   "metadata": {},
   "outputs": [
    {
     "name": "stdout",
     "output_type": "stream",
     "text": [
      "[10, 4, 5, 6]\n",
      "Maximum: 10\n"
     ]
    }
   ],
   "source": [
    "import random\n",
    "attempts = []\n",
    "\n",
    "i = 1 \n",
    "while i <= 4:\n",
    "    attempts.append(random.randint(1,10))\n",
    "    i = i + 1\n",
    "    \n",
    "print(attempts)\n",
    "print(\"Maximum:\", max(attempts))"
   ]
  },
  {
   "cell_type": "markdown",
   "metadata": {},
   "source": [
    "3. **Create an algorithm that will allow the arrow to reach the gray square:**"
   ]
  },
  {
   "cell_type": "code",
   "execution_count": null,
   "metadata": {
    "vscode": {
     "languageId": "powershell"
    }
   },
   "outputs": [],
   "source": [
    "{\n",
    "if canmoveFoward{\n",
    "    moveFoward\n",
    "}\n",
    "else{\n",
    "    canturnRight{\n",
    "     turnRight\n",
    "    }\n",
    "    canturnLeft{\n",
    "     turnLeft\n",
    "    }   \n",
    "}\n",
    "}"
   ]
  },
  {
   "cell_type": "markdown",
   "metadata": {},
   "source": [
    "\n",
    "4. Make a binary search tree of different the list [1,2,3,4,6,9,11,69]\n",
    "![](tree.png)"
   ]
  },
  {
   "cell_type": "markdown",
   "metadata": {},
   "source": [
    "5. Explain thorughly how to find the number 69 in the list above (use key words)\n",
    "\n",
    "- Using sequential search you would go through the list comparing 69 to every value in the list until the number (69) matches 69. In the order this list is it will take 7 iterations to find 69\n",
    "- Using binary search you would start in the middle, you can find this by adding the first and last last ((1+8)/2=4.5). You have to round up to 5 for the index, so you start at number 6 in the list. You do this on either side until you get your desired value. (You would want to get 8 because the index of 8 = 69)"
   ]
  }
 ],
 "metadata": {
  "kernelspec": {
   "display_name": "Python 3.9.12 ('base')",
   "language": "python",
   "name": "python3"
  },
  "language_info": {
   "codemirror_mode": {
    "name": "ipython",
    "version": 3
   },
   "file_extension": ".py",
   "mimetype": "text/x-python",
   "name": "python",
   "nbconvert_exporter": "python",
   "pygments_lexer": "ipython3",
   "version": "3.9.12"
  },
  "orig_nbformat": 4,
  "vscode": {
   "interpreter": {
    "hash": "40d3a090f54c6569ab1632332b64b2c03c39dcf918b08424e98f38b5ae0af88f"
   }
  }
 },
 "nbformat": 4,
 "nbformat_minor": 2
}
