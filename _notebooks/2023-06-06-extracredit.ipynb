{
 "cells": [
  {
   "cell_type": "markdown",
   "metadata": {},
   "source": [
    "# Extra Pandas Work\n",
    "\n",
    "- toc: true \n",
    "- badges: true\n",
    "- comments: true\n",
    "- categories: [markdown,python]"
   ]
  },
  {
   "cell_type": "code",
   "execution_count": 5,
   "metadata": {},
   "outputs": [
    {
     "name": "stdout",
     "output_type": "stream",
     "text": [
      "    Payout Date Status  Charges  Refunds  Adjustments  Reserved Funds   Fees  \\\n",
      "0    2023-06-06   paid   133.17     0.00          0.0             0.0   6.77   \n",
      "1    2023-06-02   paid    52.98     0.00          0.0             0.0   1.84   \n",
      "2    2023-05-31   paid   114.53     0.00          0.0             0.0   5.77   \n",
      "3    2023-05-30   paid    53.96    -7.99          0.0             0.0   2.46   \n",
      "4    2023-05-23   paid  1050.77     0.00          0.0             0.0  42.07   \n",
      "..          ...    ...      ...      ...          ...             ...    ...   \n",
      "111  2022-07-21   paid    36.98     0.00          0.0             0.0   1.37   \n",
      "112  2022-07-20   paid   157.85     0.00          0.0             0.0   7.27   \n",
      "113  2022-07-19   paid   527.81     0.00          0.0             0.0  20.44   \n",
      "114  2022-07-18   paid   110.94     0.00          0.0             0.0   4.11   \n",
      "115  2022-07-15   paid   369.80     0.00          0.0             0.0  13.70   \n",
      "\n",
      "     Retried Amount    Total Currency  \n",
      "0               0.0   126.40      USD  \n",
      "1               0.0    51.14      USD  \n",
      "2               0.0   108.76      USD  \n",
      "3               0.0    43.51      USD  \n",
      "4               0.0  1008.70      USD  \n",
      "..              ...      ...      ...  \n",
      "111             0.0    35.61      USD  \n",
      "112             0.0   150.58      USD  \n",
      "113             0.0   507.37      USD  \n",
      "114             0.0   106.83      USD  \n",
      "115             0.0   356.10      USD  \n",
      "\n",
      "[116 rows x 10 columns]\n"
     ]
    }
   ],
   "source": [
    "import pandas as pd\n",
    "# Load the CSV file into a Pandas DataFrame\n",
    "df = pd.read_csv('payout-export.csv')\n",
    "\n",
    "print(df)"
   ]
  },
  {
   "cell_type": "code",
   "execution_count": 11,
   "metadata": {},
   "outputs": [
    {
     "name": "stdout",
     "output_type": "stream",
     "text": [
      "0       133.17\n",
      "1        52.98\n",
      "2       114.53\n",
      "3        53.96\n",
      "4      1050.77\n",
      "        ...   \n",
      "111      36.98\n",
      "112     157.85\n",
      "113     527.81\n",
      "114     110.94\n",
      "115     369.80\n",
      "Name: Charges, Length: 116, dtype: float64\n"
     ]
    }
   ],
   "source": [
    "import pandas as pd\n",
    "\n",
    "# Read the CSV file into a pandas DataFrame\n",
    "df = pd.read_csv('payout-export.csv')\n",
    "\n",
    "# Select the 'Charges' column\n",
    "charges_column = df['Charges']\n",
    "\n",
    "# Print the 'Charges' column\n",
    "print(charges_column)\n"
   ]
  },
  {
   "cell_type": "code",
   "execution_count": 12,
   "metadata": {},
   "outputs": [
    {
     "name": "stdout",
     "output_type": "stream",
     "text": [
      "Total Charges: 24787.109999999997\n"
     ]
    }
   ],
   "source": [
    "import pandas as pd\n",
    "\n",
    "# Read the CSV file into a pandas DataFrame\n",
    "df = pd.read_csv('payout-export.csv')\n",
    "\n",
    "# Calculate the total of the 'Charges' column\n",
    "total_charges = df['Charges'].sum()\n",
    "\n",
    "# Print the total charges\n",
    "print('Total Charges:', total_charges)"
   ]
  },
  {
   "cell_type": "code",
   "execution_count": 13,
   "metadata": {},
   "outputs": [
    {
     "name": "stdout",
     "output_type": "stream",
     "text": [
      "0       6.77\n",
      "1       1.84\n",
      "2       5.77\n",
      "3       2.46\n",
      "4      42.07\n",
      "       ...  \n",
      "111     1.37\n",
      "112     7.27\n",
      "113    20.44\n",
      "114     4.11\n",
      "115    13.70\n",
      "Name: Fees, Length: 116, dtype: float64\n"
     ]
    }
   ],
   "source": [
    "import pandas as pd\n",
    "\n",
    "# Read the CSV file into a pandas DataFrame\n",
    "df = pd.read_csv('payout-export.csv')\n",
    "\n",
    "# Select the 'Fees' column\n",
    "fees_column = df['Fees']\n",
    "\n",
    "# Print the 'Fees' column\n",
    "print(fees_column)"
   ]
  },
  {
   "cell_type": "code",
   "execution_count": 14,
   "metadata": {},
   "outputs": [
    {
     "name": "stdout",
     "output_type": "stream",
     "text": [
      "Total Fees: 1040.2700000000002\n"
     ]
    }
   ],
   "source": [
    "import pandas as pd\n",
    "\n",
    "# Read the CSV file into a pandas DataFrame\n",
    "df = pd.read_csv('payout-export.csv')\n",
    "\n",
    "# Calculate the total of the 'Fees' column\n",
    "total_fees = df['Fees'].sum()\n",
    "\n",
    "# Print the total Fees\n",
    "print('Total Fees:', total_fees)"
   ]
  },
  {
   "cell_type": "code",
   "execution_count": 19,
   "metadata": {},
   "outputs": [
    {
     "name": "stdout",
     "output_type": "stream",
     "text": [
      "Total Amount: $ 23746.839999999997\n"
     ]
    }
   ],
   "source": [
    "import pandas as pd\n",
    "\n",
    "# Read the CSV file into a pandas DataFrame\n",
    "df = pd.read_csv('payout-export.csv')\n",
    "\n",
    "total_charges = df['Charges'].sum()\n",
    "\n",
    "total_fees = df['Fees'].sum()\n",
    "\n",
    "print('Total Amount:', '$', total_charges - total_fees)"
   ]
  }
 ],
 "metadata": {
  "kernelspec": {
   "display_name": "Python 3.9.12 ('base')",
   "language": "python",
   "name": "python3"
  },
  "language_info": {
   "codemirror_mode": {
    "name": "ipython",
    "version": 3
   },
   "file_extension": ".py",
   "mimetype": "text/x-python",
   "name": "python",
   "nbconvert_exporter": "python",
   "pygments_lexer": "ipython3",
   "version": "3.9.12"
  },
  "orig_nbformat": 4,
  "vscode": {
   "interpreter": {
    "hash": "40d3a090f54c6569ab1632332b64b2c03c39dcf918b08424e98f38b5ae0af88f"
   }
  }
 },
 "nbformat": 4,
 "nbformat_minor": 2
}
