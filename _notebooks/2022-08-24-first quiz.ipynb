{
 "cells": [
  {
   "cell_type": "code",
   "execution_count": 1,
   "metadata": {
    "vscode": {
     "languageId": "shellscript"
    }
   },
   "outputs": [
    {
     "name": "stdout",
     "output_type": "stream",
     "text": [
      "you got 2 out of 4\n"
     ]
    }
   ],
   "source": [
    " \n",
    " \n",
    "class Question:\n",
    "     def __init__(self, prompt, answer): # Defines variables\n",
    "          self.prompt = prompt\n",
    "          self.answer = answer\n",
    " # This is my list of questions with questions and answer choices\n",
    "question_prompts = [\n",
    "     \"How many lines are in a sequence of code? \\n(a)2 or more \\n(b)1\",\n",
    "     \"Does (base) come from Anaconda?\\nyes/\\nno\",\n",
    "     \"Are we in APCSP? \\nyes/\\nno\",\n",
    "     \"What grade do you want in this class? (C)\\n(A)\\n(B)\\n(A+)\",\n",
    "]\n",
    "# Answers\n",
    "questions = [\n",
    "     Question(question_prompts[0], \"a\"),\n",
    "     Question(question_prompts[1], \"yes\"),\n",
    "     Question(question_prompts[2], \"yes\"),\n",
    "     Question(question_prompts[3], \"A+\"),\n",
    "]\n",
    "# Prints score (correct answer = score + 1)\n",
    "def run_quiz(questions):\n",
    "     score = 0\n",
    "     for question in questions:\n",
    "          answer = input(question.prompt)\n",
    "          if answer == question.answer:\n",
    "               score += 1\n",
    "     print(\"you got\", score, \"out of\", len(questions))\n",
    " \n",
    "run_quiz(questions)\n",
    " \n",
    "#_____/\\\\\\\\\\\\\\\\\\_____/\\\\\\\\\\\\\\\\\\\\\\\\\\__________/\\\\\\\\\\\\\\\\\\_____/\\\\\\\\\\\\\\\\\\\\\\____/\\\\\\\\\\\\\\\\\\\\\\\\\\___        \n",
    "# ___/\\\\\\\\\\\\\\\\\\\\\\\\\\__\\/\\\\\\/////////\\\\\\_____/\\\\\\////////____/\\\\\\/////////\\\\\\_\\/\\\\\\/////////\\\\\\_      \n",
    "#  __/\\\\\\/////////\\\\\\_\\/\\\\\\_______\\/\\\\\\___/\\\\\\/____________\\//\\\\\\______\\///__\\/\\\\\\_______\\/\\\\\\_      \n",
    "#   _\\/\\\\\\_______\\/\\\\\\_\\/\\\\\\\\\\\\\\\\\\\\\\\\\\/___/\\\\\\_______________\\////\\\\\\_________\\/\\\\\\\\\\\\\\\\\\\\\\\\\\/__    \n",
    "#    _\\/\\\\\\\\\\\\\\\\\\\\\\\\\\\\\\_\\/\\\\\\/////////____\\/\\\\\\__________________\\////\\\\\\______\\/\\\\\\/////////____    \n",
    "#     _\\/\\\\\\/////////\\\\\\_\\/\\\\\\_____________\\//\\\\\\____________________\\////\\\\\\___\\/\\\\\\_____________  \n",
    "#      _\\/\\\\\\_______\\/\\\\\\_\\/\\\\\\______________\\///\\\\\\___________/\\\\\\______\\//\\\\\\__\\/\\\\\\_____________  \n",
    "#       _\\/\\\\\\_______\\/\\\\\\_\\/\\\\\\________________\\////\\\\\\\\\\\\\\\\\\_\\///\\\\\\\\\\\\\\\\\\\\\\/___\\/\\\\\\_____________\n",
    "#        _\\///________\\///__\\///____________________\\/////////____\\///////////_____\\///______________\n",
    " \n",
    "\n"
   ]
  },
  {
   "cell_type": "markdown",
   "metadata": {},
   "source": [
    "# First Quiz\n",
    "> Quiz made by James Hunter\n",
    "\n",
    "- toc: true \n",
    "- badges: true\n",
    "- comments: true\n",
    "- categories: [jupyter, python]\n",
    "- image: images/chart-preview.png"
   ]
  }
 ],
 "metadata": {
  "kernelspec": {
   "display_name": "Python 2.7.18 64-bit",
   "language": "python",
   "name": "python3"
  },
  "language_info": {
   "codemirror_mode": {
    "name": "ipython",
    "version": 3
   },
   "file_extension": ".py",
   "mimetype": "text/x-python",
   "name": "python",
   "nbconvert_exporter": "python",
   "pygments_lexer": "ipython3",
   "version": "2.7.18"
  },
  "orig_nbformat": 4,
  "vscode": {
   "interpreter": {
    "hash": "949777d72b0d2535278d3dc13498b2535136f6dfe0678499012e853ee9abcab1"
   }
  }
 },
 "nbformat": 4,
 "nbformat_minor": 2
}
