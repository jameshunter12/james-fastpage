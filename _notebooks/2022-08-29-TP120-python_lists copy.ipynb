{
 "cells": [
  {
   "cell_type": "markdown",
   "metadata": {},
   "source": [
    "# Lists, Dictionaries, Iteration\n",
    "> An introduction to Data Abstraction using Python Lists [] and Python Dictionaries {}.\n",
    "\n",
    "- title: Lists, Dictionaries, Iteration\n",
    "- toc: true\n",
    "- categories: [units]\n",
    "- permalink: /collegeboard/python_lists\n",
    "- image: /images/python_lists.png\n",
    "- categories: [collegeboard]\n",
    "- tags: [python]"
   ]
  },
  {
   "cell_type": "code",
   "execution_count": 26,
   "metadata": {},
   "outputs": [
    {
     "name": "stdout",
     "output_type": "stream",
     "text": [
      "name James Hunter <class 'str'>\n",
      "\n",
      "age 15 <class 'int'>\n",
      "weight 136 <class 'int'>\n",
      "\n",
      "langs ['Python', 'JavaScript', 'Java', 'Bash', 'HTML'] <class 'list'>\n",
      "- langs[0] Python <class 'str'>\n",
      "\n",
      "person {'name': 'James Hunter', 'age': 15, 'weight': 136, 'langs': ['Python', 'JavaScript', 'Java', 'Bash', 'HTML']} <class 'dict'>\n",
      "- person[\"name\"] James Hunter <class 'str'>\n"
     ]
    }
   ],
   "source": [
    "# Sample of Python Variables\n",
    "\n",
    "# variable of type string\n",
    "name = \"James Hunter\"\n",
    "print(\"name\", name, type(name))\n",
    "\n",
    "print()\n",
    "\n",
    "# variable of type integer\n",
    "age = 15\n",
    "print(\"age\", age, type(age))\n",
    "\n",
    "# variable of type float\n",
    "weight = 136\n",
    "print(\"weight\", weight, type(weight))\n",
    "\n",
    "print()\n",
    "\n",
    "# variable of type list (many values in one variable)\n",
    "langs = [\"Python\", \"JavaScript\", \"Java\", \"Bash\", \"HTML\"]\n",
    "print(\"langs\", langs, type(langs))\n",
    "print(\"- langs[0]\", langs[0], type(langs[0]))\n",
    "\n",
    "print()\n",
    "\n",
    "# variable of type dictionary (a group of keys and values)\n",
    "person = {\n",
    "    \"name\": name,\n",
    "    \"age\": age,\n",
    "    \"weight\": weight,\n",
    "    \"langs\": langs\n",
    "}\n",
    "print(\"person\", person, type(person))\n",
    "print('- person[\"name\"]', person[\"name\"], type(person[\"name\"]))\n"
   ]
  },
  {
   "cell_type": "code",
   "execution_count": 3,
   "metadata": {},
   "outputs": [
    {
     "name": "stdout",
     "output_type": "stream",
     "text": [
      "\n",
      "\n",
      "[{'FirstName': 'James', 'LastName': 'Hunter', 'DOB': 'February 23', 'Residence': 'San Diego', 'Email': '12james15545@gmail.com', 'Weight': ['136']}, {'FirstName': 'Nick', 'LastName': 'Hunter', 'DOB': 'June 17th', 'Residence': 'San Diego', 'Email': 'nick@hunter-il.com', 'Weight': ['155']}]\n"
     ]
    }
   ],
   "source": [
    "# Define an empty List called InfoDb\n",
    "InfoDb = []\n",
    "\n",
    "# Append to List a Dictionary of key/values related to a person and cars\n",
    "InfoDb.append({\n",
    "    \"FirstName\": \"James\",\n",
    "    \"LastName\": \"Hunter\",\n",
    "    \"DOB\": \"February 23\",\n",
    "    \"Residence\": \"San Diego\",\n",
    "    \"Email\": \"12james15545@gmail.com\",\n",
    "    \"Weight\": [\"136\"]\n",
    "})#InfoDb[0]\n",
    "\n",
    "InfoDb.append({\n",
    "    \"FirstName\": \"Nick\",\n",
    "    \"LastName\": \"Hunter\",\n",
    "    \"DOB\": \"June 17th\",\n",
    "    \"Residence\": \"San Diego\",\n",
    "    \"Email\": \"nick@hunter-il.com\",\n",
    "    \"Weight\": [\"155\"]\n",
    "}) # InfoDb[1\n",
    "\n",
    "\n",
    "print()\n",
    "print()\n",
    "\n",
    "# Print the data structure\n",
    "print(InfoDb)"
   ]
  },
  {
   "cell_type": "code",
   "execution_count": 28,
   "metadata": {
    "vscode": {
     "languageId": "shellscript"
    }
   },
   "outputs": [
    {
     "name": "stdout",
     "output_type": "stream",
     "text": [
      "For loop output\n",
      "\n",
      "James Hunter\n",
      "\t Residence: San Diego\n",
      "\t Birth Day: February 23\n",
      "\t Socer Number: 12Nick Hunter\n",
      "\t Residence: San Diego\n",
      "\t Birth Day: June 17th\n",
      "\t Socer Number: 12"
     ]
    }
   ],
   "source": [
    "# given and index this will print InfoDb content\n",
    "def print_data(d_rec):\n",
    "    print(d_rec[\"FirstName\"], d_rec[\"LastName\"])  # using comma puts space between values\n",
    "    print(\"\\t\", \"Residence:\", d_rec[\"Residence\"]) # \\t is a tab indent\n",
    "    print(\"\\t\", \"Birth Day:\", d_rec[\"DOB\"])\n",
    "    print(\"\\t\", \"Socer Number: 12\", end=\"\")  # end=\"\" make sure no return occurs\n",
    "\n",
    "\n",
    "# for loop iterates on length of InfoDb\n",
    "def for_loop():\n",
    "    print(\"For loop output\\n\")\n",
    "    for record in InfoDb:\n",
    "        print_data(record)\n",
    "\n",
    "for_loop()"
   ]
  },
  {
   "cell_type": "code",
   "execution_count": 29,
   "metadata": {},
   "outputs": [
    {
     "name": "stdout",
     "output_type": "stream",
     "text": [
      "While loop output\n",
      "\n",
      "James Hunter\n",
      "\t Residence: San Diego\n",
      "\t Birth Day: February 23\n",
      "\t Socer Number: 12Nick Hunter\n",
      "\t Residence: San Diego\n",
      "\t Birth Day: June 17th\n",
      "\t Socer Number: 12"
     ]
    }
   ],
   "source": [
    "# while loop contains an initial n and an index incrementing statement (n += 1)\n",
    "#InfoDb is always than i\n",
    "def while_loop():\n",
    "    print(\"While loop output\\n\")\n",
    "    i = 0 \n",
    "    while i < len(InfoDb):\n",
    "        record = InfoDb[i]\n",
    "        print_data(record)\n",
    "        i += 1\n",
    "    return\n",
    "\n",
    "while_loop()"
   ]
  },
  {
   "cell_type": "code",
   "execution_count": 30,
   "metadata": {
    "vscode": {
     "languageId": "shellscript"
    }
   },
   "outputs": [
    {
     "name": "stdout",
     "output_type": "stream",
     "text": [
      "Recursive loop output\n",
      "\n",
      "James Hunter\n",
      "\t Residence: San Diego\n",
      "\t Birth Day: February 23\n",
      "\t Socer Number: 12Nick Hunter\n",
      "\t Residence: San Diego\n",
      "\t Birth Day: June 17th\n",
      "\t Socer Number: 12"
     ]
    }
   ],
   "source": [
    "# recursion simulates loop incrementing on each call (n + 1) until exit condition is met\n",
    "def recursive_loop(i):\n",
    "    if i < len(InfoDb):\n",
    "        record = InfoDb[i]\n",
    "        print_data(record)\n",
    "        recursive_loop(i + 1)\n",
    "    return\n",
    "    \n",
    "print(\"Recursive loop output\\n\")\n",
    "recursive_loop(0)"
   ]
  },
  {
   "cell_type": "markdown",
   "metadata": {},
   "source": [
    "## Hacks\n",
    "- Add a couple of records to the InfoDb\n",
    "- Try to do a for loop with an index\n",
    "- Pair Share code somethings creative or unique, with loops and data. Hints...\n",
    "    - Would it be possible to output data in a reverse order?\n",
    "    - Are there other methods that can be performed on lists?\n",
    "    - Could you create new or add to dictionary data set?  Could you do it with input?\n",
    "    - Make a quiz that stores in a List of Dictionaries."
   ]
  },
  {
   "cell_type": "code",
   "execution_count": 31,
   "metadata": {
    "vscode": {
     "languageId": "shellscript"
    }
   },
   "outputs": [
    {
     "name": "stdout",
     "output_type": "stream",
     "text": [
      "James Hunter\n",
      "\t Residence: San Diego\n",
      "\t Birth Day: February 23\n",
      "\t Socer Number: 12Nick Hunter\n",
      "\t Residence: San Diego\n",
      "\t Birth Day: June 17th\n",
      "\t Socer Number: 12"
     ]
    }
   ],
   "source": [
    "for index in range (len(InfoDb)):\n",
    "          print_data(InfoDb[index])\n"
   ]
  },
  {
   "cell_type": "code",
   "execution_count": 32,
   "metadata": {},
   "outputs": [
    {
     "data": {
      "text/plain": [
       "[5, 4, 3, 2, 1]"
      ]
     },
     "execution_count": 32,
     "metadata": {},
     "output_type": "execute_result"
    }
   ],
   "source": [
    "mylist = [1, 2, 3, 4, 5]\n",
    "\n",
    "mylist.reverse()\n",
    "\n",
    "mylist\n",
    "[5, 4, 3, 2, 1]\n"
   ]
  },
  {
   "cell_type": "code",
   "execution_count": 33,
   "metadata": {},
   "outputs": [
    {
     "data": {
      "text/plain": [
       "5"
      ]
     },
     "execution_count": 33,
     "metadata": {},
     "output_type": "execute_result"
    }
   ],
   "source": [
    "a = [10, 20, 30, 40, 50]\n",
    "\n",
    "len(a)\n"
   ]
  },
  {
   "cell_type": "code",
   "execution_count": 34,
   "metadata": {},
   "outputs": [
    {
     "name": "stdout",
     "output_type": "stream",
     "text": [
      "['F', 'D', 'C', 'B', 'A']\n"
     ]
    }
   ],
   "source": [
    "grades = ['A', 'B', 'C', 'D', 'F']\n",
    "\n",
    "grades.sort(reverse=True)\n",
    "\n",
    "print(grades)"
   ]
  },
  {
   "cell_type": "code",
   "execution_count": 35,
   "metadata": {},
   "outputs": [
    {
     "data": {
      "text/plain": [
       "'B'"
      ]
     },
     "execution_count": 35,
     "metadata": {},
     "output_type": "execute_result"
    }
   ],
   "source": [
    "grades = ['A', 'B', 'C', 'D', 'F']\n",
    "\n",
    "grades.pop(1)"
   ]
  }
 ],
 "metadata": {
  "kernelspec": {
   "display_name": "Python 3.9.12 ('base')",
   "language": "python",
   "name": "python3"
  },
  "language_info": {
   "codemirror_mode": {
    "name": "ipython",
    "version": 3
   },
   "file_extension": ".py",
   "mimetype": "text/x-python",
   "name": "python",
   "nbconvert_exporter": "python",
   "pygments_lexer": "ipython3",
   "version": "3.9.12"
  },
  "orig_nbformat": 4,
  "vscode": {
   "interpreter": {
    "hash": "40d3a090f54c6569ab1632332b64b2c03c39dcf918b08424e98f38b5ae0af88f"
   }
  }
 },
 "nbformat": 4,
 "nbformat_minor": 2
}
