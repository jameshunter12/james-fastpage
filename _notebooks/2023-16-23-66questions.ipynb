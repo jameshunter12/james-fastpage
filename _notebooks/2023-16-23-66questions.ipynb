{
 "cells": [
  {
   "cell_type": "markdown",
   "metadata": {},
   "source": [
    "# 2018 MCQ Practice Test #5\n",
    "\n",
    "- toc: true \n",
    "- badges: true\n",
    "- comments: true\n",
    "- categories: [markdown]"
   ]
  },
  {
   "cell_type": "markdown",
   "metadata": {},
   "source": [
    "![](2018score.png)"
   ]
  },
  {
   "cell_type": "markdown",
   "metadata": {},
   "source": [
    "![](%2317.png)"
   ]
  },
  {
   "cell_type": "markdown",
   "metadata": {},
   "source": [
    "My answer is incorrect because free education and training would address digital literacy and would reduce the digital divide. D is the correct answer because Free education and training would address digital literacy. Providing free or low-cost devices would address a lack of access to devices. Providing networks and infrastructure would address a lack of access to networks."
   ]
  },
  {
   "cell_type": "markdown",
   "metadata": {},
   "source": [
    "![](%2333.png)"
   ]
  },
  {
   "cell_type": "markdown",
   "metadata": {},
   "source": [
    "My answer is incorrect because this expression would be used for a flowchart to set include to true whenever floor is greater than 10 and bedrooms equal 3. This does not correctly set include to true in cases where only one of the two conditions is  true. A is correct because the flowchart sets include to true whenever floor is greater than 10 or bedrooms equal 3, and sets include to false otherwise. Therefore, the algorithm is equivalent to include <--(floor > 10) OR (bedrooms = 3)."
   ]
  },
  {
   "cell_type": "markdown",
   "metadata": {},
   "source": [
    "![](41.png)"
   ]
  },
  {
   "cell_type": "markdown",
   "metadata": {},
   "source": [
    "My answer is incorrect because this expression assigns only one score to One word, adjustedTotal. B is correct because this expression uses the Max procedure to replace the midterm score with the higher of the two scores. The selected value is then added to the final exam score and assigned to adjustedTotal."
   ]
  },
  {
   "cell_type": "markdown",
   "metadata": {},
   "source": [
    "![](%2361.png)"
   ]
  },
  {
   "cell_type": "markdown",
   "metadata": {},
   "source": [
    "My first answer is correct because it is possible to create a single list of student names, sorted by last name. Both data formats provide the first and last names of each student. My second answer is incorrect because East High School provides the ZIP code of each student, but West High School does not. The other correct answer is B because it is possible to determine the average number of days students are absent. Both data formats provide the number of absences for each student."
   ]
  }
 ],
 "metadata": {
  "kernelspec": {
   "display_name": "Python 3.9.12 ('base')",
   "language": "python",
   "name": "python3"
  },
  "language_info": {
   "name": "python",
   "version": "3.9.12"
  },
  "orig_nbformat": 4,
  "vscode": {
   "interpreter": {
    "hash": "40d3a090f54c6569ab1632332b64b2c03c39dcf918b08424e98f38b5ae0af88f"
   }
  }
 },
 "nbformat": 4,
 "nbformat_minor": 2
}
