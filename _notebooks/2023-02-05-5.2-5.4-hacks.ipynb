{
 "cells": [
  {
   "cell_type": "markdown",
   "metadata": {},
   "source": [
    "# Big Idea 5.3-5.4 Hacks\n",
    "- toc: true \n",
    "- badges: true\n",
    "- comments: true\n",
    "- categories: [markdown]"
   ]
  },
  {
   "cell_type": "markdown",
   "metadata": {},
   "source": [
    "# Big Idea 5.3 Computing Bias\n"
   ]
  },
  {
   "cell_type": "markdown",
   "metadata": {},
   "source": [
    "### Write summary/thoughts/conclusions from each of the exercises above. Focus on avoiding Bias in algorithms or code you write.\n",
    "- **Google “What age groups use Facebook” vs “… TikTok”?** I think the data shows that Facebook is used by an older audience while TikTok is used by a younger audience, but they both have a good amount of users in the 20-30 year old category. I think this datt makes sense because Tiktok is directed at a younger audience due to its bright colors and dancing trends, while Facebook is directed towards at a older audience due to it duller colors and it has been around longer.\n",
    "- **Why do virtual assistants have female voices? Amazon, Alexa Google, Apple Siri.** I think that virtual assistants have female voices because they are trying to represent a mother and mothers usually symbolize comfort. Female voices can also be perceived as friendly and helpful and people potentially could just prefer female voices as they tend to be more comforting.\n",
    "- **Talk about an algorithm that influences your decisions, think about these companies (ie FAANG - Facebook, Amazon, Apple, Netflix, Google)** I think most of these companies specifically Amazon they track what you search and then they provide products that are similar to what you have been looking at. I also do feel other companies do the same thing, it might not be what you search, but really anything you interact with (ex: liking a post and then it will give you similar posts to the one you liked)\n",
    "- **Does the owner of the computer think this was intentional?** No I do not think the owner of the computer did this intentionally. I think this happened because when they were testing the camera they tried it on little to no people of color. It is harmful because the camera may not work for everyone, but I don't think they meant to do thim. I think this should be corrected and to do that they should try it on people of color, so then they know it works for everyone."
   ]
  },
  {
   "cell_type": "markdown",
   "metadata": {},
   "source": [
    "# Big Idea 5.4 Crowdsourcing"
   ]
  },
  {
   "cell_type": "markdown",
   "metadata": {},
   "source": [
    "### CompSci has 150 ish principles students. Describe a crowdsource idea and how you might initiate it in our environment?\n",
    "- Since we are working on our projects we can create a survey that people can fill out anonymously and provide feedback and suggest changes that could make someones project better. Another idea is we can create a website that everyone can work on and sumbit their own ideas and then collaborate with others to develop the idea.\n",
    "### What about Del Norte crowdsourcing? Could your project be better with crowdsourcing?\n",
    "- We can use Del Norte students and staff to come up with ideas that could make the school a better place and we could also find things people don't like about the school and fix those problems. Our project could be better with crowdsourcing because if we ask other people about things they don't like then we can change them. We can also ask people about what places they like to vacation (we are a hosue renting service,) so then our project can actually be used to help people.\n",
    "### What kind of data could you capture at N@tM to make evening interesting? Perhaps use this data to impress Teachers during finals week.\n",
    "- At the N@tM I think it would be important to collect how important our project is to each person on a scale of 1-10. With this data we can show how our project can be useful in the real world or how it would not be useful. This also provides us with feedback and the thoughts of others outside of our group."
   ]
  }
 ],
 "metadata": {
  "kernelspec": {
   "display_name": "Python 3.9.6 64-bit",
   "language": "python",
   "name": "python3"
  },
  "language_info": {
   "name": "python",
   "version": "3.9.6"
  },
  "orig_nbformat": 4,
  "vscode": {
   "interpreter": {
    "hash": "31f2aee4e71d21fbe5cf8b01ff0e069b9275f58929596ceb00d14d90e3e16cd6"
   }
  }
 },
 "nbformat": 4,
 "nbformat_minor": 2
}
