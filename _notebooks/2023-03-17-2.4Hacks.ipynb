{
 "cells": [
  {
   "attachments": {},
   "cell_type": "markdown",
   "metadata": {},
   "source": [
    "# 2.4a & 2.4b Hacks\n",
    "- toc: true \n",
    "- badges: true\n",
    "- comments: true\n",
    "- categories: [markdown]"
   ]
  },
  {
   "cell_type": "code",
   "execution_count": 68,
   "metadata": {},
   "outputs": [],
   "source": [
    "from flask import Flask\n",
    "from flask_sqlalchemy import SQLAlchemy\n",
    "\n",
    "\"\"\"\n",
    "These object and definitions are used throughout the Jupyter Notebook.\n",
    "\"\"\"\n",
    "\n",
    "# Setup of key Flask object (app)\n",
    "app = Flask(__name__)\n",
    "# Setup SQLAlchemy object and properties for the database (db)\n",
    "database = 'sqlite:///sqlitebbal.db'  # path and filename of database\n",
    "app.config['SQLALCHEMY_TRACK_MODIFICATIONS'] = False\n",
    "app.config['SQLALCHEMY_DATABASE_URI'] = database\n",
    "app.config['SECRET_KEY'] = 'SECRET_KEY'\n",
    "db = SQLAlchemy()\n",
    "\n",
    "\n",
    "# This belongs in place where it runs once per project\n",
    "db.init_app(app)"
   ]
  },
  {
   "cell_type": "code",
   "execution_count": 69,
   "metadata": {},
   "outputs": [],
   "source": [
    "import datetime\n",
    "from datetime import datetime\n",
    "import json\n",
    "\n",
    "from sqlalchemy.exc import IntegrityError\n",
    "from werkzeug.security import generate_password_hash, check_password_hash\n",
    "\n",
    "\n",
    "class User(db.Model):\n",
    "    __tablename__ = 'users'  # table name is plural, class name is singular\n",
    "\n",
    "    id = db.Column(db.Integer, primary_key=True)\n",
    "    _name = db.Column(db.String(255), unique=False, nullable=False)\n",
    "    _hitrate = db.Column(db.String(255), unique=True, nullable=False)\n",
    "\n",
    "    \n",
    "    def __init__(self, name, hitrate):\n",
    "\n",
    "        self._name = name    # variables with self prefix become part of the object, \n",
    "        self._hitrate = hitrate\n",
    "\n",
    "    @property\n",
    "    def name(self):\n",
    "        return self._name\n",
    "    \n",
    "    # a setter function, allows name to be updated after initial object creation\n",
    "    @name.setter\n",
    "    def name(self, name):\n",
    "        self._name = name\n",
    "    \n",
    "    # a getter method, extracts uid from object\n",
    "    @property\n",
    "    def hitrate(self):\n",
    "        return self._hitrate\n",
    "    \n",
    "    # a setter function, allows uid to be updated after initial object creation\n",
    "    @hitrate.setter\n",
    "    def uid(self, hitrate):\n",
    "        self._hitrate = hitrate\n",
    "        \n",
    "\n",
    "\n",
    "    def __str__(self):\n",
    "        return json.dumps(self.read())\n",
    "\n",
    "    # CRUD create/add a new record to the table\n",
    "    # returns self or None on error\n",
    "    def create(self):\n",
    "        try:\n",
    "            # creates a person object from User(db.Model) class, passes initializers\n",
    "            db.session.add(self)  # add prepares to persist person object to Users table\n",
    "            db.session.commit()  # SqlAlchemy \"unit of work pattern\" requires a manual commit\n",
    "            return self\n",
    "        except IntegrityError:\n",
    "            db.session.remove()\n",
    "            return None\n",
    "\n",
    "    # CRUD read converts self to dictionary\n",
    "    # returns dictionary\n",
    "    def read(self):\n",
    "        return {\n",
    "            \"id\": self.id,\n",
    "            \"name\": self.name,\n",
    "            \"hitrate\": self.hitrate,\n",
    "        }\n",
    "\n",
    "    # CRUD update: updates user name, password, phone\n",
    "    # returns self\n",
    "    def update(self, name=\"\", hitrate=\"\"):\n",
    "        self.name = name\n",
    "        db.session.commit()\n",
    "        return self\n",
    "\n",
    "    # CRUD delete: remove self\n",
    "    # None\n",
    "    def delete(self):\n",
    "        db.session.delete(self)\n",
    "        db.session.commit()\n",
    "        return None\n",
    "    # just a definition"
   ]
  },
  {
   "cell_type": "code",
   "execution_count": 70,
   "metadata": {},
   "outputs": [
    {
     "name": "stdout",
     "output_type": "stream",
     "text": [
      "Records exist uid 60%, or error.\n",
      "Records exist uid 80%, or error.\n",
      "Records exist uid 100%, or error.\n",
      "Records exist uid 20%, or error.\n",
      "Records exist uid 40%, or error.\n",
      "Records exist uid 0%, or error.\n"
     ]
    }
   ],
   "source": [
    "def initUsers():\n",
    "    with app.app_context():\n",
    "        db.create_all()\n",
    "\n",
    "        u1 = User(name='Zach LaVine OVER Assists', hitrate=\"60%\")\n",
    "        u2 = User(name='Kelly Oubre Jr OVER Points', hitrate=\"80%\")\n",
    "        u3 = User(name='Joel Embiid OVER 1H PRA', hitrate=\"100%\")\n",
    "        u4 = User(name='James Harden OVER Points', hitrate=\"20%\")\n",
    "        u5 = User(name='Mitchell Robinson OVER Points', hitrate=\"40%\")\n",
    "        u6 = User(name='Jalen Bruson UNDER 1H PRA', hitrate=\"0%\")\n",
    "        users = [u1, u2, u3, u4, u5, u6]\n",
    "\n",
    "        \"\"\"Builds sample user/note(s) data\"\"\"\n",
    "        for user in users:\n",
    "            try:\n",
    "                '''add user to table'''\n",
    "                object = user.create()\n",
    "                print(f\"Created new uid {object.uid}\")\n",
    "            except:  # error raised if object nit created\n",
    "                '''fails with bad or duplicate data'''\n",
    "                print(f\"Records exist uid {user.uid}, or error.\")\n",
    "                \n",
    "initUsers()"
   ]
  },
  {
   "cell_type": "code",
   "execution_count": 71,
   "metadata": {},
   "outputs": [
    {
     "data": {
      "text/plain": [
       "[{'id': 4, 'name': 'James Harden OVER Points', 'hitrate': '20%'},\n",
       " {'id': 5, 'name': 'Mitchell Robinson OVER Points', 'hitrate': '40%'},\n",
       " {'id': 6, 'name': 'Jalen Bruson UNDER 1H PRA', 'hitrate': '0%'},\n",
       " {'id': 10, 'name': 'Zach LaVine OVER Assists', 'hitrate': '60%'},\n",
       " {'id': 11, 'name': 'Kelly Oubre Jr OVER Points', 'hitrate': '80%'},\n",
       " {'id': 13, 'name': 'Joel Embiid OVER 1H PRA', 'hitrate': '100%'}]"
      ]
     },
     "execution_count": 71,
     "metadata": {},
     "output_type": "execute_result"
    }
   ],
   "source": [
    "def read():\n",
    "    with app.app_context():\n",
    "        table = User.query.all()\n",
    "    json_ready = [user.read() for user in table] # \"List Comprehensions\", for each user add user.read() to list\n",
    "    return json_ready\n",
    "\n",
    "read()"
   ]
  },
  {
   "cell_type": "code",
   "execution_count": 72,
   "metadata": {},
   "outputs": [
    {
     "data": {
      "text/plain": [
       "True"
      ]
     },
     "execution_count": 72,
     "metadata": {},
     "output_type": "execute_result"
    }
   ],
   "source": [
    "def find_by_name(name):\n",
    "    with app.app_context():\n",
    "        user = User.query.filter_by(_name=name).first()\n",
    "    return user # returns user object\n",
    "\n",
    "def check_credentials(uid, hitrate):\n",
    "    # query email and return user record\n",
    "    user = find_by_name(uid)\n",
    "    if user == 1:\n",
    "        return False\n",
    "    if hitrate == \"60%\":\n",
    "        return True\n",
    "    return True\n",
    "        \n",
    "check_credentials(\"1\", \"60\")\n",
    "    "
   ]
  },
  {
   "cell_type": "code",
   "execution_count": 73,
   "metadata": {},
   "outputs": [
    {
     "name": "stdout",
     "output_type": "stream",
     "text": [
      "{\"id\": 4, \"name\": \"James Harden OVER Points\", \"hitrate\": \"20%\"}\n",
      "User deleted.\n",
      "new DB\n"
     ]
    },
    {
     "data": {
      "text/plain": [
       "[{'id': 5, 'name': 'Mitchell Robinson OVER Points', 'hitrate': '40%'},\n",
       " {'id': 6, 'name': 'Jalen Bruson UNDER 1H PRA', 'hitrate': '0%'},\n",
       " {'id': 10, 'name': 'Zach LaVine OVER Assists', 'hitrate': '60%'},\n",
       " {'id': 11, 'name': 'Kelly Oubre Jr OVER Points', 'hitrate': '80%'},\n",
       " {'id': 13, 'name': 'Joel Embiid OVER 1H PRA', 'hitrate': '100%'}]"
      ]
     },
     "execution_count": 73,
     "metadata": {},
     "output_type": "execute_result"
    }
   ],
   "source": [
    "def deleteuser():\n",
    "    id = input(\"enter name\")\n",
    "    user = find_by_name(id)\n",
    "    print(user)\n",
    "    if user is not None:\n",
    "        with app.app_context():\n",
    "            db.session.delete(user)  \n",
    "            db.session.commit()\n",
    "        print(\"User deleted.\")\n",
    "    else:\n",
    "        print(\"User not found.\")\n",
    "    \n",
    "deleteuser()\n",
    "print(\"new DB\")\n",
    "read()"
   ]
  },
  {
   "cell_type": "code",
   "execution_count": 77,
   "metadata": {},
   "outputs": [],
   "source": [
    "def updateuser():\n",
    "    \n",
    "    id2 = input(\"id\")\n",
    "    name2= input(\"new name\")\n",
    "    with app.app_context():\n",
    "        user = User.query.filter_by(id=id2).first()\n",
    "        user.update(name=name2)\n",
    "        db.session.commit()\n",
    "\n",
    "def read():\n",
    "    with app.app_context():\n",
    "        table = User.query.all()\n",
    "    json_ready = [user.read() for user in table] # \"List Comprehensions\", for each user add user.read() to list\n",
    "    \n",
    "    return json_ready\n",
    "\n",
    "read()\n",
    "\n",
    "\n",
    "updateuser()"
   ]
  },
  {
   "cell_type": "code",
   "execution_count": 75,
   "metadata": {},
   "outputs": [
    {
     "name": "stdout",
     "output_type": "stream",
     "text": [
      "Created\n",
      " {'id': 14, 'name': 'James Harden OVER Points', 'hitrate': '20%'}\n"
     ]
    }
   ],
   "source": [
    "def create():\n",
    "    # optimize user time to see if name exists\n",
    "    name = input(\"Enter your user id:\")\n",
    "    user = find_by_name(name)\n",
    "    try:\n",
    "        print(\"Found\\n\", user.read())\n",
    "        return\n",
    "    except:\n",
    "        pass # keep going\n",
    "    \n",
    "    # request value that ensure creating valid object\n",
    "    name = input(\"Enter your name:\")\n",
    "    hitrate = input(\"Enter your hitrate\")\n",
    "    \n",
    "    # Initialize User object before date\n",
    "    user = User(name=name,  \n",
    "                hitrate=hitrate\n",
    "                )\n",
    "           \n",
    "    # write object to database\n",
    "    with app.app_context():\n",
    "        try:\n",
    "            object = user.create()\n",
    "            print(\"Created\\n\", object.read())\n",
    "        except:  # error raised if object not created\n",
    "            print(\"Unknown error name {name}\")\n",
    "        \n",
    "create()\n"
   ]
  },
  {
   "attachments": {},
   "cell_type": "markdown",
   "metadata": {},
   "source": [
    "# Menu "
   ]
  },
  {
   "cell_type": "code",
   "execution_count": 78,
   "metadata": {},
   "outputs": [
    {
     "data": {
      "text/plain": [
       "[{'id': 5, 'name': 'Mitchell Robinson OVER Points', 'hitrate': '40%'},\n",
       " {'id': 6, 'name': 'Jalen Bruson UNDER 1H PRA', 'hitrate': '0%'},\n",
       " {'id': 10, 'name': 'Zach LaVine OVER Assists', 'hitrate': '60%'},\n",
       " {'id': 11, 'name': 'Kelly Oubre Jr OVER Points', 'hitrate': '80%'},\n",
       " {'id': 13, 'name': 'Joel Embiid OVER 1H PRA', 'hitrate': '100%'},\n",
       " {'id': 14, 'name': 'James Harden OVER Points', 'hitrate': '20%'}]"
      ]
     },
     "execution_count": 78,
     "metadata": {},
     "output_type": "execute_result"
    }
   ],
   "source": [
    "def process():\n",
    "    endpoint = input(\"read, delete, update, create\")\n",
    "    if endpoint == \"read\":\n",
    "        with app.app_context():\n",
    "            table = User.query.all()\n",
    "            json_ready = [user.read() for user in table] # \"List Comprehensions\", for each user add user.read() to list\n",
    "        return json_ready\n",
    "    elif endpoint == \"delete\":\n",
    "        deleteuser()\n",
    "    elif endpoint == \"update\":\n",
    "        updateuser()\n",
    "    elif endpoint == \"create\":\n",
    "        create()\n",
    "    else:\n",
    "        print('function not found')\n",
    "\n",
    "\n",
    "process()"
   ]
  }
 ],
 "metadata": {
  "kernelspec": {
   "display_name": "Python 3.9.12 ('base')",
   "language": "python",
   "name": "python3"
  },
  "language_info": {
   "codemirror_mode": {
    "name": "ipython",
    "version": 3
   },
   "file_extension": ".py",
   "mimetype": "text/x-python",
   "name": "python",
   "nbconvert_exporter": "python",
   "pygments_lexer": "ipython3",
   "version": "3.9.12"
  },
  "orig_nbformat": 4,
  "vscode": {
   "interpreter": {
    "hash": "40d3a090f54c6569ab1632332b64b2c03c39dcf918b08424e98f38b5ae0af88f"
   }
  }
 },
 "nbformat": 4,
 "nbformat_minor": 2
}
