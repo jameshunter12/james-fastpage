{
 "cells": [
  {
   "cell_type": "markdown",
   "metadata": {},
   "source": [
    "# Adding A Countdown Timer\n",
    "> This is the timer I added to my brands website\n",
    "- toc: true \n",
    "- badges: true\n",
    "- comments: true\n",
    "- categories: [markdown]"
   ]
  },
  {
   "cell_type": "markdown",
   "metadata": {},
   "source": [
    "# What did I do\n",
    "\n",
    "- I added a countdown timner for our customers to see\n",
    "- The countdown timer includes a countdown until we release the new products\n",
    "\n",
    "# Why did I do this\n",
    "\n",
    "- I did this because we would often get customers asking when the new realese was going to be\n",
    "- I also added this because I thought it was a good way to incorporate what I learned in this class\n",
    "- This allows for easier functionability and I thought it was fun and important to add this"
   ]
  }
 ],
 "metadata": {
  "kernelspec": {
   "display_name": "Python 2.7.18 64-bit",
   "language": "python",
   "name": "python3"
  },
  "language_info": {
   "name": "python",
   "version": "2.7.18"
  },
  "orig_nbformat": 4,
  "vscode": {
   "interpreter": {
    "hash": "949777d72b0d2535278d3dc13498b2535136f6dfe0678499012e853ee9abcab1"
   }
  }
 },
 "nbformat": 4,
 "nbformat_minor": 2
}
