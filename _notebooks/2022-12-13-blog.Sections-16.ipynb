{
 "cells": [
  {
   "cell_type": "markdown",
   "metadata": {},
   "source": [
    "# 3.16 Homework and Hacks\n",
    "\n",
    "- toc: true \n",
    "- badges: true\n",
    "- comments: true"
   ]
  },
  {
   "cell_type": "markdown",
   "metadata": {},
   "source": [
    "# Important Notes/Vocab\n",
    "- A simulation is an simpler abstraction of an very complicated natural phenomena\n",
    "- It removes details that are unnecessary or are too difficult to simulate\n",
    "- Simulations make it safer, less expensive, repeatable, and can make predictions\n",
    "- You can remove details that do not matter\n",
    "- The difference between simulations and experiments is that experiments are held in the real world and simulations replicate the real world\n",
    "- A pseudo-random number generator could be used to randomly roll the dice\n",
    "- Simulations can not always be used for situations\n",
    "- Simulations are more of a prediction, while experiments are the actual outcome\n",
    "- An example of removing details from a simulation: when rolling a dice, things like particles in the air and the velocity of the throw are what really determine what you will roll. However simulating that would be unnecessary."
   ]
  },
  {
   "cell_type": "markdown",
   "metadata": {},
   "source": [
    "## Answer table\n",
    "\n",
    "Comment on this [blog post](https://edwinkuttappi.github.io/farmers/2022/11/17/hacks.html) to submit your hacks. <br> <br>\n",
    "Fill out the table with your full name and the LETTER of each answer for every question. **In order to receive any credit you must fill out the answer table according to the directions!** Each question is worth .1 points. To get >0.9/1 you can show your understanding in the area labeled extra. \n",
    "\n",
    "|Question|Answer |\n",
    "|---|---|\n",
    "|Name(First+Last)|James Hunter|\n",
    "|1|<strong>N/A</strong>|\n",
    "|2|<strong>N/A</strong>|\n",
    "|3|<strong>C:</strong> because sudo code can make code more accurate then normal code|\n",
    "|4|<strong>B:</strong> because there is almost always another plain flying in the air|\n",
    "|5|<strong>C:</strong> Situation considered because most of the time the same situation is considered|\n",
    "|6|<strong>A:</strong> Simulation because it is a safer way to operate|\n",
    "|7|<strong>A:</strong> Simulation because they are guessing, so it would be a simulation|\n",
    "|8|<strong>N/A</strong>|\n",
    "|9|<strong>B:</strong> Experiment/calculation because they are calculating the grades, no point in making a simulation|\n",
    "\n",
    "## Extra "
   ]
  },
  {
   "cell_type": "code",
   "execution_count": 1,
   "metadata": {},
   "outputs": [
    {
     "name": "stdout",
     "output_type": "stream",
     "text": [
      "Roll 1: 1\n",
      "Roll 2: 6\n"
     ]
    }
   ],
   "source": [
    "import random\n",
    "\n",
    "num_rolls = int(input(\"how many times would you like to roll?\"))\n",
    "\n",
    "for i in range(num_rolls):\n",
    "    roll = random.randint(1, 6)\n",
    "    print(f'Roll {i+1}: {roll}')"
   ]
  },
  {
   "cell_type": "markdown",
   "metadata": {},
   "source": [
    "- This is a simulation that takes the amount of roles a person inputs and then roles a dice that many times and then dsiplays the output of each role. "
   ]
  },
  {
   "cell_type": "markdown",
   "metadata": {},
   "source": [
    "# Blog/Final Thoughts\n",
    "- Learned about simulations\n",
    "- Compared simulations to experiments\n",
    "- Learned you can factor out unnecessary factors\n",
    "- Also now I understand when to not and when to use a simulation"
   ]
  }
 ],
 "metadata": {
  "kernelspec": {
   "display_name": "Python 3.9.12 ('base')",
   "language": "python",
   "name": "python3"
  },
  "language_info": {
   "codemirror_mode": {
    "name": "ipython",
    "version": 3
   },
   "file_extension": ".py",
   "mimetype": "text/x-python",
   "name": "python",
   "nbconvert_exporter": "python",
   "pygments_lexer": "ipython3",
   "version": "3.9.12"
  },
  "orig_nbformat": 4,
  "vscode": {
   "interpreter": {
    "hash": "40d3a090f54c6569ab1632332b64b2c03c39dcf918b08424e98f38b5ae0af88f"
   }
  }
 },
 "nbformat": 4,
 "nbformat_minor": 2
}
