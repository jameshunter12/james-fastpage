{
 "cells": [
  {
   "cell_type": "markdown",
   "metadata": {},
   "source": [
    "# College Board Plan\n",
    "- toc: true \n",
    "- badges: true\n",
    "- comments: true\n",
    "- categories: [markdown]"
   ]
  },
  {
   "cell_type": "markdown",
   "metadata": {},
   "source": [
    "# College Board Criteria\n",
    "- Row 1: It will function as an input and output because the user will input the parameters of their personal data that will then be stored and then it can be used in the furture for them to log in with.\n",
    "- Row 2: Data will be stored through this feature as it will use the users input to save the information about the user and then that data will be inputted in the database.\n",
    "- Row 3: I will use data abstraction to allow my code to be as minimal as possible while managing complexity. I will try and use other ways than a list to store my data.\n",
    "- Row 4: The parameters of username, birthday, and password will be set as a result of calling these procedures, but there will not be any output, the data will just be stored.\n",
    "- Row 5: \n",
    "- Row 6:\n"
   ]
  }
 ],
 "metadata": {
  "kernelspec": {
   "display_name": "Python 3.9.6 64-bit",
   "language": "python",
   "name": "python3"
  },
  "language_info": {
   "name": "python",
   "version": "3.9.6"
  },
  "orig_nbformat": 4,
  "vscode": {
   "interpreter": {
    "hash": "31f2aee4e71d21fbe5cf8b01ff0e069b9275f58929596ceb00d14d90e3e16cd6"
   }
  }
 },
 "nbformat": 4,
 "nbformat_minor": 2
}
