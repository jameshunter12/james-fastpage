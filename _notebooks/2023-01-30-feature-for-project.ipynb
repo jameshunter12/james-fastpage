{
 "cells": [
  {
   "cell_type": "markdown",
   "metadata": {},
   "source": [
    "# College Board Plan\n",
    "- toc: true \n",
    "- badges: true\n",
    "- comments: true\n",
    "- categories: [markdown]"
   ]
  },
  {
   "cell_type": "markdown",
   "metadata": {},
   "source": [
    "# College Board Criteria (Sign Up)\n",
    "- Row 1: It will function as an input and output because the user will input the parameters of their personal data that will then be stored and then it can be used in the furture for them to log in with.\n",
    "- Row 2: Data will be stored through this feature as it will use the users input to save the information about the user and then that data will be inputted in the database.\n",
    "- Row 3: I will use data abstraction to allow my code to be as minimal as possible while managing complexity. I will try and use other ways than a list to store my data.\n",
    "- Row 4: The parameters of username, birthday, and password will be set as a result of calling these procedures, but there will not be any output, the data will just be stored.\n",
    "- Row 5: I can implement a selection that can be used to select a good password. If the password is weak it will not be selected and they will have to make a better password.\n",
    "- Row 6: There will be inputs from the user that will be stored and they will use to sign in after they sign up.\n"
   ]
  },
  {
   "cell_type": "markdown",
   "metadata": {},
   "source": [
    "# Code Plan\n",
    "- The code plan is to first setup the frontend by 2/3 getting all buttons and user input sections displayed to fast pages. Then I will create the databases of each of the users. After I will code the buttons in order to fetch the from the database using fetch in javascript, database with python, and frontend with sass and html. This will take me a couple of weeks  but it will need a lot of planning to make sure that there is there is time to correct error and get perfection. I also want to have enough time to create a confirm password and a password strength checker."
   ]
  },
  {
   "cell_type": "markdown",
   "metadata": {},
   "source": [
    "# Video Plan\n",
    "- In the video I will create scenarios where a person wants to sign up and I will create features that allows them to sign up and then sign in. I can show my use of parameters and procedures by adding a username, password, and confirm password. The user information will be stored and then they can use that information to login in."
   ]
  }
 ],
 "metadata": {
  "kernelspec": {
   "display_name": "Python 3.9.6 64-bit",
   "language": "python",
   "name": "python3"
  },
  "language_info": {
   "name": "python",
   "version": "3.9.6"
  },
  "orig_nbformat": 4,
  "vscode": {
   "interpreter": {
    "hash": "31f2aee4e71d21fbe5cf8b01ff0e069b9275f58929596ceb00d14d90e3e16cd6"
   }
  }
 },
 "nbformat": 4,
 "nbformat_minor": 2
}
