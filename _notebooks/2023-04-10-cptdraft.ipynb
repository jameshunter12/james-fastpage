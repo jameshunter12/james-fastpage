{
 "cells": [
  {
   "cell_type": "markdown",
   "metadata": {},
   "source": [
    "# CPT Draft\n",
    "\n",
    "- toc: true \n",
    "- badges: true\n",
    "- comments: true\n",
    "- categories: [markdown]"
   ]
  },
  {
   "cell_type": "markdown",
   "metadata": {},
   "source": [
    "### Procedural Abstraction, discussion on code and abstraction techniques used: Frontend/Backend, Functions, Classes, etc\n",
    "\n"
   ]
  },
  {
   "cell_type": "markdown",
   "metadata": {},
   "source": [
    "- The program allows for the user to input an activity that they participated in. The list of activities are easily updated with the frontend page, so that it can allow all of the users to see new activities that have been added.\n",
    "- The users are offered 3 boxes that are used to input their information about the activity like the name of the activity, the address of the activity, and their rating of the activity. Once all 3 boxes are filled out the user clicks the “add” button, which then allows their information to be displayed into the table on the site.\n",
    "- The initial call verifies if the response status is 200, in which case the information from the database won't be displayed on the frontend.\n",
    "- The subsequent call verifies if the information obtained from the database is correct and readable, and if so, it's displayed on the frontend as a result.\n",
    "\n",
    "- <img src=\"class.png\"  width=\"850\" height=\"200\">"
   ]
  },
  {
   "cell_type": "markdown",
   "metadata": {},
   "source": [
    "### Data Abstraction, discussion on data used and data structures to support project: JSON, Dictionaries, Lists, and/or Database Tables.\n"
   ]
  },
  {
   "cell_type": "markdown",
   "metadata": {},
   "source": [
    "- An SQLite Database was used, and within the Database, there was a table that contained all of the data that was being collected about each of the activities. The name of the class, which is “ActivityDay”, has the table called “ActivityTime” inside of it.\n",
    "- The data inside the table of SQLite Database represents all the activities and the associated information with them. This includes the activity name, the address of the activity, and the level of fun.\n",
    "- The table named “ActivityTime” manages complexity because when the user inputs information about an activity the frontend is automatically updated. If I were to use a list it would be a lot worse because you would have to automatically update it, but with an SQLite Database it allows for automatic updates.\n",
    "- The first call is checking if the error response status is equivalent to 200 or not.\n",
    "- The second call is verifying if there is any readable information available in the SQLite Database and if it can be presented on the frontend in a user-friendly format.\n",
    "\n",
    "- <img src=\"database.png\"  width=\"850\" height=\"300\">"
   ]
  },
  {
   "cell_type": "markdown",
   "metadata": {},
   "source": [
    "### Usage of Control Structures, ie Iteration and Conditional Statements. Areas where you use lists and interation in Frontend Display. Areas were you decide and execulte different paths of code, for instance Create vs Read vs Update vs Delete. Also, show a function where a different parameter or condition causes a differen result."
   ]
  },
  {
   "cell_type": "markdown",
   "metadata": {},
   "source": [
    "- The function involved is called \"read_users()\", and it enables the frontend of the site to display the activities and their corresponding identifiers stored in the database's table. The function takes in a parameter called \"read_options\", which is retrieved using the code snippet provided above. The information retrieved from the database is formatted as JSON and presented in a readable manner on the site's frontend.\n",
    "- The fetching algorithm includes a constant called \"errorMsg\" that is printed to the console if certain error conditions are met. The algorithm uses the JavaScript Fetch feature to obtain the required data from the API, and an if-statement is used to filter response errors by checking if the response status is 200. If the status is not 200, iteration is used to search for matching row data in the SQLite Database Table \"ActivityTime\". The order of the steps in this function is crucial. When a match is found, the data is displayed in a readable JSON format on the frontend site for all users to see.\n",
    "- The outcome of the first call is that any invalid data won't be displayed on the frontend of the website for users to read.\n",
    "- The result of the second call is that all valid data is added to the frontend table, and it's presented in a readable manner for all users of the website feature.\n",
    "\n",
    "- <img src=\"read.png\"  width=\"700\" height=\"300\">\n",
    "- <img src=\"fetch.png\"  width=\"850\" height=\"450\">"
   ]
  }
 ],
 "metadata": {
  "kernelspec": {
   "display_name": "Python 3.9.12 ('base')",
   "language": "python",
   "name": "python3"
  },
  "language_info": {
   "name": "python",
   "version": "3.9.12"
  },
  "orig_nbformat": 4,
  "vscode": {
   "interpreter": {
    "hash": "40d3a090f54c6569ab1632332b64b2c03c39dcf918b08424e98f38b5ae0af88f"
   }
  }
 },
 "nbformat": 4,
 "nbformat_minor": 2
}
