{
 "cells": [
  {
   "cell_type": "markdown",
   "metadata": {},
   "source": [
    "# Managing Frontend and Backend\n",
    "- toc: true \n",
    "- badges: true\n",
    "- comments: true\n",
    "- categories: [markdown]"
   ]
  },
  {
   "cell_type": "markdown",
   "metadata": {},
   "source": [
    "## Frontend\n",
    "- When working on frontend code the way you present it is very important. You want to make your code/cite look as professional as possible, so things like punctuation and capitalization can play a big role. Other things like the font you select and the color scheme can really make or break your project.\n",
    "\n",
    "- Break your code into smaller, more manageable modules that can be easily reused and maintained. This will make it easier to track changes, debug errors and update your code in the future.\n",
    "\n",
    "- Creating space for users to input their own ideas is very important as it keeps them engaged in your cite. Buttons and areas where users can type are great ways to keep users interacted.\n",
    "\n",
    "- Write clean and organized code: Make sure your code is readable and organized, with consistent naming conventions and indentation. This will make it easier to understand, update and maintain your code.\n",
    "\n",
    "\n",
    "- Use version control: Version control tools like Git can help you manage changes to your code, collaborate with others and track your progress. This is particularly important when working on larger projects with multiple team members.\n"
   ]
  },
  {
   "cell_type": "markdown",
   "metadata": {},
   "source": [
    "## Backend\n",
    "- Similar to frontend write clean and organized code and make sure your code is readable and organized, with consistent naming conventions and indentation. This will make it easier to understand, update and maintain your code. It is also important to remove unnecessary lines of code as it can make your code more complicated than it needs to be. \n",
    "\n",
    "- Testing your code first is very important, so using something like a local server is very important. You do not want to push code that is incorrect and could potentially break your cite. It is always good to be safe and make sure your code works before you do anything major.\n",
    "\n",
    "- Creating comments is also something that is very important because it will not only allow you to understand your own code, but it can be used to teach others about your code. There can sometimes be lots of lines that are confusing, so it is important to clarify the pupose of those lines.\n",
    "\n",
    "- Double check to make sure you user.api and user.py is correct as that will cause problems. It is also important to make sure you are updating your main.py files because that will allow you to test your code locally.\n",
    "\n"
   ]
  },
  {
   "cell_type": "markdown",
   "metadata": {},
   "source": [
    "# Both\n",
    "- When working with a team COMMUNICATION is so important as it connects the team together. If you are not communicating then you could be creating things that some one has already made or it could lead to problems with your cite. For example if some one commits and doesn't tell anyone to pull that would lead to unnecessary problems that could have been easily fixed."
   ]
  }
 ],
 "metadata": {
  "kernelspec": {
   "display_name": "Python 3.9.6 64-bit",
   "language": "python",
   "name": "python3"
  },
  "language_info": {
   "name": "python",
   "version": "3.9.6"
  },
  "orig_nbformat": 4,
  "vscode": {
   "interpreter": {
    "hash": "31f2aee4e71d21fbe5cf8b01ff0e069b9275f58929596ceb00d14d90e3e16cd6"
   }
  }
 },
 "nbformat": 4,
 "nbformat_minor": 2
}
