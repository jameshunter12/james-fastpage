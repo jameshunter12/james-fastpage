{
 "cells": [
  {
   "attachments": {},
   "cell_type": "markdown",
   "metadata": {},
   "source": [
    "# Sorting Algorithms\n",
    "> Working with Data Structures and manipulating data.\n",
    "\n",
    "- toc: true\n",
    "- categories: []\n",
    "- type: pbl\n",
    "- week: 34"
   ]
  },
  {
   "attachments": {},
   "cell_type": "markdown",
   "metadata": {},
   "source": [
    "[wget link](https://raw.githubusercontent.com/nighthawkcoders/APCSP/master/_notebooks/2023-05-15-DS-sorting.ipynb)"
   ]
  },
  {
   "cell_type": "code",
   "execution_count": 2,
   "metadata": {},
   "outputs": [
    {
     "name": "stdout",
     "output_type": "stream",
     "text": [
      "Random List\n",
      "[77, 95, 46, 28, 32, 27, 85, 40, 40, 72]\n"
     ]
    }
   ],
   "source": [
    "import random\n",
    "\n",
    "numbers = []\n",
    "for i in range(10):\n",
    "    numbers.append(random.randint(0,100))\n",
    "print(\"Random List\")\n",
    "print(numbers)"
   ]
  },
  {
   "attachments": {},
   "cell_type": "markdown",
   "metadata": {},
   "source": [
    "# Warm Up\n",
    "\n",
    "> Discuss with a partner... \n",
    "What are some strategies you would use to sort this list? (Don't worry about writing code for now)\n",
    "- Go through and find the smallest number and move it to the left and move the larger nunbers to the right"
   ]
  },
  {
   "attachments": {},
   "cell_type": "markdown",
   "metadata": {},
   "source": [
    "# Explore\n",
    "\n",
    "Get into groups of 3\n",
    "\n",
    "We will be focusing on 4 algorithms today.\n",
    "\n",
    "We will look at the first one together, Bubble Sort\n",
    "\n",
    "![](images/bubble-sort.png)\n",
    "\n",
    "What is happening with this sort?\n",
    "In your groups you will each choose to be an expert on a sorting algorithm. Merge, Selection, and Insertion.\n",
    "Take about 5 minutes to read about your algorithm (Geek for Geeks linked below) and be ready to explain it to your other group members. \n",
    "- For merge sort it merges together 2 lists and puts it in order and then merges it again till all values are together.\n",
    "- For selection it goes through each value and puts it in the correct spot\n",
    "- For insertion it compares 2 values and moves it left or right depending on if it is greater than or less than the other\n",
    "\n",
    "[Merge](https://www.geeksforgeeks.org/merge-sort/#)\n",
    "\n",
    "[Selection](https://www.geeksforgeeks.org/selection-sort/)\n",
    "\n",
    "[Insertion](https://www.geeksforgeeks.org/insertion-sort/)"
   ]
  },
  {
   "attachments": {},
   "cell_type": "markdown",
   "metadata": {},
   "source": [
    "## Practice\n",
    "\n",
    "[75, 17, 46, 80, 67, 45, 69, 79, 40, 0]\n",
    "\n",
    "How would you sort this list with... \n",
    "- Bubble Sort\n",
    "- Selection Sort\n",
    "> Explain.\n",
    "\n",
    "[88, 39, 53, 39, 58, 43, 74, 81, 71, 51]\n",
    "\n",
    "How would you sort this list with... \n",
    "- Merge Sort\n",
    "- Insertion Sort\n",
    "> Explain.\n"
   ]
  },
  {
   "attachments": {},
   "cell_type": "markdown",
   "metadata": {},
   "source": [
    "# Sorting Words\n",
    "> Sorting strings works in the same way as integers. Using your expertise algorithm, sort the following list of random words."
   ]
  },
  {
   "cell_type": "code",
   "execution_count": 8,
   "metadata": {},
   "outputs": [
    {
     "name": "stdout",
     "output_type": "stream",
     "text": [
      "Random List\n",
      "['miserdom', 'semifitting', 'shindle', 'scolding', 'libertinage', 'inopine', 'inirritative', 'Syriac', 'conjoin', 'segmentate']\n",
      "\n",
      "Sorted List\n",
      "['Syriac', 'conjoin', 'inirritative', 'inopine', 'libertinage', 'miserdom', 'scolding', 'segmentate', 'semifitting', 'shindle']\n"
     ]
    },
    {
     "name": "stderr",
     "output_type": "stream",
     "text": [
      "[nltk_data] Downloading package words to\n",
      "[nltk_data]     /Users/jameshunter/nltk_data...\n",
      "[nltk_data]   Package words is already up-to-date!\n"
     ]
    }
   ],
   "source": [
    "import nltk\n",
    "import random\n",
    "\n",
    "nltk.download('words')  # Download the word list (only required once)\n",
    "\n",
    "from nltk.corpus import words\n",
    "\n",
    "english_words = words.words()\n",
    "#print(len(english_words))  # Prints the number of words in the list\n",
    "\n",
    "# You can now use the 'english_words' list in your code\n",
    "\n",
    "words = []\n",
    "for i in range(10):\n",
    "    words.append(english_words[random.randint(0,len(english_words))])\n",
    "print(\"Random List\")\n",
    "print(words)\n",
    "\n",
    "for i in range(len(words)):\n",
    "    min_index = i\n",
    "    for j in range(i + 1, len(words)):\n",
    "        if words[j] < words[min_index]:\n",
    "            min_index = j\n",
    "    words[i], words[min_index] = words[min_index], words[i]\n",
    "\n",
    "print(\"\\nSorted List\")\n",
    "print(words)"
   ]
  },
  {
   "attachments": {},
   "cell_type": "markdown",
   "metadata": {},
   "source": [
    "## Discuss \n",
    "Answer the following with your group.\n",
    "\n",
    "- When should you use each algorithm? What makes an algorithm the right choice?\n",
    "- Given the following lists...\n",
    "    - [0, 2, 6, 4, 8, 10]\n",
    "    - [Elephant, Banana, Cat, Dog, Apple]\n",
    "    - [29, 13, 83, 47, 32, 78, 100, 60, 65, 15, 24, 9, 40, 68, 53, 8, 90, 58, 39, 32, 34, 91, 74, 94, 49, 87, 34, 87, 23, 17, 27, 2, 38, 58, 84, 15, 9, 46, 74, 40, 44, 8, 55, 28, 81, 92, 81, 88, 53, 38, 19, 21, 9, 54, 21, 67, 3, 41, 3, 74, 13, 71, 70, 45, 5, 36, 80, 64, 97, 86, 73, 74, 94, 79, 49, 32, 20, 68, 64, 69, 1, 77, 31, 56, 100, 80, 48, 75, 85, 93, 67, 57, 26, 56, 43, 53, 59, 28, 67, 50]\n",
    "Select the algorithm you believe is best for each, explain."
   ]
  },
  {
   "attachments": {},
   "cell_type": "markdown",
   "metadata": {},
   "source": [
    "## HACKS\n",
    "> Provided below is a Bubble Sort Algorithm sorting a list of dictionaries based off of selected key.\n",
    "\n",
    "- Now it's time to do some coding...\n",
    "\n",
    "- Run code and then research and answer these questions...\n",
    "    - Is a list and/or dictionary in python considered a primitive or collection type?  Why?\n",
    "    - - A list and a dictionary in Python are considered collection types.\n",
    "A list is a collection of ordered and mutable elements. It can contain elements of different data types and allows duplicate values. Lists are defined using square brackets ([]) and can be accessed by index.\n",
    "    - Is the list passed into bubble sort \"pass-by-value\" or \"pass-by-reference? Describe why in relation to output.\n",
    "    - - In the given code, the list passed into the bubble sort function is passed by reference.\n",
    "In Python, objects such as lists are passed by reference. When a list is passed as an argument to a function, the function receives a reference to the original list object, not a copy. Any modifications made to the list within the function will affect the original list.\n",
    "\n",
    "- Implement new cell(s) and/or organize cells to do the following.\n",
    "    - Create your own list\n",
    "    - Use your expertise sorting algorithm (selection, insertion, merge). Note, I got my bubble sort from Geek for Geeks and made modifications. Each student in a group should have a unique algorithm.\n",
    "    - Test your list with my bubble sort\n",
    "    - Test my list with your new sort\n",
    "    - Research analysis on sorting: comparisons, swaps, time.  Build this into your hacks.\n",
    "    - Find a better way to print the data, key first, then other elements in viewable form.\n",
    "\n",
    "Use the code below to help guide your adventure"
   ]
  },
  {
   "cell_type": "code",
   "execution_count": 10,
   "metadata": {},
   "outputs": [
    {
     "name": "stdout",
     "output_type": "stream",
     "text": [
      "Original List: ['LeBron', 'AD', 'KD', 'CP3', 'Kawhi']\n",
      "Sorted List (Insertion Sort): ['AD', 'CP3', 'KD', 'Kawhi', 'LeBron']\n"
     ]
    }
   ],
   "source": [
    "nba = [\"LeBron\", \"AD\", \"KD\", \"CP3\", \"Kawhi\"]\n",
    "\n",
    "def insertionSort(arr):\n",
    "    n = len(arr)\n",
    "    for i in range(1, n):\n",
    "        key = arr[i]\n",
    "        j = i - 1\n",
    "        while j >= 0 and arr[j] > key:\n",
    "            arr[j + 1] = arr[j]\n",
    "            j -= 1\n",
    "        arr[j + 1] = key\n",
    "\n",
    "# Test the insertion sort algorithm\n",
    "nba = [\"LeBron\", \"AD\", \"KD\", \"CP3\", \"Kawhi\"]\n",
    "print(\"Original List:\", nba)\n",
    "insertionSort(nba)\n",
    "print(\"Sorted List (Insertion Sort):\", nba)\n"
   ]
  },
  {
   "cell_type": "markdown",
   "metadata": {},
   "source": [
    "## Bubble Sort"
   ]
  },
  {
   "cell_type": "code",
   "execution_count": 12,
   "metadata": {},
   "outputs": [
    {
     "name": "stdout",
     "output_type": "stream",
     "text": [
      "Original List: ['LeBron', 'AD', 'KD', 'CP3', 'Kawhi']\n",
      "Sorted List (Bubble Sort): ['AD', 'CP3', 'KD', 'Kawhi', 'LeBron']\n"
     ]
    }
   ],
   "source": [
    "def bubbleSort(arr):\n",
    "    n = len(arr)\n",
    "    for i in range(n - 1):\n",
    "        swapped = False\n",
    "        for j in range(n - i - 1):\n",
    "            if arr[j] > arr[j + 1]:\n",
    "                arr[j], arr[j + 1] = arr[j + 1], arr[j]\n",
    "                swapped = True\n",
    "        if not swapped:\n",
    "            break\n",
    "\n",
    "# Test the bubble sort algorithm\n",
    "nba = [\"LeBron\", \"AD\", \"KD\", \"CP3\", \"Kawhi\"]\n",
    "print(\"Original List:\", nba)\n",
    "bubbleSort(nba)\n",
    "print(\"Sorted List (Bubble Sort):\", nba)"
   ]
  },
  {
   "cell_type": "code",
   "execution_count": 11,
   "metadata": {},
   "outputs": [
    {
     "name": "stdout",
     "output_type": "stream",
     "text": [
      "Original\n",
      "[{'name': 'Risa', 'age': 18, 'city': 'New York'}, {'name': 'John', 'age': 63, 'city': 'Eugene'}, {'name': 'Shekar', 'age': 18, 'city': 'San Francisco'}, {'name': 'Ryan', 'age': 21, 'city': 'Los Angeles'}]\n",
      "name\n",
      "[{'name': 'John', 'age': 63, 'city': 'Eugene'}, {'name': 'Risa', 'age': 18, 'city': 'New York'}, {'name': 'Ryan', 'age': 21, 'city': 'Los Angeles'}, {'name': 'Shekar', 'age': 18, 'city': 'San Francisco'}]\n",
      "age\n",
      "[{'name': 'Risa', 'age': 18, 'city': 'New York'}, {'name': 'Shekar', 'age': 18, 'city': 'San Francisco'}, {'name': 'Ryan', 'age': 21, 'city': 'Los Angeles'}, {'name': 'John', 'age': 63, 'city': 'Eugene'}]\n",
      "city\n",
      "[{'name': 'John', 'age': 63, 'city': 'Eugene'}, {'name': 'Ryan', 'age': 21, 'city': 'Los Angeles'}, {'name': 'Risa', 'age': 18, 'city': 'New York'}, {'name': 'Shekar', 'age': 18, 'city': 'San Francisco'}]\n"
     ]
    }
   ],
   "source": [
    "\"\"\"\n",
    "* Creator: Nighthawk Coding Society\n",
    "Bubble Sort of a List with optimizations\n",
    "\"\"\"\n",
    "\n",
    "# bubble sorts a list of dictionaries, base off of provided key\n",
    "def bubbleSort(list, key):\n",
    "    n = len(list) - 1  # list are indexed 0 to n-1, len is n\n",
    "    \n",
    "    # Traverse through list with i index\n",
    "    for i in range(n):\n",
    "        swapped = False  # optimize code, so it exits if now swaps on inner loop\n",
    "\n",
    "        # Inner traversal using j index\n",
    "        for j in range(n-i):  # n-i as positions on right are in order in bubble\n",
    " \n",
    "            # Swap if the element KeyN is greater KeyN1\n",
    "            keyN = list[j].get(key)\n",
    "            keyN1 = list[j+1].get(key)\n",
    "            if keyN > keyN1:\n",
    "                swapped = True\n",
    "                list[j], list[j + 1] = list[j + 1], list[j]  # single line swap\n",
    "         \n",
    "        if not swapped:  # if no swaps on inner pass, list is sorted\n",
    "            return  # exit function\n",
    "    \n",
    "\n",
    "if __name__ == \"__main__\":\n",
    "    # list/dictionary sample\n",
    "    list_of_people = [\n",
    "    {\"name\": \"Risa\", \"age\": 18, \"city\": \"New York\"},\n",
    "    {\"name\": \"John\", \"age\": 63, \"city\": \"Eugene\"},\n",
    "    {\"name\": \"Shekar\", \"age\": 18, \"city\": \"San Francisco\"},\n",
    "    {\"name\": \"Ryan\", \"age\": 21, \"city\": \"Los Angeles\"}\n",
    "    ]\n",
    "    \n",
    "    # assuming uniform keys, pick 1st row as source of keys\n",
    "    key_row = list_of_people[0]\n",
    "\n",
    "    # print list as defined\n",
    "    print(\"Original\")\n",
    "    print(list_of_people)\n",
    "    \n",
    "    for key in key_row:  # finds each key in the row\n",
    "        print(key)\n",
    "        bubbleSort(list_of_people, key)  # sort list of people\n",
    "        print(list_of_people)"
   ]
  }
 ],
 "metadata": {
  "kernelspec": {
   "display_name": "Python 3.9.12 ('base')",
   "language": "python",
   "name": "python3"
  },
  "language_info": {
   "codemirror_mode": {
    "name": "ipython",
    "version": 3
   },
   "file_extension": ".py",
   "mimetype": "text/x-python",
   "name": "python",
   "nbconvert_exporter": "python",
   "pygments_lexer": "ipython3",
   "version": "3.9.12"
  },
  "orig_nbformat": 4,
  "vscode": {
   "interpreter": {
    "hash": "40d3a090f54c6569ab1632332b64b2c03c39dcf918b08424e98f38b5ae0af88f"
   }
  }
 },
 "nbformat": 4,
 "nbformat_minor": 2
}
