{
 "cells": [
  {
   "cell_type": "code",
   "execution_count": null,
   "metadata": {},
   "outputs": [],
   "source": [
    "## Chaning Remote Theme \n",
    "#My Attempt at Changing the Remote Theme\n"
   ]
  },
  {
   "cell_type": "markdown",
   "metadata": {},
   "source": [
    "- toc: true \n",
    "- badges: true\n",
    "- comments: true\n",
    "- categories: [jupyter, ]"
   ]
  },
  {
   "cell_type": "markdown",
   "metadata": {},
   "source": [
    "![](https://lh3.googleusercontent.com/0mOfPDuxts-BM5EgqmaJB8tkmZDiVGrCmrtIqC1POq332eSfRlGESLl0WZrgwjxW8XBLGISeUIrW72SDGa-3e8dcPRPIavYSurtQCPFJacpHashJ5q6cL8guCwReVtY0fOOWeJY_qJM38z4VB20NTf82CzRq9QcyJABzd7HF2cNopFUvjBDa50nxabNiVbL_hf95mtMPUSbYI-PE3WAMYcc2MyrVr5A1qaymaf7577o26BV9eAvjAkCCRw76gv3rImOeLRGWJEDHCJCQOYLRGULNUQQwdTXVOQ0QdtMzuCNegxC00qAgwosLtFDEPz1lVaEiRS-hZB5w8NAEI8LwwFNK1DeO7pEz8Tf-WEZW2qggMKjJpMvbZjQc9e65tsdV-yKmHO3vIUKTMgDjNqdJsyCE1W9eQaBTuk7SAdlTzKnPdB3VAFUBwP07bIAbzxhu4qWrVo_5FndQ2y61XBL-ArioA3Vu_yCnXvrsJsqM7AfqF94fECrW6rHEF8rsKp5C_oYGJR1HJ4TnEZSfiiVWxk1FJxG7UNjbNhhjwtqfIcsLILhKajhV1Wu7eRmegl5lKokH6DiGzaxzsw37M8mybEwtIIVYPigtaPAok0BqYb8KG-C2QDSoT37TpGgOx53gAEiE3veG_VPJQ8S_KGG7ExdoCo4AtWVbeZNNjHePhNqGk1ykAlLNFyXFcTzCKXyDVKL3VnG1CjoeVH8OkJ063gwEpg3osI-_q8ygPiaILirHamA6KlkZfOZZ8hA=w878-h146-no?authuser=0)"
   ]
  },
  {
   "cell_type": "markdown",
   "metadata": {},
   "source": [
    "![](https://lh3.googleusercontent.com/qAPXEL_0qVvFZBKXgsuEHDAgLV7a6uiloIo6qYVAoWPOP7hnvXkQFMfOEeDWHsztIlzqNOinaBb_hRPtraxT0GpMe7hch4hm-L8tKuBVlHbBrwjhojzkToabmAKYu-hVJOVIznnyxwZUsIblbzSVTPeHrZOtyy7_B3skXUtShMAFGplOla_of04M8wIQfmvogw6rBvE4FaV4wPW5hbEZG_2jqqXoJnqKqtXA2_CYl7LiHODSfQqEY_5pW8AARY5aX3n0zpLWND31LJbb09mYMMdk-T_X81-Q18BKuO8PLrK-AtJUWH4b97nHxkPiAsMnJ0HNc7yohe98lNSstWT8QJ2hvkseuRo7nl3sbcQu10L9fVdceplUEtN2EbZyDxRODxgL8yuBklFkM4y1OHE1S9SfwE9AWMlEMe5LbX1RRckb9Me5H4iBzBbs6KcTpkDSz6UYDTRo--YZCJDBHksngN5duJzFxvcQpeNdoq1B742QOAThWz2b8gabbmRuUFZkCPrIW_HHx7TUf0R79_A76VxkVxE5Qgw4dXRFChphTFo19mYQvqnlUVOwEB8IfdQ_EfL4nrbTO0HaZNFujfSgGvV4_pKM0beJt-48_LC6UsU0duYxJOqUC04X0IFL3P1cFqc4V4TSnruaAWYrH_WjtUzzbPNT4odaYr1yveKsYcO7gZVqxuxImOB3QaIJQxWr3XfnHOx6N10rkVcsNVMQLyQO6h9z7iDR_SM8f9ujxbQ4KdP-FiKJAaJJ9nI=w2880-h1642-no?authuser=0)"
   ]
  }
 ],
 "metadata": {
  "kernelspec": {
   "display_name": "Python 3.8.9 64-bit",
   "language": "python",
   "name": "python3"
  },
  "language_info": {
   "name": "python",
   "version": "3.8.9"
  },
  "orig_nbformat": 4,
  "vscode": {
   "interpreter": {
    "hash": "31f2aee4e71d21fbe5cf8b01ff0e069b9275f58929596ceb00d14d90e3e16cd6"
   }
  }
 },
 "nbformat": 4,
 "nbformat_minor": 2
}
