{
 "cells": [
  {
   "cell_type": "markdown",
   "metadata": {},
   "source": [
    "# 3.2 Data Abstraction Video 2\n",
    "> Using lists as an abstraction to manage the complexity of a program.\n",
    "\n",
    "- toc: true \n",
    "- badges: true\n",
    "- comments: true\n",
    "- categories: [jupyter]\n"
   ]
  },
  {
   "cell_type": "markdown",
   "metadata": {},
   "source": [
    "# Lists\n",
    "**Lists allow for data abstraction**\n",
    "- Variables like strings, numbers, characters, and more can be bundled together\n",
    "- It could be empty from the start and you can add more variables as needed\n",
    "- If you set one list equal to another list, or transfer data from one list to another, the data will be completely replaced. \n",
    "- You can also append data from one list to another, keeping the old data and adding the new data.\n",
    "\n",
    "# Key Vocabulary \n",
    "- *list*: a sequence of several variables grouped together\n",
    "- *variable*: a way of storing information in a computer program, which could later be changed, referenced, and used\n",
    "- *data types*: a set of values and operations on those values\n",
    "- *abstract data types*: a data type whose internal representation is hidden from the client\n",
    "- *client*: a program that uses a data type\n",
    "- *objects*: a structure  that can take on a data-type value \n",
    "- *Applications programming interface (API)*: which is a list of constructors and instance methods or operations, used to specify the behavior of an abstract data type\n",
    "\n",
    "# Big Ideas\n",
    "1. Lists can store any types of elements. \n",
    "2. In all lists operations, if a list index is less than 1 or greater than the length of the list, an error message is made and the program will terminate. \n",
    "3. Data abstraction provides a separation between the abstract properties of a data type and the concrete details of its representation. \n",
    " "
   ]
  },
  {
   "cell_type": "markdown",
   "metadata": {},
   "source": [
    "# 1. Your turn to interact, try it now!\n",
    "Modify the list to change the length to 5."
   ]
  },
  {
   "cell_type": "code",
   "execution_count": 3,
   "metadata": {},
   "outputs": [],
   "source": [
    "languages_list = []\n",
    "languages_list = [\"Python\", \"C++\", \"JavaScript\", \"Apple\", \"Caleb\"]"
   ]
  },
  {
   "cell_type": "markdown",
   "metadata": {},
   "source": [
    "# 2. Change the following code to print out the list.\n"
   ]
  },
  {
   "cell_type": "code",
   "execution_count": 2,
   "metadata": {},
   "outputs": [
    {
     "name": "stdout",
     "output_type": "stream",
     "text": [
      "['Python', 'C++', 'JavaScript', 'Apple', 'Caleb']\n"
     ]
    }
   ],
   "source": [
    "languages_list = []\n",
    "languages_list = [\"Python\", \"C++\", \"JavaScript\", \"Apple\", \"Caleb\"]\n",
    "print(languages_list)"
   ]
  },
  {
   "cell_type": "markdown",
   "metadata": {},
   "source": [
    "# 3. Change the following code to print out only \"Python\"\n"
   ]
  },
  {
   "cell_type": "code",
   "execution_count": 11,
   "metadata": {},
   "outputs": [
    {
     "name": "stdout",
     "output_type": "stream",
     "text": [
      "Python\n"
     ]
    }
   ],
   "source": [
    "languages_list = []\n",
    "languages_list = [\"Python\", \"C++\", \"JavaScript\"]\n",
    "print(languages_list[0])"
   ]
  },
  {
   "cell_type": "markdown",
   "metadata": {},
   "source": [
    "# 4. Replace contents/data of listA with contents/data from listB.\n",
    "Print listA out afterward"
   ]
  },
  {
   "cell_type": "code",
   "execution_count": 2,
   "metadata": {},
   "outputs": [
    {
     "name": "stdout",
     "output_type": "stream",
     "text": [
      "[22, 7, 13]\n"
     ]
    }
   ],
   "source": [
    "listA = [1, 55, 8, 2, 76]\n",
    "listB = [22, 7, 13]\n",
    "listA = listB\n",
    "\n",
    "print(listA)"
   ]
  },
  {
   "cell_type": "markdown",
   "metadata": {},
   "source": [
    "# 5. Make 2 lists:\n",
    "- a list of string data\n",
    "- a list of number data\n",
    "- the length of the each list is a minimum of 4 \n",
    "- change the names of the lists"
   ]
  },
  {
   "cell_type": "code",
   "execution_count": 14,
   "metadata": {},
   "outputs": [],
   "source": [
    "list9 = [\"apple, banana, cat, food\"]\n",
    "list10 = [1, 4, 5 , 7]\n"
   ]
  },
  {
   "cell_type": "markdown",
   "metadata": {},
   "source": [
    "# 6. Combine the list to contain all of the data from both lists.\n",
    "<details closed>\n",
    "<summary>Hint!</summary>\n",
    "Use extend or append\n",
    "</details>"
   ]
  },
  {
   "cell_type": "code",
   "execution_count": 22,
   "metadata": {},
   "outputs": [
    {
     "name": "stdout",
     "output_type": "stream",
     "text": [
      "['apple, banana, cat, food', 1, 4, 5, 7]\n"
     ]
    }
   ],
   "source": [
    "list9 = [\"apple, banana, cat, food\"]\n",
    "list10 = [1, 4, 5 , 7]\n",
    "\n",
    "print(list9 + list10)"
   ]
  },
  {
   "cell_type": "markdown",
   "metadata": {},
   "source": [
    "# A Little Bit on Binary\n",
    "- A type of positional number system, with the base of 2 and uses exponents within it.\n",
    "- It is represented in zeroes and ones, each different column, lightbulb, or place representing a different value. From the right it starts as 2^0 which equals 1, then 2^1 = 2, then 2^2 = 4, and so on\n",
    "- It connects with data abstraction because the more complex data, calculating the value, is represented in binary with base of 2, however it is simplified to only show  combinations of the digits zero and one. \n",
    "\n",
    "---"
   ]
  },
  {
   "cell_type": "markdown",
   "metadata": {},
   "source": [
    "# Binary Hacks 3.2 Part 2\n",
    "Convert these binary notation to decimal notation. (the way we normally count)\n",
    "\n",
    "1. The binary number 111 is 7\n",
    "  \n",
    "---\n",
    "\n",
    "2. The binary number 1011 is 11\n",
    "  \n",
    "---\n",
    "\n",
    "3. The binary number 1101011 is 107\n",
    "\n",
    "---\n",
    "\n",
    "Convert the decimal notation to binary notation. (You can use the Binary Math from Mr. Yeung or the one you have)\n",
    "1. 12 in binary is 1100\n",
    "\n",
    "---\n",
    "\n",
    "2. 44 in binary is 101100\n",
    "\n",
    "---\n",
    "\n",
    "3. 254 in binary is 11111110\n",
    "   \n",
    "--- \t\n",
    "\n",
    "## Extra Binary Hacks if you changed your bits to 24\n",
    "Convert decimal notation to binary notation. \n",
    "1. 57345 in binary is 1110000000000001\n",
    "   \n",
    "---\n",
    "\n",
    "2. 16777215 in binary is 111111111111111111111111\n",
    "    \n",
    "---\n",
    "\n",
    "3. 11184810 in binary is 101010101010101010101010\n",
    "   \n",
    "---\n",
    "\n",
    "Convert the binary notation to decimal notation\n",
    "1. 101011101010 in decimal notation is 2794\n",
    "\n",
    "---\n",
    "\n",
    "2. 10011100000 in decimal notation is 1248\n",
    "  \n",
    "---\n",
    "\n",
    "3. 1101001000101000 in decimal notation is 53800\n",
    "    \n",
    "---"
   ]
  },
  {
   "cell_type": "markdown",
   "metadata": {},
   "source": [
    "# Hacks for 3.2 Part 2\n",
    "**Consider the following code segment:**\n",
    "- scores1 <- [89, 78, 92, 63, 95, 88]\n",
    "- scores2 <- [92, 79, 97, 63]\n",
    "- scores1 <- scores2\n",
    "\n",
    "What are the contents of *scores1* after the code segment is executed?: \n",
    "\n",
    "1. [89, 78, 92, 63, 95, 88]\n",
    "2. [89, 78, 92, 63, 95, 88, 92, 79, 97, 63]\n",
    "3. [92, 79, 97, 63, 89, 78, 92, 63, 95, 88]\n",
    "4. <mark>[92, 79, 97, 63]</mark>\n",
    "    \n",
    "<details closed>\n",
    "<summary>Click for the answer!</summary>\n",
    "    4. Because the data is not being appended from scores2 into scores1. \n",
    "</details>\n",
    "\n",
    "--- \n",
    "**Consider the following code segment:**\n",
    "- listA <- [\"Sam\", \"Ann\"]\n",
    "- listB <- [\"Jamal\", \"Tamara\"]\n",
    "- listB <- listA\n",
    "- listA <- listB\n",
    "\n",
    "What are the contents of *listA* after the code segment is executed?\n",
    "\n",
    "1. <mark>[\"Sam\", \"Ann\"]</mark>\n",
    "2. [\"Jamal\", \"Tamara\"]\n",
    "3. [\"Sam\", \"Ann\", \"Jamal\", \"Tamara\"]\n",
    "4. [\"Jamal\", \"Tamara\", \"Sam\", \"Ann\"]\n",
    "\n",
    "<details closed>\n",
    "<summary>Click for the answer!</summary>\n",
    "1. Because all of the data from listA \"Sam\" and \"Ann\" replace what is in listB. So if listB replaces what is in listA, \"Sam\" and \"Ann\" will still be the only data in that list. \n",
    "</details>\n",
    "\n",
    "---\n",
    "**What is the length of this list?**\n",
    "[\"Red\", \"Orange\", \"Yellow\", \"Green\", \"Blue\", \"Purple\"]\n",
    "1. 5\n",
    "2. 7\n",
    "3. <mark>6</mark>\n",
    "4. 4\n",
    "\n",
    "<details closed>\n",
    "<summary>Click for the answer!</summary>\n",
    "3. The length of the list is 6. \n",
    "</details>\n",
    "\n",
    "---\n",
    "**What is the index number of \"Purple\" in this list?**\n",
    "[\"Red\", \"Orange\", \"Yellow\", \"Green\", \"Blue\", \"Purple\"]\n",
    "1. 7\n",
    "2. 0\n",
    "3. 6\n",
    "4. <mark>5</mark>\n",
    "\n",
    "<details closed>\n",
    "<summary>Click for the answer!</summary>\n",
    "4. The index count starts at 0, making \"Red\" 0 and \"Purple\" index 5. \n",
    "</details>\n",
    "\n",
    "---\n",
    "**Which of the following types of data can be stored in a list?**\n",
    "1. Boolean\n",
    "2. String\n",
    "3. Float\n",
    "4. <mark>All of the above</mark>\n",
    "\n",
    "<details closed>\n",
    "<summary>Click for the answer!</summary>\n",
    "4. Any type of data can be stored within a list. A list can contain a mix of types of data. \n",
    "</details>\n",
    "\n",
    "---\n",
    "**Which of the following variables is a float?**\n",
    "1. Apples\n",
    "2. <mark>-106.2</mark>\n",
    "3. 34\n",
    "4. True\n",
    "\n",
    "<details closed>\n",
    "<summary>Click for the answer!</summary>\n",
    "    2. A float is a decimal number.\n",
    "</details>\n",
    "\n",
    "---\n",
    "**If a list has a length of 24 items, what is the index number of the 17th item?**\n",
    "1. 21\n",
    "2. 17\n",
    "3. <mark>16</mark>\n",
    "4. 69\n",
    "\n",
    "<details closed>\n",
    "<summary>Click for the answer!</summary>\n",
    "    3. An index count starts at 0 so the index number of a variable is one less than it's spot in the length. \n",
    "</details>\n",
    "\n",
    "---\n",
    "**A variable is permanent and cannot be changed later on.** \n",
    "1. True\n",
    "2. <mark>False</mark>\n",
    "\n",
    "<details closed>\n",
    "<summary>Click for the answer!</summary>\n",
    "2. False. Variables can be changed later on in the code. \n",
    "</details>\n",
    "\n",
    "---\n",
    "**Which of the following is true about the list?**\n",
    "[\"Apples\", 42.0, \"Bananas\", 0.5, \"Avocado\", -902.2, \"Lychee\", 6.9, \"Orange\", 7.2]\n",
    "\n",
    "1. The list has floats and string variable types.\n",
    "2. The ratio of float variables to string variables is 2:1.\n",
    "3. The length is 9.\n",
    "4. The index of \"Avocado\" is 4.\n",
    "5. All of the above\n",
    "6. <mark>1 and 4</mark>\n",
    "7. 1, 3, and 4\n",
    "\n",
    "<details closed>\n",
    "<summary>Click for the answer!</summary>\n",
    "6. The list has floats or decimals and strings, and the length is 10, the ratio of string to floats is 1:1, and the index number of \"Avocado\" is 4.\n",
    "</details>\n",
    "\n",
    "---\n"
   ]
  }
 ],
 "metadata": {
  "kernelspec": {
   "display_name": "Python 3.8.9 64-bit",
   "language": "python",
   "name": "python3"
  },
  "language_info": {
   "codemirror_mode": {
    "name": "ipython",
    "version": 3
   },
   "file_extension": ".py",
   "mimetype": "text/x-python",
   "name": "python",
   "nbconvert_exporter": "python",
   "pygments_lexer": "ipython3",
   "version": "3.9.6"
  },
  "orig_nbformat": 4,
  "vscode": {
   "interpreter": {
    "hash": "31f2aee4e71d21fbe5cf8b01ff0e069b9275f58929596ceb00d14d90e3e16cd6"
   }
  }
 },
 "nbformat": 4,
 "nbformat_minor": 2
}
