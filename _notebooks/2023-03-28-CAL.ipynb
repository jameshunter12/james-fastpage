{
 "cells": [
  {
   "cell_type": "markdown",
   "metadata": {},
   "source": [
    "# Cal State San Marcos Extra Credit Notes\n",
    "\n",
    "- toc: true \n",
    "- badges: true\n",
    "- comments: true\n",
    "- categories: [markdown]"
   ]
  },
  {
   "cell_type": "markdown",
   "metadata": {},
   "source": [
    "# Ashley\n",
    "- Works in a quantum computing group\n",
    "- Cal State San Marcos is one of the only places that you could major in physics\n",
    "- Even with lots of failtures she was able to keep working to her goal"
   ]
  },
  {
   "cell_type": "markdown",
   "metadata": {},
   "source": [
    "## John\n",
    "- He had 2 associates, one in math and one is computer science\n",
    "- He transfered to Cal State for his last year of college"
   ]
  },
  {
   "cell_type": "markdown",
   "metadata": {},
   "source": [
    "## Fun Facts\n",
    "- It is a newer school\n",
    "- Cal State is creating a new building for science"
   ]
  },
  {
   "cell_type": "markdown",
   "metadata": {},
   "source": [
    "## Pathways\n",
    "- Chemistry\n",
    "- Applied Physics\n",
    "- Biological Sciences\n",
    "- Computer Engineering\n",
    "- Mathematics\n",
    "- Electrical Engineering"
   ]
  },
  {
   "cell_type": "markdown",
   "metadata": {},
   "source": [
    "## Csusm Clubs\n",
    "- Cybersecurtiy\n",
    "- Robotics\n",
    "- 3D Printing\n",
    "- Women in STEM\n",
    "- Society of Women\n",
    "- Society of Physics"
   ]
  },
  {
   "cell_type": "markdown",
   "metadata": {},
   "source": [
    "## Internships\n",
    "- Ad of work experienced offered by an organization for a limtiied period of time\n",
    "\n",
    "### How to join\n",
    "- Join Clubs\n",
    "- Check Your Emails\n",
    "- Go to campus events\n",
    "\n",
    "### Tips\n",
    "- Try and aviod unpaid\n",
    "- Apply even if you don't think you can get it"
   ]
  },
  {
   "cell_type": "markdown",
   "metadata": {},
   "source": [
    "Had 3 more sections but they got deleted and I couldn't find out how to restore them :("
   ]
  },
  {
   "cell_type": "markdown",
   "metadata": {},
   "source": [
    "## Activity/Photos\n",
    "\n",
    "![](toothbrush.png)\n",
    "\n",
    "![](proof.png)"
   ]
  }
 ],
 "metadata": {
  "kernelspec": {
   "display_name": "Python 3.9.12 ('base')",
   "language": "python",
   "name": "python3"
  },
  "language_info": {
   "codemirror_mode": {
    "name": "ipython",
    "version": 3
   },
   "file_extension": ".py",
   "mimetype": "text/x-python",
   "name": "python",
   "nbconvert_exporter": "python",
   "pygments_lexer": "ipython3",
   "version": "3.9.12"
  },
  "orig_nbformat": 4,
  "vscode": {
   "interpreter": {
    "hash": "40d3a090f54c6569ab1632332b64b2c03c39dcf918b08424e98f38b5ae0af88f"
   }
  }
 },
 "nbformat": 4,
 "nbformat_minor": 2
}
