{
 "cells": [
  {
   "cell_type": "markdown",
   "metadata": {},
   "source": [
    "# College Board Chapter 1 Notes\n",
    "> Notes on Chapter 1\n",
    "- toc: true \n",
    "- badges: true\n",
    "- comments: true\n",
    "- categories: [markdown]"
   ]
  },
  {
   "cell_type": "markdown",
   "metadata": {},
   "source": [
    "<table>\n",
    "  <tbody>\n",
    "   <tr>\n",
    "    <td>\n",
    "     <img src=\"/APCSP//images/logo.png\" height=\"60\" title=\"Data\" alt=\"\">\n",
    "    </td>\n",
    "    <td>\n",
    "     <a href=\"/APCSP/api/overview\">Overview</a>\n",
    "    </td>\n",
    "    <td>\n",
    "     <a href=\"/APCSP/data/covid\">Covid19 RapidAPI</a>\n",
    "    </td>\n",
    "    <td>\n",
    "     <a href=\"/APCSP/data/jokes\">Jokes API</a>\n",
    "    </td>\n",
    "    <td>\n",
    "    <a href=\"/APCSP/data/database\">Users Database</a>\n",
    "    </td>\n",
    "  </tr>\n",
    " </tbody>\n",
    "</table>"
   ]
  }
 ],
 "metadata": {
  "kernelspec": {
   "display_name": "Python 3.9.6 64-bit",
   "language": "python",
   "name": "python3"
  },
  "language_info": {
   "name": "python",
   "version": "3.9.6"
  },
  "orig_nbformat": 4,
  "vscode": {
   "interpreter": {
    "hash": "31f2aee4e71d21fbe5cf8b01ff0e069b9275f58929596ceb00d14d90e3e16cd6"
   }
  }
 },
 "nbformat": 4,
 "nbformat_minor": 2
}
