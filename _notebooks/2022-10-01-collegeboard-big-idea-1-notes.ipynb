{
 "cells": [
  {
   "cell_type": "markdown",
   "metadata": {},
   "source": [
    "# College Board Chapter 1 Notes\n",
    "> Notes on Chapter 1\n",
    "- toc: true \n",
    "- badges: true\n",
    "- comments: true\n",
    "- categories: [markdown]"
   ]
  },
  {
   "cell_type": "markdown",
   "metadata": {},
   "source": [
    "<table>\n",
    "  <tbody>\n",
    "   <tr>\n",
    "    <td>\n",
    "     <a href=\"/APCSP/api/overview\">1.1 Collaboration</a>  \n",
    "    </td>\n",
    "    <td>\n",
    "     <a href=\"/APCSP/data/covid\">1.2 Program Function and Purpose</a>\n",
    "    </td>\n",
    "    <td>\n",
    "     <a href=\"/APCSP/data/jokes\">1.3</a>\n",
    "    </td>\n",
    "    <td>\n",
    "    <a href=\"/APCSP/data/database\">1.4</a>\n",
    "    </td>\n",
    "  </tr>\n",
    " </tbody>\n",
    "</table>"
   ]
  },
  {
   "cell_type": "markdown",
   "metadata": {},
   "source": [
    "## 1.1 Collaboration Notes\n",
    "\n",
    "- Effective collaboration produces a computing innovation that reflects the diversity of talents and perspectives of those who designed it\n",
    "- A computing inoovation can be a program and it can be physical or nonphysical\n",
    "- Collaboration that includes diverse perspectives helps to aviod bias\n",
    "- Interpersonal skills learned thriugh collaboration\n",
    "- - Communication\n",
    "- - Consensus Building\n",
    "- - Conflict Resolution\n",
    "- - Negotiation\n",
    "\n",
    "- Ways to collaborate in APCSP:\n",
    "- - Pair Programming- Have one person work while the other person guides them\n",
    "- - Think-Pair-Share- Think about a problem and share with a partner\n",
    "- - Leaving Comments- Allows you to communicate with yourself and others"
   ]
  },
  {
   "cell_type": "markdown",
   "metadata": {},
   "source": [
    "## 1.2 Program Function and Purpose Notes\n",
    "\n",
    "- The purpose of computing innovation is to solve problems or to puruse interests through creative expression\n",
    "- An understanding of the purpose of a computing innovation provides developers with an imporved ability to develop that computing innovation\n",
    "- Categories of Innovations:\n",
    "- - Applications (things you can download)\n",
    "- - Physical Devices (devices you can use)\n",
    "- - Systems (things you can do online like E-mail)\n",
    "- Describing the purpose of a computing is important (essential questions)\n",
    "\n",
    "- Progam inputs are data sent to a computer for processing by a program. Input can come in a variety of forms, such ad tactile, audio, and visual, or text\n",
    "- An event is associated with an action and supplies input data to a program\n",
    "- Events can be generated when a key is pressed, a mouse is clicked, a program is started, or any other defined action occurs that affects the flow of execution\n",
    "- Inputs usually affect the output produced by a program\n",
    "- Program output can come in a variety of forms, such as tactile, audio, visual, or text\n",
    "- Program output is usually base on a program's input or prior state (e.g., internal values)\n",
    "- Smart phone/tablet, laptop computer, and gaming consle are receive input and present output\n",
    "- Programs receive input from events that are triggered by some action (mouse clicks, button clicks, keyboard entries, audio trigger, ect)\n",
    "- Input does not always affect output\n",
    "- Certian lines of code are executed depending on the event (doesn't have to be in order)\n",
    "\n",
    "\n"
   ]
  },
  {
   "cell_type": "markdown",
   "metadata": {},
   "source": []
  }
 ],
 "metadata": {
  "kernelspec": {
   "display_name": "Python 3.9.6 64-bit",
   "language": "python",
   "name": "python3"
  },
  "language_info": {
   "name": "python",
   "version": "3.9.6"
  },
  "orig_nbformat": 4,
  "vscode": {
   "interpreter": {
    "hash": "31f2aee4e71d21fbe5cf8b01ff0e069b9275f58929596ceb00d14d90e3e16cd6"
   }
  }
 },
 "nbformat": 4,
 "nbformat_minor": 2
}
