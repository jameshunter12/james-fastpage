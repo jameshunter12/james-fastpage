{
 "cells": [
  {
   "attachments": {},
   "cell_type": "markdown",
   "metadata": {},
   "source": [
    "# Model and Object-Oriented Programming\n",
    "> Object Oriented Programming is a part of learning Python.  The objective of this blog is to introduce OOP with the intention of PBL task to create a database.  The foundations for a database is defining a Class and understanding instance data and methods.  A database is often a focus of backend coding as it will store persistent data, that can be recalled after the immediate session is closed.\n",
    "\n",
    "- title: Model and Object-Oriented Programming\n",
    "- toc: true\n",
    "- categories: []\n",
    "- image: /images/python.png\n",
    "- type: pbl\n",
    "- week: 18"
   ]
  },
  {
   "attachments": {},
   "cell_type": "markdown",
   "metadata": {},
   "source": [
    "## Class and Object Terms\n",
    "> The foundations of Object-Oriented Programming is defining a ***Class***  \n",
    "* In Object-Oriented Programming (OOP), a class is a blueprint for creating an ***Object***. (a data structure).  An Object is used like many other Python variables.\n",
    "* A Class has ...\n",
    "    * a collection of data, these are called ***Attributes*** and in Python are pre-fixed using the keyword ***self***\n",
    "    * a collection of Functions/Procedures.  These are called ***Methods** when they exist inside a Class definition.\n",
    "* An Object is created from the Class/Template.  Characteristics of objects ...\n",
    "   * an Object is an ***Instance*** of the Class/Template\n",
    "   * there can be many Objects created from the same Class\n",
    "   * each Object contains its own ***Instance Data***\n",
    "   * the data is setup by the ***Constructor***, this is the \"__init__\" method in a Python class\n",
    "   * all methods in the Class/Template become part of the Object, methods are accessed using ***dot notation*** (object.method())\n",
    "* A Python Class allow for the definition of @ decorators, these allow access to instance data without the use of functions ...\n",
    "    * @property decorator (aka getter).  This enables developers to reference/get instance data in a shorthand fashion (object.name versus object.get_name())\n",
    "    * @name.setter decorator (aka setter).  This enables developers to update/set instance data in a shorthand fashion (object.name = \"John\" versus object.set_name(\"John\"))\n",
    "    * observe all instance data (self._name, self._email ...) are prefixed with \"_\", this convention allows setters and getters to work with more natural variable name (name, email ...)"
   ]
  },
  {
   "cell_type": "markdown",
   "metadata": {},
   "source": [
    "## Class and Object Code"
   ]
  },
  {
   "cell_type": "code",
   "execution_count": 14,
   "metadata": {},
   "outputs": [
    {
     "name": "stdout",
     "output_type": "stream",
     "text": [
      "JSON ready string:\n",
      " {\"name\": \"Thomas Edison\", \"uid\": \"toby\", \"classof\": \"1867\", \"dob\": \"02-11-1847\", \"age\": 175} \n",
      "\n",
      "Raw Variables of object:\n",
      " {'_name': 'Thomas Edison', '_uid': 'toby', '_classof': '1867', '_password': 'sha256$20URaDWZhMIJclJm$be5992a31b187fdf834a7f726190563603a58aff25b90554b95af83522aec497', '_dob': datetime.date(1847, 2, 11)} \n",
      "\n",
      "Raw Attributes and Methods of object:\n",
      " ['__class__', '__delattr__', '__dict__', '__dir__', '__doc__', '__eq__', '__format__', '__ge__', '__getattribute__', '__gt__', '__hash__', '__init__', '__init_subclass__', '__le__', '__lt__', '__module__', '__ne__', '__new__', '__reduce__', '__reduce_ex__', '__repr__', '__setattr__', '__sizeof__', '__str__', '__subclasshook__', '__weakref__', '_classof', '_dob', '_name', '_password', '_uid', 'age', 'classof', 'dictionary', 'dob', 'is_password', 'is_uid', 'name', 'set_password', 'uid'] \n",
      "\n",
      "Representation to Re-Create the object:\n",
      " User(name=Thomas Edison, uid=toby, classof=1867 password=sha256$20URaDWZhMIJclJm$be5992a31b187fdf834a7f726190563603a58aff25b90554b95af83522aec497,dob=1847-02-11) \n",
      "\n"
     ]
    }
   ],
   "source": [
    "from werkzeug.security import generate_password_hash, check_password_hash\n",
    "from datetime import date\n",
    "import json\n",
    "\n",
    "class User:    \n",
    "\n",
    "    def __init__(self, name, uid, classof, password, dob):\n",
    "        self._name = name    # variables with self prefix become part of the object, \n",
    "        self._uid = uid\n",
    "        self._classof = classof\n",
    "        self.set_password(password)\n",
    "        self._dob = dob\n",
    "    \n",
    "    @property\n",
    "    def name(self):\n",
    "        return self._name\n",
    "    \n",
    "    # a setter function, allows name to be updated after initial object creation\n",
    "    @name.setter\n",
    "    def name(self, name):\n",
    "        self._name = name\n",
    "    \n",
    "    # a getter method, extracts email from object\n",
    "    @property\n",
    "    def uid(self):\n",
    "        return self._uid\n",
    "    \n",
    "    # a setter function, allows name to be updated after initial object creation\n",
    "    @uid.setter\n",
    "    def uid(self, uid):\n",
    "        self._uid = uid\n",
    "        \n",
    "    # check if uid parameter matches user id in object, return boolean\n",
    "    def is_uid(self, uid):\n",
    "        return self._uid == uid\n",
    "    \n",
    "    @property\n",
    "    def classof(self):\n",
    "        return self._classof\n",
    "    \n",
    "    @classof.setter\n",
    "    def classof(self, classof):\n",
    "        self.classof = classof\n",
    "    \n",
    "    # dob property is returned as string, to avoid unfriendly outcomes\n",
    "    @property\n",
    "    def dob(self):\n",
    "        dob_string = self._dob.strftime('%m-%d-%Y')\n",
    "        return dob_string\n",
    "    \n",
    "    # dob should be have verification for type date\n",
    "    @dob.setter\n",
    "    def dob(self, dob):\n",
    "        self._dob = dob\n",
    "        \n",
    "    # age is calculated and returned each time it is accessed\n",
    "    @property\n",
    "    def age(self):\n",
    "        today = date.today()\n",
    "        return today.year - self._dob.year - ((today.month, today.day) < (self._dob.month, self._dob.day))\n",
    "    \n",
    "    # dictionary is customized, removing password for security purposes\n",
    "    @property\n",
    "    def dictionary(self):\n",
    "        dict = {\n",
    "            \"name\" : self.name,\n",
    "            \"uid\" : self.uid,\n",
    "            \"classof\" : self.classof,\n",
    "            \"dob\" : self.dob,\n",
    "            \"age\" : self.age\n",
    "        }\n",
    "        return dict\n",
    "    \n",
    "    # update password, this is conventional setter\n",
    "    def set_password(self, password):\n",
    "        \"\"\"Create a hashed password.\"\"\"\n",
    "        self._password = generate_password_hash(password, method='sha256')\n",
    "\n",
    "    # check password parameter versus stored/encrypted password\n",
    "    def is_password(self, password):\n",
    "        \"\"\"Check against hashed password.\"\"\"\n",
    "        result = check_password_hash(self._password, password)\n",
    "        return result\n",
    "    \n",
    "    # output content using json dumps, this is ready for API response\n",
    "    def __str__(self):\n",
    "        return json.dumps(self.dictionary)\n",
    "    \n",
    "    # output command to recreate the object, uses attribute directly\n",
    "    def __repr__(self):\n",
    "        return f'User(name={self._name}, uid={self._uid}, classof={self._classof} password={self._password},dob={self._dob})'\n",
    "    \n",
    "\n",
    "if __name__ == \"__main__\":\n",
    "    u1 = User(name='Thomas Edison', uid='toby', classof='1867', password='123toby', dob=date(1847, 2, 11))\n",
    "    print(\"JSON ready string:\\n\", u1, \"\\n\") \n",
    "    print(\"Raw Variables of object:\\n\", vars(u1), \"\\n\") \n",
    "    print(\"Raw Attributes and Methods of object:\\n\", dir(u1), \"\\n\")\n",
    "    print(\"Representation to Re-Create the object:\\n\", repr(u1), \"\\n\") "
   ]
  },
  {
   "attachments": {},
   "cell_type": "markdown",
   "metadata": {},
   "source": [
    "## Hacks\n",
    "> Add new attributes/variables to the Class.  Make class specific to your CPT work.\n",
    "- Add classOf attribute to define year of graduation\n",
    "    - Add setter and getter for classOf\n",
    "- Add dob attribute to define date of birth\n",
    "    - This will require investigation into Python datetime objects as shown in example code below\n",
    "    - Add setter and getter for dob\n",
    "- Add instance variable for age, make sure if dob changes age changes\n",
    "    - Add getter for age, but don't add/allow setter for age\n",
    "- Update and format tester function to work with changes\n",
    "\n",
    "> Start a class design for each of your own Full Stack CPT sections of your project\n",
    "- Use new `code cell` in this notebook\n",
    "- Define _init_ and self attributes\n",
    "- Define setters and getters\n",
    "- Make a tester"
   ]
  },
  {
   "cell_type": "markdown",
   "metadata": {},
   "source": [
    "## Start Code for Hacks"
   ]
  },
  {
   "cell_type": "code",
   "execution_count": 12,
   "metadata": {},
   "outputs": [
    {
     "name": "stdout",
     "output_type": "stream",
     "text": [
      "18\n"
     ]
    }
   ],
   "source": [
    "from datetime import date\n",
    "\n",
    "def calculate_age(born):\n",
    "    today = date.today()\n",
    "    return today.year - born.year - ((today.month, today.day) < (born.month, born.day))\n",
    "\n",
    "dob = date(2004, 12, 31)\n",
    "age = calculate_age(dob)\n",
    "print(age)"
   ]
  }
 ],
 "metadata": {
  "kernelspec": {
   "display_name": "Python 3.9.12 ('base')",
   "language": "python",
   "name": "python3"
  },
  "language_info": {
   "codemirror_mode": {
    "name": "ipython",
    "version": 3
   },
   "file_extension": ".py",
   "mimetype": "text/x-python",
   "name": "python",
   "nbconvert_exporter": "python",
   "pygments_lexer": "ipython3",
   "version": "3.9.12"
  },
  "orig_nbformat": 4,
  "vscode": {
   "interpreter": {
    "hash": "40d3a090f54c6569ab1632332b64b2c03c39dcf918b08424e98f38b5ae0af88f"
   }
  }
 },
 "nbformat": 4,
 "nbformat_minor": 2
}
