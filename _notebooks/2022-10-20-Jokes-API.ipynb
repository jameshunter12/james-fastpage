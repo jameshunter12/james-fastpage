{
 "cells": [
  {
   "cell_type": "markdown",
   "metadata": {},
   "source": [
    "# Jokes API\n",
    "> Formatting Joke API\n",
    "- toc: true \n",
    "- badges: true\n",
    "- comments: true\n",
    "- categories: [python, markdown]"
   ]
  },
  {
   "cell_type": "code",
   "execution_count": 3,
   "metadata": {},
   "outputs": [
    {
     "name": "stdout",
     "output_type": "stream",
     "text": [
      "[{\"boohoo\":218363,\"haha\":177423,\"id\":0,\"joke\":\"If you give someone a program... you will frustrate them for a day; if you teach them how to program... you will frustrate them for a lifetime.\"},{\"boohoo\":2025,\"haha\":30300,\"id\":1,\"joke\":\"Q: Why did I divide sin by tan? A: Just cos.\"},{\"boohoo\":1375,\"haha\":1863,\"id\":2,\"joke\":\"UNIX is basically a simple operating system... but you have to be a genius to understand the simplicity.\"},{\"boohoo\":1340,\"haha\":1613,\"id\":3,\"joke\":\"Enter any 11-digit prime number to continue.\"},{\"boohoo\":1781,\"haha\":2092,\"id\":4,\"joke\":\"If at first you don't succeed; call it version 1.0.\"},{\"boohoo\":5127,\"haha\":1340,\"id\":5,\"joke\":\"Java programmers are some of the most materialistic people I know, very object-oriented\"},{\"boohoo\":454,\"haha\":1146,\"id\":6,\"joke\":\"The oldest computer can be traced back to Adam and Eve. It was an apple but with extremely limited memory. Just 1 byte. And then everything crashed.\"},{\"boohoo\":2437,\"haha\":3078,\"id\":7,\"joke\":\"Q: Why did Wi-Fi and the computer get married? A: Because they had a connection\"},{\"boohoo\":122,\"haha\":1340,\"id\":8,\"joke\":\"Bill Gates teaches a kindergarten class to count to ten. 1, 2, 3, 3.1, 95, 98, ME, 2000, XP, Vista, 7, 8, 10.\"},{\"boohoo\":125,\"haha\":1185,\"id\":9,\"joke\":\"Q: What\\u2019s a aliens favorite computer key? A: the space bar!\"},{\"boohoo\":17001,\"haha\":1771,\"id\":10,\"joke\":\"There are 10 types of people in the world: those who understand binary, and those who don\\u2019t.\"},{\"boohoo\":447,\"haha\":1780,\"id\":11,\"joke\":\"If it wasn't for C, we\\u2019d all be programming in BASI and OBOL.\"},{\"boohoo\":446,\"haha\":1073,\"id\":12,\"joke\":\"Computers make very fast, very accurate mistakes.\"},{\"boohoo\":452,\"haha\":1151,\"id\":13,\"joke\":\"Q: Why is it that programmers always confuse Halloween with Christmas? A: Because 31 OCT = 25 DEC.\"},{\"boohoo\":452,\"haha\":1277,\"id\":14,\"joke\":\"Q: How many programmers does it take to change a light bulb? A: None. It\\u2019s a hardware problem.\"},{\"boohoo\":516,\"haha\":4274,\"id\":15,\"joke\":\"The programmer got stuck in the shower because the instructions on the shampoo bottle said: Lather, Rinse, Repeat.\"},{\"boohoo\":639,\"haha\":1090,\"id\":16,\"joke\":\"Q: What is the biggest lie in the entire universe? A: I have read and agree to the Terms and Conditions.\"},{\"boohoo\":4202,\"haha\":6984,\"id\":17,\"joke\":\"An SQL statement walks into a bar and sees two tables. It approaches, and asks may I join you?\"}]\n",
      "\n"
     ]
    }
   ],
   "source": [
    "import requests\n",
    "\n",
    "url = \"https://flask.nighthawkcodingsociety.com/api/jokes/\"\n",
    "\n",
    "response = requests.get(url)\n",
    "\n",
    "print(response.text)\n",
    "    "
   ]
  },
  {
   "cell_type": "code",
   "execution_count": 12,
   "metadata": {},
   "outputs": [
    {
     "name": "stdout",
     "output_type": "stream",
     "text": [
      "{'boohoo': 218363, 'haha': 177423, 'id': 0, 'joke': 'If you give someone a program... you will frustrate them for a day; if you teach them how to program... you will frustrate them for a lifetime.'}\n",
      "{'boohoo': 2025, 'haha': 30300, 'id': 1, 'joke': 'Q: Why did I divide sin by tan? A: Just cos.'}\n",
      "{'boohoo': 1375, 'haha': 1863, 'id': 2, 'joke': 'UNIX is basically a simple operating system... but you have to be a genius to understand the simplicity.'}\n",
      "{'boohoo': 1340, 'haha': 1613, 'id': 3, 'joke': 'Enter any 11-digit prime number to continue.'}\n",
      "{'boohoo': 1781, 'haha': 2092, 'id': 4, 'joke': \"If at first you don't succeed; call it version 1.0.\"}\n",
      "{'boohoo': 5127, 'haha': 1340, 'id': 5, 'joke': 'Java programmers are some of the most materialistic people I know, very object-oriented'}\n",
      "{'boohoo': 454, 'haha': 1146, 'id': 6, 'joke': 'The oldest computer can be traced back to Adam and Eve. It was an apple but with extremely limited memory. Just 1 byte. And then everything crashed.'}\n",
      "{'boohoo': 2437, 'haha': 3078, 'id': 7, 'joke': 'Q: Why did Wi-Fi and the computer get married? A: Because they had a connection'}\n",
      "{'boohoo': 122, 'haha': 1340, 'id': 8, 'joke': 'Bill Gates teaches a kindergarten class to count to ten. 1, 2, 3, 3.1, 95, 98, ME, 2000, XP, Vista, 7, 8, 10.'}\n",
      "{'boohoo': 125, 'haha': 1185, 'id': 9, 'joke': 'Q: What’s a aliens favorite computer key? A: the space bar!'}\n",
      "{'boohoo': 17001, 'haha': 1771, 'id': 10, 'joke': 'There are 10 types of people in the world: those who understand binary, and those who don’t.'}\n",
      "{'boohoo': 447, 'haha': 1780, 'id': 11, 'joke': \"If it wasn't for C, we’d all be programming in BASI and OBOL.\"}\n",
      "{'boohoo': 446, 'haha': 1073, 'id': 12, 'joke': 'Computers make very fast, very accurate mistakes.'}\n",
      "{'boohoo': 452, 'haha': 1151, 'id': 13, 'joke': 'Q: Why is it that programmers always confuse Halloween with Christmas? A: Because 31 OCT = 25 DEC.'}\n",
      "{'boohoo': 452, 'haha': 1277, 'id': 14, 'joke': 'Q: How many programmers does it take to change a light bulb? A: None. It’s a hardware problem.'}\n",
      "{'boohoo': 516, 'haha': 4274, 'id': 15, 'joke': 'The programmer got stuck in the shower because the instructions on the shampoo bottle said: Lather, Rinse, Repeat.'}\n",
      "{'boohoo': 639, 'haha': 1090, 'id': 16, 'joke': 'Q: What is the biggest lie in the entire universe? A: I have read and agree to the Terms and Conditions.'}\n",
      "{'boohoo': 4202, 'haha': 6984, 'id': 17, 'joke': 'An SQL statement walks into a bar and sees two tables. It approaches, and asks may I join you?'}\n"
     ]
    }
   ],
   "source": [
    "import requests\n",
    "\n",
    "url = \"https://flask.nighthawkcodingsociety.com/api/jokes/\"\n",
    "\n",
    "response = requests.get(url)\n",
    "\n",
    "json = response.json()\n",
    "\n",
    "#for each joke an entry has the joke in it\n",
    "for entry in json:\n",
    "    print(entry)"
   ]
  }
 ],
 "metadata": {
  "kernelspec": {
   "display_name": "Python 3.9.12 ('base')",
   "language": "python",
   "name": "python3"
  },
  "language_info": {
   "codemirror_mode": {
    "name": "ipython",
    "version": 3
   },
   "file_extension": ".py",
   "mimetype": "text/x-python",
   "name": "python",
   "nbconvert_exporter": "python",
   "pygments_lexer": "ipython3",
   "version": "3.9.12"
  },
  "orig_nbformat": 4,
  "vscode": {
   "interpreter": {
    "hash": "40d3a090f54c6569ab1632332b64b2c03c39dcf918b08424e98f38b5ae0af88f"
   }
  }
 },
 "nbformat": 4,
 "nbformat_minor": 2
}
