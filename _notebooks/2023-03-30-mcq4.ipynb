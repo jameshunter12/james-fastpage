{
 "cells": [
  {
   "cell_type": "markdown",
   "metadata": {},
   "source": [
    "# MCQ #4 Score and Corrections\n",
    "\n",
    "- toc: true \n",
    "- badges: true\n",
    "- comments: true\n",
    "- categories: [markdown]"
   ]
  },
  {
   "cell_type": "markdown",
   "metadata": {},
   "source": [
    "![](score%234.png)"
   ]
  },
  {
   "cell_type": "markdown",
   "metadata": {},
   "source": [
    "![](24?)"
   ]
  },
  {
   "cell_type": "markdown",
   "metadata": {},
   "source": [
    "- While deleting entries from data may take longer for larger companies than for smaller ones, it is not likely to take longer than sorting data. As per the table, it takes 300 hours for a large company with 10,000 customers to delete entries from data, whereas sorting data takes 100 hours for the same company size."
   ]
  },
  {
   "cell_type": "markdown",
   "metadata": {},
   "source": [
    "![](29%3F.png)"
   ]
  },
  {
   "cell_type": "markdown",
   "metadata": {},
   "source": [
    "- This option is incorrect. Adding an extra binary digit allows for two times as many items to be identified, not two more."
   ]
  },
  {
   "cell_type": "markdown",
   "metadata": {},
   "source": [
    "![](39%3F.png)"
   ]
  },
  {
   "cell_type": "markdown",
   "metadata": {},
   "source": [
    "- Incorrect. The first number displayed must be 1. The second number displayed could be 1 or 2. The third number displayed could be 1, 2, or 3. The last number displayed could be 1, 2, 3, or 4. So 1 2 3 2 is a possible output."
   ]
  },
  {
   "cell_type": "markdown",
   "metadata": {},
   "source": [
    "![](42%3F.png)"
   ]
  },
  {
   "cell_type": "markdown",
   "metadata": {},
   "source": [
    "- Incorrect. Obtaining part of a text file is not useful when attempting to determine whether a word appears in two text files."
   ]
  },
  {
   "cell_type": "markdown",
   "metadata": {},
   "source": [
    "![](44%3F.png)"
   ]
  },
  {
   "cell_type": "markdown",
   "metadata": {},
   "source": [
    "- Incorrect. Since the student cannot modify the search procedure’s code or internal abstractions, the argument passed to the search procedure must be a word, not a definition."
   ]
  },
  {
   "cell_type": "markdown",
   "metadata": {},
   "source": [
    "![](45%3F.png)"
   ]
  },
  {
   "cell_type": "markdown",
   "metadata": {},
   "source": [
    "- Incorrect. This code segment draws four circles, each with a radius of 1 unit. The circles are centered at (2, 2), (2, 4), (4, 2), and (4, 4)."
   ]
  },
  {
   "cell_type": "markdown",
   "metadata": {},
   "source": [
    "![](46%3F.png)"
   ]
  },
  {
   "cell_type": "markdown",
   "metadata": {},
   "source": [
    "- Incorrect. The first call to drawLine draws a line segment with endpoints (1, 5) and (6, 5). The second call to drawLine draws a line segment with endpoints (1, 5) and (8, 7). The third call to drawLine draws a line segment with endpoints (1, 5) and (8, 3)."
   ]
  }
 ],
 "metadata": {
  "kernelspec": {
   "display_name": "Python 3.9.12 ('base')",
   "language": "python",
   "name": "python3"
  },
  "language_info": {
   "name": "python",
   "version": "3.9.12"
  },
  "orig_nbformat": 4,
  "vscode": {
   "interpreter": {
    "hash": "40d3a090f54c6569ab1632332b64b2c03c39dcf918b08424e98f38b5ae0af88f"
   }
  }
 },
 "nbformat": 4,
 "nbformat_minor": 2
}
