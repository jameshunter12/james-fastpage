{
 "cells": [
  {
   "cell_type": "markdown",
   "metadata": {},
   "source": [
    "# 3.3-3.4 Homework/Hacks\n",
    "> My work for 3.3-3.4\n",
    "\n",
    "- toc: true \n",
    "- badges: true\n",
    "- comments: true\n",
    "- categories: [markdown]"
   ]
  },
  {
   "cell_type": "markdown",
   "metadata": {},
   "source": [
    "## 3.3 Video 1 Hacks\n",
    "\n",
    "Show two examples and label which one is sequence, selection, iteration"
   ]
  },
  {
   "cell_type": "code",
   "execution_count": 6,
   "metadata": {},
   "outputs": [
    {
     "name": "stdout",
     "output_type": "stream",
     "text": [
      "[0, 2, 4, 6, 8, 10]\n"
     ]
    }
   ],
   "source": [
    "numbers = [0,1,2,3,4,5,6,7,8,9,10]\n",
    "evens = []\n",
    "\n",
    "for i in numbers:\n",
    "    if (numbers[i] % 2 == 0):\n",
    "        evens.append(numbers[i])\n",
    "\n",
    "print(evens)"
   ]
  },
  {
   "cell_type": "markdown",
   "metadata": {},
   "source": [
    "### Answers 1\n",
    "All the steps combined are sequencing\n",
    "\n",
    "The step \"for i in numbers:\" is iteration because they go through all the numbers.\n",
    "\n",
    "\"if (numbers[i] % 2 == 0)\" is selection because they sort each number to find the even ones."
   ]
  },
  {
   "cell_type": "code",
   "execution_count": 4,
   "metadata": {},
   "outputs": [
    {
     "name": "stdout",
     "output_type": "stream",
     "text": [
      "#\n",
      "##\n",
      "###\n",
      "####\n",
      "#####\n",
      "######\n",
      "#######\n",
      "########\n",
      "#########\n",
      "##########\n"
     ]
    }
   ],
   "source": [
    "# Every step is a sequence\n",
    "i = 1\n",
    "starString = \"#\" \n",
    "while i <= 10: #this is a iteration because it repeats until it reaches 10\n",
    "  a = 1 \n",
    "  while a <= i: #this is a selection because it selectes what a is\n",
    "    print (\"#\", end= \"\")\n",
    "    a += 1\n",
    "  print ()\n",
    "  i += 1"
   ]
  },
  {
   "cell_type": "markdown",
   "metadata": {},
   "source": [
    "### Answers 2\n",
    "\n",
    "All the steps are a sequence\n",
    "\n",
    "\"While i <= 5:\" is iteration because they repeat until i reaches 5\n",
    "\n",
    "\"While j <= i:\" is selection because this is where they decide what j is"
   ]
  },
  {
   "cell_type": "markdown",
   "metadata": {},
   "source": [
    "## 3.3 Video 2 Hacks\n",
    "### Practice Problems \n",
    "1. given the following code segment below:\n",
    "\n",
    "a ⟵ 7\n",
    "\n",
    "b ⟵ 1\n",
    "\n",
    "c ⟵ 3\n",
    "\n",
    "d ⟵ 4\n",
    "\n",
    "a ⟵ b\n",
    "\n",
    "b ⟵ c + d\n",
    "\n",
    "d ⟵ b \n",
    "\n",
    "find the value for a, b, c, d \n",
    "- a=1, b=7, c=3, d=7\n",
    "\n",
    "\n",
    "2. consider the following code segment:\n",
    "\n",
    "hot ⟵ true\n",
    "\n",
    "cold ⟵ false\n",
    "\n",
    "cold ⟵ hot \n",
    "\n",
    "hot ⟵ cold  \n",
    "\n",
    "what are the values of hot and cold after executing the code segment? \n",
    "- <mark>1. the value of hot is true, the value of cold is true </mark>\n",
    "- 2. the value of hot is false, the value of cold is true\n",
    "- 3. the value of hot is true, the value of cold is false\n",
    "- 4. the value of hot is false, the value of cold is false \n",
    "\n",
    "3. Make TWO of your own code segments that contain at least 5 defined variables, then provide the answer and EXPLAIN why your answer is correct. \n"
   ]
  },
  {
   "cell_type": "markdown",
   "metadata": {},
   "source": [
    "4. Sequencing"
   ]
  },
  {
   "cell_type": "code",
   "execution_count": 5,
   "metadata": {},
   "outputs": [],
   "source": [
    "num1 = 5\n",
    "num2 = 10\n",
    "num3 = 15\n",
    "num4 = 20\n",
    "num5 = 25\n",
    "\n",
    "num1 = num2 + num3      # num1 is now the new num2 + num3\n",
    "num5 = num2 + num4      # num5 is now the new num2 + num4"
   ]
  },
  {
   "cell_type": "markdown",
   "metadata": {},
   "source": [
    "- num1 = 25 (num2=10 + num3=15, so 10+15=25)\n",
    "- num5 = 30 (num2=10 + num4=20, so 10+20=30)"
   ]
  },
  {
   "cell_type": "code",
   "execution_count": null,
   "metadata": {},
   "outputs": [],
   "source": [
    "a = 1\n",
    "b = 2\n",
    "c = 3\n",
    "d = 4\n",
    "e = 5\n",
    "\n",
    "a = b + c        #a is now b + c\n",
    "d = a + e        #d is now a + e"
   ]
  },
  {
   "cell_type": "markdown",
   "metadata": {},
   "source": [
    "- a = 5  (b=2 + c=3, so 2+3=5)\n",
    "- d = 6  (a=1 + e=5, so 1+5=6)"
   ]
  },
  {
   "cell_type": "markdown",
   "metadata": {},
   "source": [
    "## 3.3 Video 3 Hacks\n",
    "\n"
   ]
  },
  {
   "cell_type": "markdown",
   "metadata": {},
   "source": [
    "## 3.4 Video 1 Hacks\n",
    "\n",
    "### String Homework\n",
    "---------------------------------------------------------------\n",
    "\n",
    "\n",
    "- Test 1\n",
    "\n",
    "    firstName <- \"Bob\"\n",
    "    lastName <- \"Smith\"\n",
    "    var <- substring(firstName, 1, 1) B\n",
    "    name <- concat(lastName, var) SmithB\n",
    "    email <- concat(name, \" @gmail.com\") SmithB@gmail.com\n",
    "    DISPLAY(email)\n",
    "\n",
    "- What would the result be?\n",
    "SmithB@gmail.com\n",
    "\n",
    "\n",
    "---------------------------------------------------------------\n",
    "- Test 2\n",
    "\n",
    "    word1 <- \"computer\"\n",
    "    word2 <- \"textbooks\"\n",
    "    length1 <- len(word1)/2    4\n",
    "    length2 <- len(word2)/3    3\n",
    "    first <- substring(word1, 2, len1) ompu\n",
    "    second <- substring(word2, len2+3, len2) ook\n",
    "    newWord <- concat(first, second) \n",
    "    DISPLAY(newWord)\n",
    "\n",
    "- What would the result be?\n",
    "ompuook\n",
    "---------------------------------------------------------------\n",
    "\n",
    "\n"
   ]
  },
  {
   "cell_type": "markdown",
   "metadata": {},
   "source": [
    "# Leanred/Struggles\n",
    "\n",
    "- I knew about most of these terms and how they work\n",
    "- len means the length of the list\n",
    "- If the arrow is facing the left it replaces the word on the left with the work on the right\n",
    "- I learned more ways to add code together ( +, <--, and append)\n",
    "\n",
    "- I struggled with the last two problems (the email and newWord)\n",
    "- It was not bad, but it was a lot of steps and I had to be careful\n",
    "\n",
    "- I did good with the problems that required you to replace a variable and then find what a varible was at the end of the code (<-- and +)"
   ]
  }
 ],
 "metadata": {
  "kernelspec": {
   "display_name": "Python 3.9.6 64-bit",
   "language": "python",
   "name": "python3"
  },
  "language_info": {
   "codemirror_mode": {
    "name": "ipython",
    "version": 3
   },
   "file_extension": ".py",
   "mimetype": "text/x-python",
   "name": "python",
   "nbconvert_exporter": "python",
   "pygments_lexer": "ipython3",
   "version": "3.9.6"
  },
  "orig_nbformat": 4,
  "vscode": {
   "interpreter": {
    "hash": "31f2aee4e71d21fbe5cf8b01ff0e069b9275f58929596ceb00d14d90e3e16cd6"
   }
  }
 },
 "nbformat": 4,
 "nbformat_minor": 2
}
