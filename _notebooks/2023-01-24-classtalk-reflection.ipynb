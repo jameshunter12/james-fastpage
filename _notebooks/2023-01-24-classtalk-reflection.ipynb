{
 "cells": [
  {
   "cell_type": "markdown",
   "metadata": {},
   "source": [
    "# 5.1 Reflection"
   ]
  },
  {
   "cell_type": "markdown",
   "metadata": {},
   "source": [
    "### Come up with three of your own Beneficial and corresponding Harmful Effects of Computing\n",
    "- Video Games:\n",
    "        - Benefits of video games are they can be a hoddy, job, or a way to interact with friends online.\n",
    "        - A harmful effect of video games is they release dopamine and they can cause people to get addicted and not do things they are supposed to do like their homework. \n",
    "- Social Medial:\n",
    "        - Benefits of social media is that it allows you to meet new people and it allows you to educate yourself.\n",
    "        - A harmful effect of social media is people could have a higher chance of being bullied and social could be a distraction.\n",
    "- Smart Watch: \n",
    "        - Benefits of a smart watch is that it makes it easier to answer calls and respond to texts.\n",
    "        - A harmful effect of a smart watch is that you could be easily distracted in class due to how easy it is to access the watch.\n",
    "\n",
    "\n",
    "### Talk about dopamine issues above. Real? Parent conspiracy? Anything that is impacting your personal study and success in High School?\n",
    "- I think there are many dopamine issues with students personal study and success in High School. Since video games and social media release many amounts of dopamine and they can distract students from their work. Personally I feel like video games get in the way of my High School work because I will act like I dont need to study, so then I can play video games.\n"
   ]
  },
  {
   "cell_type": "markdown",
   "metadata": {},
   "source": [
    "# 5.2 – Digital Empowerment"
   ]
  },
  {
   "cell_type": "markdown",
   "metadata": {},
   "source": [
    "### How does someone empower themself in a digital world?\n",
    "- Having a set of digital skills can be very beneficial. In the digital world if you have digital skills it can lead to you having job advantages and better communication. Understanding how the digital world works can help you identify security risks and help you prevent youself from falling for one. Being involved in the digital world can allow you to stay up to date with digital trends and it can allow you to access new opportunities.\n",
    "\n",
    "### How does someone that is empowered help someone that is not empowered? Describe something you could do at Del Norte HS.\n",
    "- Someone that is empowered can help someone that is not empowered by becoming almost like a mentor for them by teaching and showing their skills, so that person that is not empowered will be able to become empowered. At Del Norte HS I can teach some of the people about APCSP and show they how the skills I am learning can be very useful in the real world and how them can empower someone.\n",
    "\n",
    "### Is paper or red tape blocking digital empowerment? Are there such barriers at Del Norte? Elsewhere?\n",
    "- I think paper in some ways is blocking digital empowerment because people that have grown up with paper are going to be more inclined to use paper over technology. There are also some other things that are blocking digital empowerment like the expense of it and the limited access some people have. I dont think there are such barriers at Del Norte because almost every student at one point was working online during covid, so everyone has had some experience with technology. Also for the people that have a hard time accessing technology at Del Norte stduents are able to get their own chromebooks. On the other hand some people may not be as fortunate, so I do see the expense of technology blocking digital empowerment. "
   ]
  }
 ],
 "metadata": {
  "kernelspec": {
   "display_name": "Python 3.9.6 64-bit",
   "language": "python",
   "name": "python3"
  },
  "language_info": {
   "name": "python",
   "version": "3.9.6"
  },
  "orig_nbformat": 4,
  "vscode": {
   "interpreter": {
    "hash": "31f2aee4e71d21fbe5cf8b01ff0e069b9275f58929596ceb00d14d90e3e16cd6"
   }
  }
 },
 "nbformat": 4,
 "nbformat_minor": 2
}
