{
 "cells": [
  {
   "cell_type": "markdown",
   "metadata": {},
   "source": [
    "# Blog Post Reflection"
   ]
  },
  {
   "cell_type": "markdown",
   "metadata": {},
   "source": [
    "## Come up with three of your own Beneficial and corresponding Harmful Effects of Computing\n",
    "    - Video Games:\n",
    "        - Benefits of video games are they can be a hoddy, job, or a way to interact with friends online.\n",
    "        - A harmful effect of video games is they release dopamine and they can cause people to get addicted and not do things they are supposed to do like their homework. \n",
    "    - Social Medial:\n",
    "        - Benefits of social media is that it allows you to meet new people and it allows you to educate yourself.\n",
    "        - A harmful effect of social media is people could have a higher chance of being bullied and social could be a distraction.\n",
    "    - Smart Watch: \n",
    "        - Benefits of a smart watch is that it makes it easier to answer calls and respond to texts.\n",
    "        - A harmful effect of a smart watch is that you could be easily distracted in class due to how easy it is to access the watch.\n",
    "\n",
    "\n",
    "## Talk about dopamine issues above. Real? Parent conspiracy? Anything that is impacting your personal study and success in High School?\n",
    "    - I think there are many dopamine issues with students personal study and success in High School. I think video games and social media release many amounts of dopamine and they can distract students from their work.\n"
   ]
  },
  {
   "cell_type": "markdown",
   "metadata": {},
   "source": [
    "# Blog Post Reflection – Digital Empowerment"
   ]
  },
  {
   "cell_type": "markdown",
   "metadata": {},
   "source": [
    "- <b>How does someone empower themself in a digital world?<b>\n",
    "\n",
    "- <b>How does someone that is empowered help someone that is not empowered? Describe something you could do at Del Norte HS.<b>\n",
    "\n",
    "- <b>Is paper or red tape blocking digital empowerment? Are there such barriers at Del Norte? Elsewhere?<b>"
   ]
  }
 ],
 "metadata": {
  "language_info": {
   "name": "python"
  },
  "orig_nbformat": 4
 },
 "nbformat": 4,
 "nbformat_minor": 2
}
