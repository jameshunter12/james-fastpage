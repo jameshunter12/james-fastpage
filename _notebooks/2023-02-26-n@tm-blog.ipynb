{
 "cells": [
  {
   "cell_type": "markdown",
   "metadata": {},
   "source": [
    "# N@tM\n",
    "- toc: true \n",
    "- badges: true\n",
    "- comments: true\n",
    "- categories: [markdown]"
   ]
  },
  {
   "cell_type": "markdown",
   "metadata": {},
   "source": [
    "## Summary of N@TM\n",
    "This event took place on February 16, 2023 and my group and I arrived at 6:20 because our presenting time was at 6:30 and we wanted to have time to set up. Once we were all ready we walked around for a little bit and looked at some of the other groups projects, but when 6:30 came we all sat down and got ready to present. When the time came, Caleb had to take care of something, so he was not ready, but we still continued on. We presented to mostly parents and a few other students. Some of the parents and students just listened, while some of them asked questions like, \"how are you generating these locations?\" and, \"what is it deployed through?\". We tried waiting for Caleb, but it was getting too close to the end, so we just decided to present and Mr.Yeung and everything went well and I think he liked it. Caleb was able to show up right at the end and he was able to present to Mr.Yeung. Once our time period was up (7:00), we walked around and looked at other CSP projects, 3D animation, photography, and ceramics."
   ]
  },
  {
   "cell_type": "markdown",
   "metadata": {},
   "source": [
    "## Projects from Other Classes\n",
    "Once the clock struck 7:00 I went around and started too look at other projects like 3D Animation, Photography, Ceramics, and other CSP projects. I was very impressed by the other students in the other CSP classes that they were so capable of doing some of the things they did. The 3D animation was also very impressive to me because some of them had so much detail that it seemed impossible to recreate. Some of the photography photos didnt even look real, which surprised me. Once I saw how good some of the other CSP projects were, it inspired me to make mine even better.\n",
    "-Below are some of the photos I took and what I thought about them."
   ]
  },
  {
   "cell_type": "markdown",
   "metadata": {},
   "source": [
    "## Projects from CSP"
   ]
  },
  {
   "cell_type": "markdown",
   "metadata": {},
   "source": [
    "![](game.csp.png)\n",
    "- This game is called cooler math games and there are various math games you can chose from\n",
    "- They had a minesweeper game, tic tac toe, and a select your own game\n",
    "- I thought this was interesting because my group and the other groups in my period didn't do games, so I thought this one stood out\n",
    "- I also liked the leaderboard they had"
   ]
  },
  {
   "cell_type": "markdown",
   "metadata": {},
   "source": [
    "![](dumbtrade.png)\n",
    "- This one caught my eye because I am interested into stocks\n",
    "- Their website had parts where you could open charts of the stock and they had a page where it told you the percent the stock was up or down\n",
    "- They also had a game that I thought was interesting where you got a certain amount of money you could use\n",
    "- They used an api that generated different stocks"
   ]
  },
  {
   "cell_type": "markdown",
   "metadata": {},
   "source": [
    "## 3D Animation"
   ]
  },
  {
   "cell_type": "markdown",
   "metadata": {},
   "source": [
    "![](kitchen.png)\n",
    "- This 3D animation project had a whole kitche, which I though was unique\n",
    "- The coffee and the donut still stood out even with the whole kitchen, which I thought was good\n",
    "- I thought it was very impressive that they even included the backyard through the window\n",
    "- I also liked the person they added washing their hands "
   ]
  },
  {
   "cell_type": "markdown",
   "metadata": {},
   "source": [
    "## Photography"
   ]
  },
  {
   "cell_type": "markdown",
   "metadata": {},
   "source": [
    "![](lithouse.png)\n",
    "- This photo featured a lit up building in the night down by the water\n",
    "- This one stood out to me because of lights that outlined the building\n",
    "- I also think the reflection off of the water made this photo a lot more unique\n",
    "- This photo reminded me of something I would see on my windows laptop before I log in (like a featured photo)"
   ]
  }
 ],
 "metadata": {
  "kernelspec": {
   "display_name": "Python 3.9.6 64-bit",
   "language": "python",
   "name": "python3"
  },
  "language_info": {
   "name": "python",
   "version": "3.9.6"
  },
  "orig_nbformat": 4,
  "vscode": {
   "interpreter": {
    "hash": "31f2aee4e71d21fbe5cf8b01ff0e069b9275f58929596ceb00d14d90e3e16cd6"
   }
  }
 },
 "nbformat": 4,
 "nbformat_minor": 2
}
