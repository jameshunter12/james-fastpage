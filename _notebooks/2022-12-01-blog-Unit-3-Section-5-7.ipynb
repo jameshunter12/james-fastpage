{
 "cells": [
  {
   "cell_type": "markdown",
   "metadata": {},
   "source": [
    "# 3.5-3.7 Homework and Hacks\n",
    "\n",
    "- toc: true \n",
    "- badges: true\n",
    "- comments: true\n",
    "- categories: [jupyter]"
   ]
  },
  {
   "cell_type": "markdown",
   "metadata": {},
   "source": [
    "# Important Vocab\n",
    "- Boolean: binary variable with only two possible values, \"true\" or \"false\"\n",
    "- Algorithm: Finite set of instructions that accomplish a specific task\n",
    "- Nested conditional: A conditional inside of a conditional"
   ]
  },
  {
   "cell_type": "markdown",
   "metadata": {},
   "source": [
    "For hacks, <mark>make a copy of this notebook and answer the questions or complete the code</mark>, as described in comments. Additionally, <mark>blog about any missed questions</mark>, or what you learned from this lesson."
   ]
  },
  {
   "cell_type": "markdown",
   "metadata": {},
   "source": [
    "# 3.5 Hacks\n",
    "\n",
    "## Binary Practice\n",
    "Using psuedocode operators determine if the statements are true or false. The number type will be indicated in parentheses.\n",
    "\n",
    "**1. 90(D) = 1000(B)**\n",
    "\n",
    "- A. True\n",
    "- <mark>B. False </mark>\n",
    "\n",
    "**2. 10(D) ≠ 0110(B)**\n",
    "\n",
    "- <mark>A. True</mark>\n",
    "- B. False\n",
    "\n",
    "**3. 56(D) ≥ 111000(B)**\n",
    "\n",
    "- <mark>A. True</mark>\n",
    "- B. False\n",
    "\n",
    "**3. 99(D) < 1110011(B)**\n",
    "\n",
    "- <mark>A. True</mark>\n",
    "- B. False"
   ]
  },
  {
   "cell_type": "markdown",
   "metadata": {},
   "source": [
    "Now, complete the binary truth tables"
   ]
  },
  {
   "cell_type": "markdown",
   "metadata": {},
   "source": [
    "<html>\n",
    "<style>\n",
    "    table, th, td { \n",
    "        border:2px solid white;\n",
    "    }\n",
    "</style>\n",
    "    <div>AND Operator</div>\n",
    "    <div>\n",
    "        <table>\n",
    "            <tr>\n",
    "                <th>Value 1</th>\n",
    "                <th>Value 2</th>\n",
    "                <th>Result</th>\n",
    "            </tr>\n",
    "            <tr>\n",
    "                <td>1</td>\n",
    "                <td>1</td>\n",
    "                <td>1</td>\n",
    "            </tr>\n",
    "            <tr>\n",
    "                <td>1</td>\n",
    "                <td>0</td>\n",
    "                <td>0</td>\n",
    "            </tr>\n",
    "            <tr>\n",
    "                <td>0</td>\n",
    "                <td>1</td>\n",
    "                <td>0</td>\n",
    "            </tr>\n",
    "            <tr>\n",
    "                <td>0</td>\n",
    "                <td>0</td>\n",
    "                <td>0</td>\n",
    "            </tr>\n",
    "        </table>\n",
    "    </div>\n",
    "    <div>OR Operator</div>\n",
    "    <div>\n",
    "        <table>\n",
    "            <tr>\n",
    "                <th>Value 1</th>\n",
    "                <th>Value 2</th>\n",
    "                <th>Result</th>\n",
    "            </tr>\n",
    "            <tr>\n",
    "                <td>1</td>\n",
    "                <td>1</td>\n",
    "                <td>1</td>\n",
    "            </tr>\n",
    "            <tr>\n",
    "                <td>1</td>\n",
    "                <td>0</td>\n",
    "                <td>1</td>\n",
    "            </tr>\n",
    "            <tr>\n",
    "                <td>0</td>\n",
    "                <td>1</td>\n",
    "                <td>1</td>\n",
    "            </tr>\n",
    "            <tr>\n",
    "                <td>0</td>\n",
    "                <td>0</td>\n",
    "                <td>0</td>\n",
    "            </tr>\n",
    "        </table>\n",
    "    </div>\n",
    "    <div>Not operator</div>\n",
    "    <div>\n",
    "        <table>\n",
    "            <tr>\n",
    "                <th>Not</th>\n",
    "                <th>Value</th>\n",
    "                <th>Result</th>\n",
    "            </tr>\n",
    "            <tr>\n",
    "                <td>Not</td>\n",
    "                <td>1</td>\n",
    "                <td>0</td>\n",
    "            </tr>\n",
    "            <tr>\n",
    "                <td>Not</td>\n",
    "                <td>0</td>\n",
    "                <td>1</td>\n",
    "            </tr>\n",
    "        </table>\n",
    "    </div>\n",
    "</html>"
   ]
  },
  {
   "cell_type": "markdown",
   "metadata": {},
   "source": [
    "## Python Practice"
   ]
  },
  {
   "cell_type": "code",
   "execution_count": 11,
   "metadata": {},
   "outputs": [
    {
     "name": "stdout",
     "output_type": "stream",
     "text": [
      "False\n",
      "True\n",
      "True\n"
     ]
    }
   ],
   "source": [
    "# Testing out relational operators\n",
    "# Practice with these statements\n",
    "\n",
    "print(20 > 20) # How can you change the operator to print a value of False?\n",
    "\n",
    "x = 30\n",
    "y = 20\n",
    "z = 10\n",
    "print(x == y + z) # How can this return true by only manipulating the operator?\n",
    "\n",
    "# Manipulate the variables x, y, and z to make the below statement return true\n",
    "print(x > y > z)"
   ]
  },
  {
   "cell_type": "markdown",
   "metadata": {},
   "source": [
    "# 3.6 Hacks\n",
    "\n",
    "## AP Prep\n",
    "\n",
    "**1. What is displayed by this code?**\n",
    "- result <-- 75\n",
    "- IF result < 80 {\n",
    "    DISPLAY(\"Please schedule a retake.\")\n",
    "}\n",
    "- ELSE {\n",
    "    DISPLAY(\"Nice job!\")\n",
    "}\n",
    "\n",
    "1. Nice job!\n",
    "2. Display\n",
    "3. <mark>Please schedule a retake.</mark>\n",
    "4. 75\n",
    "\n",
    "**2. How is an if statement different from an if-else statement.**\n",
    "\n",
    "1. Extra words.\n",
    "2. <mark>An if statement will only go through a process if a condition is met. An if-else statement will go through code no matter the conditions.</mark>\n",
    "3. They are the exact same.\n",
    "4. An if statement will go through the entire code segment every single time and the if-else statement is always used in an algorithm, no matter the conditions.\n",
    "\n",
    "**3. What would be most appropriate for this situation? Ben wants to check his bank account. If his car fuel is full, he will go to the bank. Otherwise, he will go home. If he goes to the bank, he will withdraw money only if his balance is above $1000.**\n",
    "\n",
    "1. If statement\n",
    "2. <mark>If-else statement</mark>\n",
    "\n",
    "**4. What would be most appropriate for this situation? Luke wants to play basketball. If it is sunny outside he will go to the park to play basketball.**\n",
    "\n",
    "1. <mark>If statement</mark>\n",
    "2. If-else statement\n",
    "\n",
    "## Using Python"
   ]
  },
  {
   "cell_type": "code",
   "execution_count": 29,
   "metadata": {},
   "outputs": [
    {
     "name": "stdout",
     "output_type": "stream",
     "text": [
      "lion lives in the desert\n",
      "wildebeest lives in the desert\n"
     ]
    }
   ],
   "source": [
    "animals = [\"lion\", \"tiger\", \"wildebeest\", \"shark\", \"jellyfish\", \"blobfish\", \"raven\"]\n",
    "for i in animals:\n",
    "    if i == \"wildebeest\" or i == \"lion\": # What boolean value does this statement cause? True boolean because shark is included in i.\n",
    "        print(i + \" lives in the desert\")\n",
    "\n",
    "# Practice\n",
    "# Using only one more if statement, alter the code to print out a statement saying if an animal lives in the desert, based on booleans"
   ]
  },
  {
   "cell_type": "markdown",
   "metadata": {},
   "source": [
    "# 3.7 Hacks\n",
    "\n",
    "## Exercise 1\n",
    "- Create dictionaries for multiple food items, with the listed specifications\n",
    "    - Chicken Alfredo, Meat: Chicken, Time to Prepare: 60 minutes\n",
    "    - Cheese Quesadilla, Meat: None, Time to Prepare: 10 minutes\n",
    "    - Beef Wellington, Meat: Beef, Time to Prepare: 150 minutes\n",
    "- Used nested conditionals, determine which meal you can cook, given that a) you have no meat at home, and b) you only have 30 minutes to make the meal"
   ]
  },
  {
   "cell_type": "code",
   "execution_count": 12,
   "metadata": {},
   "outputs": [
    {
     "name": "stdout",
     "output_type": "stream",
     "text": [
      "Chicken Alfredo to much meat and takes too long to prepare\n",
      "You can make Cheese Quesadilla.\n",
      "Beef Wellington to much meat and takes too long to prepare\n"
     ]
    }
   ],
   "source": [
    "ChickenAlfredo = {\n",
    "  \"name\": \"Chicken Alfredo\",\n",
    "  \"meat\": 5, #pounds\n",
    "  \"time to prepare(min)\": 60 \n",
    "}\n",
    "\n",
    "CheeseQuesadilla = {\n",
    "  \"name\": \"Cheese Quesadilla\",\n",
    "  \"meat\": 0, #pounds\n",
    "  \"time to prepare(min)\": 10\n",
    "}\n",
    "\n",
    "BeefWellington = {\n",
    "  \"name\": \"Beef Wellington\",\n",
    "  \"meat\": 10, #pounds\n",
    "  \"time to prepare(min)\": 150\n",
    "}\n",
    "\n",
    "def mealfinder(meal):\n",
    "\n",
    "    if meal[\"meat\"] < 1:\n",
    "        if meal[\"time to prepare(min)\"] < 30:\n",
    "            print(\"You can make \" + meal[\"name\"] + \".\")\n",
    "        else:\n",
    "            print(\"You cannot make \" + meal[\"name\"] + \".\")\n",
    "    else:\n",
    "        print(meal[\"name\"] + \" to much meat\" + \" and takes too long to prepare\")\n",
    "\n",
    "mealfinder(ChickenAlfredo)\n",
    "mealfinder(CheeseQuesadilla)\n",
    "mealfinder(BeefWellington)"
   ]
  },
  {
   "cell_type": "markdown",
   "metadata": {},
   "source": [
    "## Exercise 2\n",
    "\n",
    "Make a flowchart([here](https://www.lucidchart.com/pages/examples/flowchart-maker) is one we used) and write pseudocode for the following scenario.\n",
    "- Mr. Yeung would like to grade live reviews. \n",
    "- He wants to see if each student has at least 2 issues on their project. If they don't they receive a score of 2.0.\n",
    "- If they have at least 2 issues, check that they have completed at least 5 of their scrumboard tasks.\n",
    "- If they have completed 5 scrumboard tasks, give the student a 2.7. If they have not completed 5 scrumboard tasks, give them a score of 2.5. If they have completed more than 5 tasks, give them a score of 3.0.\n",
    "- How much would a student with 3 issues and 1 complete scrumboard task receive?"
   ]
  },
  {
   "cell_type": "markdown",
   "metadata": {},
   "source": [
    "![Flowchart](https://lh3.googleusercontent.com/mYBkiYKhptnX90sWgm6P1_5e4vhi1I3YZ2IkGMtbezXMcOpR4VAxvrhMQJkSV7w8nHBGzMDom5Vd91VOpFkJq4EM_BXCoAD7y2EXV8O8Mm6sh8R_nFuveRm2wmYBI8lLZrfU_X8iTCdSfEn-gtbJPfXjWP4jDmr7wfoHqjWwIMfOZxiweiK4u3xvfkodLXpiqaKcIVnhLX9ar4AyRonO9ZMNBwo3y8oqmtBaiECLMfFYdJbn4-cJvkJ_WvjMTIzc85GSm-OkxJiUIIIswIxJ9Swer8Fa0ekmDZKl2e6eRLbfowySUytCTh-VAWtpAvTk3nC5P9FgOSM5B1f2CvJAKy6kBHMm-QsxlBkM2p6ICjlxsQg2Uu-Tet7xoPpj-T9hEOA7b9Tb-odoA9EeVhdGRzFtPJzI32luIrBELPDegLB8koKkE9cRAEra9YBiafMNMlXTzVjF08xvQI5eor3Vg4sNUWKD7Ct4UzbvkudQXz3HyaEGu5Hy3OU-fOMoBwIQ19oM787aCVk2eh2ZVRmCqNdtRirfcDK4HIlBcVolEu_QYJHXuYQdMvuCZXH19SECxqQltY4mm9yF1e2bVj9n1ec9ic82gHfO2_7RIwaNviKCJRHN-838PZv69XjuZy2CD5w51Rf4wC3cNHmfaKT8fUnpx4A1XnR3uzP9_X_mghXdva4xoKs_OYikJxQv89queUETvuz4uAqXrXbbsWtjEt1k1JNXNMnFDtG9iDkG4r7iJV1v8mjnmOxg_e_Kf6GGdjKwN7CcDaGGnZRSLCi9T12-s48n0Go4H_fmGAgOC3nV_1P5IIVSe8oxHLg9NkqT2qS2U_FI_OcXwbQ_8ZcJjBv4UK1yHK_2h_pngF3XeyhITuyh2Yi__pDamXFNAHc0tE_058ZRfJd2bY9ZoF-zJP5Sg3Qs6SNhiRdjxyIq9vqW=w1808-h1014-no?authuser=0)\n",
    "\n",
    "-They would get 2.0 because they do not have at least 5 tasks completed"
   ]
  },
  {
   "cell_type": "markdown",
   "metadata": {},
   "source": [
    "# Blog/Final Thoughts\n",
    "- For section 3.5 and 3.6 I already understood how to do these taska\n",
    "- They were good though because I was able to get more practice with these ideas\n",
    "---\n",
    "- 3.7 is where it got a little tricky\n",
    "- Was not able to do it by myself I had to look back at your lesson\n",
    "- Once I reviewed the lesson I was able to understand the code and put it to use\n",
    "- The flowchart though was easy to make"
   ]
  }
 ],
 "metadata": {
  "kernelspec": {
   "display_name": "Python 3.9.6 64-bit",
   "language": "python",
   "name": "python3"
  },
  "language_info": {
   "codemirror_mode": {
    "name": "ipython",
    "version": 3
   },
   "file_extension": ".py",
   "mimetype": "text/x-python",
   "name": "python",
   "nbconvert_exporter": "python",
   "pygments_lexer": "ipython3",
   "version": "3.9.6"
  },
  "orig_nbformat": 4,
  "vscode": {
   "interpreter": {
    "hash": "31f2aee4e71d21fbe5cf8b01ff0e069b9275f58929596ceb00d14d90e3e16cd6"
   }
  }
 },
 "nbformat": 4,
 "nbformat_minor": 2
}
