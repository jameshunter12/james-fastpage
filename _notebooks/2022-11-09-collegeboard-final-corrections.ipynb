{
 "cells": [
  {
   "cell_type": "markdown",
   "metadata": {},
   "source": [
    "# College Board Final Exam Corrections\n",
    "> This shows the problems I struggled on and my corrections for them\n",
    "- toc: true \n",
    "- badges: true\n",
    "- comments: true\n",
    "- categories: [markdown]"
   ]
  },
  {
   "cell_type": "markdown",
   "metadata": {},
   "source": [
    "![](https://lh3.googleusercontent.com/g_9DmooIadPkG2GXSvO4XwHv_NjxQ2RApNa9-q8H3C_Iip0PKDN9AmuwhGpQcdMypmAhGECuDPjvFmXYKQM_4FBinfvwyVahDDijYTtYh0DTtqlrNRvK3vMcZOZhg5uzuo_qSAyyW76kYmBCYDjU2Dv_4YRN9cVYrrZkHqru-wfFyRSuTFP62UC5Oawd7Fwv6_2_JVd9CydDyaoXS7HtExdbHKlr0pg-2yNQngR9wnlVVhpC3XTCeHkR-6HnFyM-MaFr9JayvzFRl20P_rjN5u48kzf4sL_hyKTWFUP0HWSBQa5NLfnFDFRoZqeXMfrxV2yvs8tZ7V2hk-qpH2vY9jO7uqOltL8g4TCgBMJA7FPl2qWIxPcsolBM7vLpx2dE-qMvibVyfnuJrblTojJxWh1SxCZYvzjpgxmYp46kjqFUMZCO-KJHPdPZ9qNn_raJ6Prd6UUep_d-buA9XnV0O7cn61pgfqmbS1Xvy0Tn4FKzSkN7nhR2Bhz_S_pWVYrLJaKGbEbJj5jDbHRM00F86-phhcrIgjr1xctU2aiGmLRxP50SpcMyOMbzhEE4EW7VG2NsHJD0GxPqw9syZG4iLHdJBLWoKgynG_yybceOhbsyVQfl0hB593_IttwlFiaDR7imOXKpPWB4dXFg3PzW03tZUgAF9Hjdt6GGSc5Y0ZpiL_svmS7du1IVOttZ6GcBpL7ffszSk5OZXgL4HJIZO1N2PjaAYsjf653x8jxVJVgPpUA26Q8-ukGe50KtHGt-ux-N5wJIOudNjTHdcSywfrX-m5YusEEt1XgQ761aMS-I2N-WvOyyyBIIqfvSpaA3C96_zQVwS5LqAExh9rwFlt3bfAB-a-UBkeNqpwBuUPo599uRmp_EQwd9Jm2UaO-0kFYOE05iQCh9GdbbTk1Uk22wMvfVUGP9AWY7BILx0DKc=w1856-h698-no?authuser=0)\n",
    "\n",
    "My answer was close because it contained a stribng varible and Boolean variable, which are in the correct answer. My answer was wrong because the names of the variables were not meaningful. C is the correct answer because it uses a string variable and a Boolean variable, the Boolean variable is important because it tells us if the statement is true or false (absent or not.) The named also used for the variable works well because they are appropriate and easy to read."
   ]
  },
  {
   "cell_type": "markdown",
   "metadata": {},
   "source": [
    "![](https://lh3.googleusercontent.com/8NM6Jum0R_GiEeb5Z2SVdAI61GrcQtrba_1LeZKhCfE4jRETB3KeC3o_rFvehaY1QYe76zrBrifhMWyHE_bNAjIRLvqL1wxyl1-spZ1rEfzTRGMuIkaNbrNAhH07ZxicVg0lfLIaQX_B_8rDue2VtsbMukM5y5thi062IvefW4Yy828j9WDNpr8Omp-8HnLs4kkKLzbgcmMJso_NnT5zQloAK7wSc54YgeZ5TDsLeSaPkoy9fYgmgQjQuNM0v_8LziLD_LbuXJsqSBcI-i1zyGUg2XUcX2V7lP0SN6oWU2h03vBUeQha58JiyjYflV342oo58CbrHP0qxGsUsXzH9BCbVdpLXG5hWPbPQeLePXhKBNVXA7sSWw8UMkdNCXSYWq53bR8pa48gxfA713tyH6G2xCRbRbTpMDEIQAYQW6-PgX5anFTj-HybS8UvyyYDLoj52LgCxyT2int9eh_UsxJYU5DsEN6Ou_m-sB75ZDBZD-vykfHMz4iFWKYnfoAAoZpdL53PZ6p9aKLdv4oOQKJQaun-zFq8zHDbx08XWQ8ont9tPbDif_9ibHCoT15OVQz5mb4v23aDIUJzGZM6bfJ3Cw7BMe2QJL7CraZwLr-DmiF2QSxe_QZfv4-LMjJKmRQdxwF-wNYf0Yj3o8wGjNWX-X7_Gghrkj63mTd2U0dZlEvy4tw8I_gEVf-auXlaZboqK11rKnDx2kNdaAcnv9r7wiLh_-a8B3Bgb5DOJ74npIROTSt4ePTeENlVcXwGM5nyKfGQrc04q62anSzHO9h1QbETg8rEYvfeq3ELGYBxdwvwSL2Qsd6K-7QXhfElcrdiDBg5nMpg9DuSE1H5GMdMuQPO6bc8FpLz7Nxug9XJOpCgm92TvMPwgUw6Uj3FsEIThBg3XLTn2eKEHAKqqT1A9K3mGMdzry37i3mu1lSg=w1866-h1396-no?authuser=0)\n",
    "\n",
    "I chose C because I narrowed it down to two answers (C and D) and I went with C. I knew it was one of those because the 7th line tells us a = 21, the 6th lines tells us b = 40, and the thrid line tells us c = 30. I said d = 40 because I could not figure out where else it was said, so I went with line 4. I now understand my mistake because I added c and d (30+40) and then divided by 2 so I got 35, which made me confused. I realized I had to do d divided by 2 and then add c (40/2=20+30) to get an answer of 50."
   ]
  },
  {
   "cell_type": "markdown",
   "metadata": {},
   "source": [
    "![](https://lh3.googleusercontent.com/2ffo3eU-CmkCJEFpwffTIs4lFlzDrt4ybmk7emWUdDqa6E-ZColmCwYlJ7k0PEbXmYxg53hhHGHQRGsKyWi4rijB3-HWUqobpsfRsk9N3XoOOsbe_BXiuf9zmsgGytdEkAFSaF3hmZvy-_LDXnM0Sckdm7jxIKfqXWXqhKLCdpQpG8Zoml64v0K3RZmkll6EnRIxYz_AZh_sEjnpfyITycJnZKrEYAW8uLanQI5Z2GCxEpc4j_pi9_D8qcOqVk695_d-zoVwR_T0q1zatf4O9guf0l_riDEBTECa5q-Rl_qDXZoNUcLJiefns7pPfley3uLtRJPirpubBfPqYez5RSMTooP9jzxoa0AMRiFdnt6Fu953gzmIR0LLmASyB1VlF9PxDTBb_eAC_XVncmRgy6poKFlfgZorNzgC2ocKpwFimRp1EtEvRQdg1nDs0GpNTTGNKyzeKcz3l2kn1aRw-hT4N9tqD9ZXeVj24JzOC4Viqxj71JKA7zcGOtVsUMRpPf0kR9kHobysjjKAF68LCGI8a8s7944JtD1Z9a1HQGjN0cdF_fwGTBkVf4lBPZp7_Cl11xJV2cA6ws-TxFrHvmzCpl580FLkKPjazg37gMnpBmHYjAYFG-_S8pr2u6dvOTa8lYJp3jixtCYYFlIDaLfnKq9qXKfd9lqjFC5AOb13m-WcpFFbZks1Sagp5EAiWA16ZRAQaGcDa6NTFtsqkSiA-ehAEU8PKsT-pyBvI0PXdvkK7AdqsGbtxqlgAofL_KVojOnsj1hO6fAbZ-AiB1u9rYRn0I2ey1ztRAU2d2EX0LMdU9pqgwyl5p5nOEtNjD-jgsxGSxZwjFmYjmmCvn9H2nw8HlaebaqBIFlKfhFc7TFYU0JvPjgNTmmlD2w5fPO2NQvV0fPwPLC2piXvSUYPzsOxUS76A93gu0zAsRKv=w1850-h1008-no?authuser=0)\n",
    "\n",
    "The first part of the answer I selected was wrong, but the second part of it was correct. If I were to have ran the code I would have got \"onno\", which is not noon. C is the correct answer because it uses the word \"on\". The second line is basically reversing the word, so you would get \"no\" and then add the original word back (\"on\") to the end, which would give you the word \"noon\"."
   ]
  }
 ],
 "metadata": {
  "kernelspec": {
   "display_name": "Python 3.9.6 64-bit",
   "language": "python",
   "name": "python3"
  },
  "language_info": {
   "name": "python",
   "version": "3.9.6"
  },
  "orig_nbformat": 4,
  "vscode": {
   "interpreter": {
    "hash": "31f2aee4e71d21fbe5cf8b01ff0e069b9275f58929596ceb00d14d90e3e16cd6"
   }
  }
 },
 "nbformat": 4,
 "nbformat_minor": 2
}
