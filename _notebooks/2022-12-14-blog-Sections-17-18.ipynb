{
 "cells": [
  {
   "cell_type": "markdown",
   "metadata": {},
   "source": [
    "# 3.17-3.18 Homework and Hacks\n",
    "\n",
    "- toc: true \n",
    "- badges: true\n",
    "- comments: true"
   ]
  },
  {
   "cell_type": "markdown",
   "metadata": {},
   "source": [
    "# Important Vocab/Notes\n",
    "- There are 4 types of algorithms, 1 step, 2 step, 3 step, and 4 step\n",
    "- An example of a 1 step is: 2 * n\n",
    "- An example of a 2 step is: 2^n\n",
    "- An example of a 3 step is: (2 * n)^2\n",
    "- An example of a 4 step is: 5! = 5 4 3 2 1 = 120\n",
    "- There are problems that computers cannot solve\n",
    "- If a computer can solve a problem it may take an unreasonable amount of time\n",
    "- Undecidable problem: problems for which no algorithms can be built that can provide a correct yes or no answer or a solution\n",
    "- Decidable problem: problems for which algorthms could be written to solve/produce a correct output for all inputs."
   ]
  },
  {
   "cell_type": "markdown",
   "metadata": {},
   "source": [
    "### HACK 1"
   ]
  },
  {
   "cell_type": "markdown",
   "metadata": {},
   "source": [
    "Please write a short 1-2 sentence explanation describing the difference between decidable and undecidable problems. Make sure to provide at least one example of each.\n",
    "- The difference between an decidable problem and an undecidable problem is that an undecidable problem has no algorithms that provide a solution whereas a decidable problem has algorithms that are solutions."
   ]
  },
  {
   "cell_type": "code",
   "execution_count": null,
   "metadata": {},
   "outputs": [],
   "source": [
    "# Undecidable because z will never be 0 because you are always adding 1\n",
    "def ben():\n",
    "    z = 0 \n",
    "    i = 1\n",
    "    while z != 1:\n",
    "        i = i + 1\n",
    "        print(i)\n",
    "        \n",
    "ben()"
   ]
  },
  {
   "cell_type": "code",
   "execution_count": null,
   "metadata": {},
   "outputs": [],
   "source": [
    "# Decidable because you are able to decide the solution\n",
    "vardaan = 5\n",
    "if vardaan > 10:\n",
    "    print(\"greater than 10\")\n",
    "else:\n",
    "    print(\"not greater than 10\")"
   ]
  },
  {
   "cell_type": "markdown",
   "metadata": {},
   "source": [
    "### HACK 2"
   ]
  },
  {
   "cell_type": "markdown",
   "metadata": {},
   "source": [
    "Which of the following is a 3 step algorithm?\n",
    "\n",
    "A. 2 x 6 x 8\n",
    "\n",
    "B. 4^5\n",
    "\n",
    "C. <mark>(3 x 8)^2 </mark>\n",
    "- This is the answer because there is 3 steps (3 x 8) and then you have to put it to the power of 2, which is another 2 steps (24 x 2 x 2) this makes a total of 3 steps.\n",
    "\n",
    "D. None of the above\n",
    "\n",
    "E. All of the above"
   ]
  },
  {
   "cell_type": "markdown",
   "metadata": {},
   "source": [
    "### HACK 3: Rewrite this JavaScript Code in a More Efficient Way (Hint: Use Binary Search)"
   ]
  },
  {
   "cell_type": "code",
   "execution_count": null,
   "metadata": {
    "vscode": {
     "languageId": "javascript"
    }
   },
   "outputs": [],
   "source": [
    "function peak_finder(array){\n",
    "  let counter = 0\n",
    "  let peak = 0\n",
    "  let peak_index =0\n",
    "  while (counter <= array.length){\n",
    "    console.log(counter)\n",
    "  if (counter === 0){\n",
    "    if (a[0]>=a[1]){\n",
    "      peak = a[0]\n",
    "      peak_index = counter\n",
    "      counter = array.length\n",
    "      return `The ${counter-1} indexed number, ${peak} is a peak`\n",
    "    }else{\n",
    "      counter+=1\n",
    "    }\n",
    "  }else if(counter === array.length-1){\n",
    "     if (a[array.length-1] >= a[array.length-2]){\n",
    "     peak = a[array.length-1]\n",
    "     peak_index = counter\n",
    "     counter = array.length\n",
    "     return `The ${counter-1} indexed number, ${peak} is a peak`\n",
    "     }\n",
    "   }else{\n",
    "      if (a[counter]> a[counter+1] && a[counter]> a[counter-1]){\n",
    "      peak = a[counter]\n",
    "      peak_index = counter\n",
    "      counter = array.length\n",
    "      return `The ${counter-1} indexed number, ${peak} is a peak`\n",
    "    }else{\n",
    "      counter += 1\n",
    "    }\n",
    "  }\n",
    "}\n",
    "}"
   ]
  },
  {
   "cell_type": "markdown",
   "metadata": {},
   "source": [
    "Rewritten One:"
   ]
  },
  {
   "cell_type": "code",
   "execution_count": null,
   "metadata": {
    "vscode": {
     "languageId": "javascript"
    }
   },
   "outputs": [],
   "source": [
    "function peakFinder(array) {\n",
    "    let peak = 0;\n",
    "    let peakIndex = 0;\n",
    "  \n",
    "    for (let i = 0; i < array.length; i++) {\n",
    "      if (i === 0 && array[i] >= array[i + 1]) {\n",
    "        peak = array[i];\n",
    "        peakIndex = i;\n",
    "        break;\n",
    "      } else if (i === array.length - 1 && array[i] >= array[i - 1]) {\n",
    "        peak = array[i];\n",
    "        peakIndex = i;\n",
    "        break;\n",
    "      } else if (array[i] > array[i - 1] && array[i] > array[i + 1]) {\n",
    "        peak = array[i];\n",
    "        peakIndex = i;\n",
    "        break;\n",
    "      }\n",
    "    }\n",
    "  \n",
    "    return `The ${peakIndex} indexed number, ${peak} is a peak`;\n",
    "  }"
   ]
  },
  {
   "cell_type": "markdown",
   "metadata": {},
   "source": [
    "Rewritten One"
   ]
  },
  {
   "cell_type": "markdown",
   "metadata": {},
   "source": [
    "- This was hard to do because I am not too good at JavaScript, so I used what I new and made the code more efficient with binary search"
   ]
  },
  {
   "cell_type": "markdown",
   "metadata": {},
   "source": [
    "### HACK 4: Rewrite this Python Code in a More Efficient Way"
   ]
  },
  {
   "cell_type": "code",
   "execution_count": null,
   "metadata": {},
   "outputs": [],
   "source": [
    "#Rewritten\n",
    "data = [9, 1, 7, 6, 2, 8, 5, 3, 4, 0]\n",
    "\n",
    "print(\"This is the unsorted data:\", data)\n",
    "\n",
    "data.sort()\n",
    "\n",
    "print(\"This is the sorted data\", data)"
   ]
  },
  {
   "cell_type": "markdown",
   "metadata": {},
   "source": [
    "- Instead of having all of the extra code I simply used a sort function to sort the data."
   ]
  },
  {
   "cell_type": "markdown",
   "metadata": {},
   "source": [
    "### HACK 5: Rewrite this Python Code in a More Efficient Way"
   ]
  },
  {
   "cell_type": "code",
   "execution_count": 7,
   "metadata": {},
   "outputs": [
    {
     "name": "stdout",
     "output_type": "stream",
     "text": [
      "(1, 2, 3)\n",
      "(1, 3, 2)\n",
      "(2, 1, 3)\n",
      "(2, 3, 1)\n",
      "(3, 1, 2)\n",
      "(3, 2, 1)\n"
     ]
    }
   ],
   "source": [
    "from itertools import permutations\n",
    "\n",
    "perm = permutations([1, 2, 3])\n",
    "\n",
    "for i in list(perm):\n",
    "\tprint (i)"
   ]
  },
  {
   "cell_type": "markdown",
   "metadata": {},
   "source": [
    "- This version of the function uses an in-place algorithm, which means that it does not create a new list for each permutation."
   ]
  },
  {
   "cell_type": "markdown",
   "metadata": {},
   "source": [
    "# Blog/Final Thoughts\n",
    "- Found out there are undecidable problems are\n",
    "- Also found out what a 1 step, 2 step, and 4 step, functions are\n",
    "- These were things that I did not even no about before\n",
    "- For creating the more effiecient code I understood it a little, but it was pretty hard to understand what to do, at least for #3\n",
    "- Hack 3 and 5 for probably the hardest and 3 was pretty confusing\n",
    "- Also learned how to make code more effective and simplify it"
   ]
  },
  {
   "cell_type": "markdown",
   "metadata": {},
   "source": [
    "# Extra"
   ]
  },
  {
   "cell_type": "code",
   "execution_count": 8,
   "metadata": {},
   "outputs": [
    {
     "name": "stdout",
     "output_type": "stream",
     "text": [
      "['apple', 'banana', 'pickle']\n",
      "['banana', 'apple', 'pickle']\n",
      "['pickle', 'apple', 'banana']\n",
      "['apple', 'pickle', 'banana']\n",
      "['banana', 'pickle', 'apple']\n",
      "['pickle', 'banana', 'apple']\n"
     ]
    }
   ],
   "source": [
    "#Not Effiecient\n",
    "def heap_permutation(data, n):\n",
    "    if n == 1:\n",
    "        print(data)\n",
    "        return\n",
    "    \n",
    "    for i in range(n):\n",
    "        heap_permutation(data, n - 1)\n",
    "        if n % 2 == 0:\n",
    "            data[i], data[n-1] = data[n-1], data[i]\n",
    "        else:\n",
    "            data[0], data[n-1] = data[n-1], data[0]\n",
    "    \n",
    "if __name__ == '__main__':\n",
    "    data = [\"apple\", \"banana\", \"pickle\"]\n",
    "    heap_permutation(data, len(data))"
   ]
  },
  {
   "cell_type": "code",
   "execution_count": 4,
   "metadata": {},
   "outputs": [
    {
     "name": "stdout",
     "output_type": "stream",
     "text": [
      "('apple', 'banana', 'pickle')\n",
      "('apple', 'pickle', 'banana')\n",
      "('banana', 'apple', 'pickle')\n",
      "('banana', 'pickle', 'apple')\n",
      "('pickle', 'apple', 'banana')\n",
      "('pickle', 'banana', 'apple')\n"
     ]
    }
   ],
   "source": [
    "#Efficient\n",
    "from itertools import permutations \n",
    "\n",
    "perm = permutations([\"apple\", \"banana\", \"pickle\"]) \n",
    "  \n",
    "for i in list(perm): \n",
    "    print (i) "
   ]
  }
 ],
 "metadata": {
  "kernelspec": {
   "display_name": "Python 3.9.6 64-bit",
   "language": "python",
   "name": "python3"
  },
  "language_info": {
   "codemirror_mode": {
    "name": "ipython",
    "version": 3
   },
   "file_extension": ".py",
   "mimetype": "text/x-python",
   "name": "python",
   "nbconvert_exporter": "python",
   "pygments_lexer": "ipython3",
   "version": "3.9.6"
  },
  "orig_nbformat": 4,
  "vscode": {
   "interpreter": {
    "hash": "31f2aee4e71d21fbe5cf8b01ff0e069b9275f58929596ceb00d14d90e3e16cd6"
   }
  }
 },
 "nbformat": 4,
 "nbformat_minor": 2
}
