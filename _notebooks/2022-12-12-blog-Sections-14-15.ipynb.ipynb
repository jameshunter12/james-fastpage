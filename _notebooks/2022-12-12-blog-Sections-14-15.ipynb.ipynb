{
 "cells": [
  {
   "cell_type": "markdown",
   "metadata": {},
   "source": [
    "# 3.14-3.15 Homework and Hacks\n",
    "\n",
    "- toc: true \n",
    "- badges: true\n",
    "- comments: true"
   ]
  },
  {
   "cell_type": "markdown",
   "metadata": {},
   "source": [
    "# Important Vocab/Notes\n",
    "\n",
    "- Documentation\tText is text explains the what, how, or why of your code.\n",
    "- Libraries\tis a collection of prewritten code or procedures that coders can use to maximize their efficiency\n",
    "- Application Programming Interface (API) is a type of software through several computers are able to communicate information amongst eachother\n",
    "- Software libraries contain procedures used in creating novel programs.\n",
    "- random.choice picks a random item from a list\n",
    "- random.shuffle shuffles a the items in a list\n",
    "- radint: this allows you to generate a random integer from a set range\n",
    "- radrange:can be written like randrange(start, stop, step) where start is the minimum value, stop is the maximum value (like the randint function), and step is the incriment the values can be and its default value is 1"
   ]
  },
  {
   "attachments": {},
   "cell_type": "markdown",
   "metadata": {},
   "source": [
    "<strong>(1) Reflection</strong>\n",
    "\n",
    "Thorough notes or summary that reflects understanding of today's lesson."
   ]
  },
  {
   "attachments": {},
   "cell_type": "markdown",
   "metadata": {},
   "source": [
    "<strong>(2) Multiple Choice</strong>"
   ]
  },
  {
   "attachments": {},
   "cell_type": "markdown",
   "metadata": {},
   "source": [
    "#### 1. What does the random(a,b) function generate? \n",
    "1\n",
    "\n",
    "A. A random integer from a to be exclusive\n",
    "\n",
    "<mark>B. A random integer from a to b inclusive.</mark>\n",
    "- includes both a and b and any values in between\n",
    "\n",
    "C. A random word from variable a to variable b exclusive.\n",
    "\n",
    "D. A random word from variable a to variable b inclusive.\n",
    "\n",
    "\n",
    "#### 2. What is x, y, and z in random.randrange(x, y, z)?\n",
    "\n",
    "<mark>A. x = start, y = stop, z = step</mark>\n",
    "- the order is start, stop, step\n",
    "\n",
    "B. x = start, y = step, z = stop\n",
    "\n",
    "C. x = stop, y = start, z = step \n",
    "\n",
    "D. x = step, y = start, z = stop\n",
    "\n",
    "#### 3. Which of the following is NOT part of the random library?\n",
    "\n",
    "<mark>A. random.item</mark>\n",
    "- process of elimantion leaves this as the answer\n",
    "\n",
    "B. random.random\n",
    "\n",
    "C. random.shuffle\n",
    "\n",
    "D. random.randint\n"
   ]
  },
  {
   "attachments": {},
   "cell_type": "markdown",
   "metadata": {},
   "source": [
    "<strong>(3) Short Answer Questions</strong>\n",
    "\n",
    "1. What is the advantage of using libraries? \n",
    "- An advantage of using libraries is it allows you to reuse code that has already been created, which allows you to save time. A person can simply call that library in order to get the information they need.\n",
    "\n",
    "2. Write a thorough documentation of the following code."
   ]
  },
  {
   "cell_type": "code",
   "execution_count": 2,
   "metadata": {},
   "outputs": [
    {
     "name": "stdout",
     "output_type": "stream",
     "text": [
      " Aiden is going to buy the meal today!\n"
     ]
    }
   ],
   "source": [
    "import random \n",
    "\n",
    "names_string = input(\"Give me everybody's names, seperated by a comma.\")\n",
    "names = names_string.split(\",\")\n",
    "\n",
    "num_items = len(names)\n",
    "\n",
    "random_choice = random.randint(0, num_items - 1)\n",
    "\n",
    "person_who_will_pay = names[random_choice]\n",
    "\n",
    "print(f\"{person_who_will_pay} is going to buy the meal today!\")"
   ]
  },
  {
   "cell_type": "markdown",
   "metadata": {},
   "source": [
    "- The code starts by having the user put in a set of name and then the code you len(names) to find the amount of people in the list. After the code picks a random value in the list and uses the corresponding name. They then have the information they gathered displayed by saying who is going to pay for the next meal."
   ]
  },
  {
   "cell_type": "markdown",
   "metadata": {},
   "source": [
    "## (4) Coding Challenges!\n",
    "<mark>REQUIRED<mark>: Create programs in python to complete the two task"
   ]
  },
  {
   "cell_type": "markdown",
   "metadata": {},
   "source": [
    "\n",
    "1. Create a program to pick five random names from a list of at least 15 names"
   ]
  },
  {
   "cell_type": "code",
   "execution_count": 66,
   "metadata": {},
   "outputs": [
    {
     "name": "stdout",
     "output_type": "stream",
     "text": [
      "The selected names are:\n",
      "Paulo\n",
      "James\n",
      "Ashkon\n",
      "Max\n",
      "Cam\n"
     ]
    }
   ],
   "source": [
    "import random\n",
    "\n",
    "names = [\"James\", \"Ethan\", \"Charlie\", \"Kai\", \"Max\", \"Aiden\", \"Yasha\", \"Brayden\", \"Paulo\", \"Cam\", \"Ashkon\", \"Gabe\", \"Will\", \"Nick\", \"Will\"]\n",
    "\n",
    "selected_names = random.sample(names, 5)\n",
    "\n",
    "print(\"The selected names are:\")\n",
    "for name in selected_names:\n",
    "  print(name)"
   ]
  },
  {
   "cell_type": "markdown",
   "metadata": {},
   "source": [
    "- You can with making a list of 15 names and then you create a new list(selected names) that contains 5 random names. Then it prints each name in the selected names list."
   ]
  },
  {
   "cell_type": "markdown",
   "metadata": {},
   "source": [
    "2. Create a program to simulate a dice game where each player rolls two fair dice (6 sides); the player with the greater sum wins"
   ]
  },
  {
   "cell_type": "code",
   "execution_count": 61,
   "metadata": {},
   "outputs": [
    {
     "name": "stdout",
     "output_type": "stream",
     "text": [
      "James,\n",
      "You rolled 12 in total!\n",
      "Ben,\n",
      "You rolled 7 in total!\n",
      "James wins\n"
     ]
    }
   ],
   "source": [
    "import random\n",
    "\n",
    "def roll_dice():\n",
    "  die1 = random.randint(1, 6)\n",
    "  die2 = random.randint(1, 6)\n",
    "  return die1 + die2\n",
    "\n",
    "num_players = 2\n",
    "\n",
    "player1 = [\"James\"]\n",
    "player2 = [\"Ben\"]\n",
    "\n",
    "for player in player1:\n",
    "  print(f\"{player1[0]},\")\n",
    "  jamesscore = roll_dice()\n",
    "  print(f\"You rolled {jamesscore} in total!\")\n",
    "\n",
    "for player in player2:\n",
    "  print(f\"{player2[0]},\")\n",
    "  benscore = roll_dice()\n",
    "  print(f\"You rolled {benscore} in total!\")\n",
    "\n",
    "if jamesscore > benscore:\n",
    "    print(\"James wins\")\n",
    "else:\n",
    "    print(\"Ben wins\")"
   ]
  },
  {
   "cell_type": "markdown",
   "metadata": {},
   "source": [
    "- Starts by defining what a dice roll is like the possible outcomes. Then you input player 1 and 2 names and then you run the same section of code for each player that rolls 2 dice and adds the 2 numbers together. Then it compares player 1 to player 2 total score."
   ]
  },
  {
   "cell_type": "markdown",
   "metadata": {},
   "source": [
    "# Blog/Final Thoughts"
   ]
  },
  {
   "cell_type": "markdown",
   "metadata": {},
   "source": [
    "- Learned what a library was and documentation\n",
    "- Furthered my knowledge on API's\n",
    "- Learned the different randoms and rads like random.choice, random.shuffle, radint, and radrange\n",
    "- Learned new ways to randomize lists\n",
    "- I feel I understood documentation pretty and the different randomizes\n",
    "- Creating the dice roll problem was a little hard"
   ]
  }
 ],
 "metadata": {
  "kernelspec": {
   "display_name": "Python 3.9.6 64-bit",
   "language": "python",
   "name": "python3"
  },
  "language_info": {
   "codemirror_mode": {
    "name": "ipython",
    "version": 3
   },
   "file_extension": ".py",
   "mimetype": "text/x-python",
   "name": "python",
   "nbconvert_exporter": "python",
   "pygments_lexer": "ipython3",
   "version": "3.9.6"
  },
  "orig_nbformat": 4,
  "vscode": {
   "interpreter": {
    "hash": "31f2aee4e71d21fbe5cf8b01ff0e069b9275f58929596ceb00d14d90e3e16cd6"
   }
  }
 },
 "nbformat": 4,
 "nbformat_minor": 2
}
