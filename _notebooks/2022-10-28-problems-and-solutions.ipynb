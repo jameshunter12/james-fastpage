{
 "cells": [
  {
   "cell_type": "markdown",
   "metadata": {},
   "source": [
    "# Problems, Solutions, and Accomplihments\n",
    "> The problems we faced and what we were able to solve, along with accomplishments\n",
    "- toc: true \n",
    "- badges: true\n",
    "- comments: true\n",
    "- categories: [markdown]"
   ]
  },
  {
   "cell_type": "markdown",
   "metadata": {},
   "source": [
    "## Our Problems\n",
    "\n",
    "- Our first problem is our sign in page dedicated for our customers. As of now one are only able to sign into one account we want to make where you can make an account and you can dave products and your products in your cart with save. \n",
    "- Another one of our problems is our cart feature. As of now, when you press the add to cart button it does not work correctly because when you press on your cart the same 2 products are in it."
   ]
  },
  {
   "cell_type": "markdown",
   "metadata": {},
   "source": [
    "## Accomplishments\n",
    "\n",
    "- In this last week we have been working on our API and making our website better\n",
    "- For our API we have not finished, but we have our design and how it is going to work on our website site"
   ]
  }
 ],
 "metadata": {
  "kernelspec": {
   "display_name": "Python 3.9.6 64-bit",
   "language": "python",
   "name": "python3"
  },
  "language_info": {
   "name": "python",
   "version": "3.9.6"
  },
  "orig_nbformat": 4,
  "vscode": {
   "interpreter": {
    "hash": "31f2aee4e71d21fbe5cf8b01ff0e069b9275f58929596ceb00d14d90e3e16cd6"
   }
  }
 },
 "nbformat": 4,
 "nbformat_minor": 2
}
