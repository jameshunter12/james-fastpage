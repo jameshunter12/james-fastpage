{
 "cells": [
  {
   "cell_type": "markdown",
   "metadata": {},
   "source": [
    "# Week 3 Hacks\n",
    "## Hacks\n",
    "- Add a couple of records to the InfoDb\n",
    "- Try to do a for loop with an index\n",
    "- Pair Share code somethings creative or unique, with loops and data. Hints...\n",
    "    - Would it be possible to output data in a reverse order?\n",
    "    - Are there other methods that can be performed on lists?\n",
    "    - Could you create new or add to dictionary data set?  Could you do it with input?\n",
    "    - Make a quiz that stores in a List of Dictionaries."
   ]
  },
  {
   "cell_type": "code",
   "execution_count": 5,
   "metadata": {},
   "outputs": [
    {
     "data": {
      "text/plain": [
       "[5, 4, 3, 2, 1]"
      ]
     },
     "execution_count": 5,
     "metadata": {},
     "output_type": "execute_result"
    }
   ],
   "source": [
    "mylist = [1, 2, 3, 4, 5]\n",
    "\n",
    "mylist.reverse()\n",
    "\n",
    "mylist\n",
    "[5, 4, 3, 2, 1]\n"
   ]
  },
  {
   "cell_type": "code",
   "execution_count": 4,
   "metadata": {},
   "outputs": [
    {
     "data": {
      "text/plain": [
       "5"
      ]
     },
     "execution_count": 4,
     "metadata": {},
     "output_type": "execute_result"
    }
   ],
   "source": [
    "a = [10, 20, 30, 40, 50]\n",
    "\n",
    "len(a)\n"
   ]
  },
  {
   "cell_type": "code",
   "execution_count": 2,
   "metadata": {},
   "outputs": [
    {
     "ename": "NameError",
     "evalue": "name 'InfoDb' is not defined",
     "output_type": "error",
     "traceback": [
      "\u001b[0;31m---------------------------------------------------------------------------\u001b[0m",
      "\u001b[0;31mNameError\u001b[0m                                 Traceback (most recent call last)",
      "\u001b[1;32m/Users/jameshunter/vscode/james-fastpage/_notebooks/2022-09-01-week-3-hacks.ipynb Cell 4\u001b[0m in \u001b[0;36m<cell line: 1>\u001b[0;34m()\u001b[0m\n\u001b[0;32m----> <a href='vscode-notebook-cell:/Users/jameshunter/vscode/james-fastpage/_notebooks/2022-09-01-week-3-hacks.ipynb#W3sZmlsZQ%3D%3D?line=0'>1</a>\u001b[0m \u001b[39mfor\u001b[39;00m index \u001b[39min\u001b[39;00m \u001b[39mrange\u001b[39m(\u001b[39mlen\u001b[39m(InfoDb)):\n\u001b[1;32m      <a href='vscode-notebook-cell:/Users/jameshunter/vscode/james-fastpage/_notebooks/2022-09-01-week-3-hacks.ipynb#W3sZmlsZQ%3D%3D?line=1'>2</a>\u001b[0m      print_data(InfoDb[index])\n",
      "\u001b[0;31mNameError\u001b[0m: name 'InfoDb' is not defined"
     ]
    }
   ],
   "source": [
    "for index in range(len(InfoDb)):\n",
    "     print_data(InfoDb[index])\n"
   ]
  },
  {
   "cell_type": "code",
   "execution_count": null,
   "metadata": {},
   "outputs": [],
   "source": []
  },
  {
   "cell_type": "code",
   "execution_count": 2,
   "metadata": {},
   "outputs": [
    {
     "name": "stdout",
     "output_type": "stream",
     "text": [
      "['F', 'D', 'C', 'B', 'A']\n"
     ]
    }
   ],
   "source": [
    "grades = ['A', 'B', 'C', 'D', 'F']\n",
    "\n",
    "grades.sort(reverse=True)\n",
    "\n",
    "print(grades)"
   ]
  },
  {
   "cell_type": "code",
   "execution_count": 1,
   "metadata": {},
   "outputs": [
    {
     "data": {
      "text/plain": [
       "'B'"
      ]
     },
     "execution_count": 1,
     "metadata": {},
     "output_type": "execute_result"
    }
   ],
   "source": [
    "grades = ['A', 'B', 'C', 'D', 'F']\n",
    "\n",
    "grades.pop(1)"
   ]
  }
 ],
 "metadata": {
  "kernelspec": {
   "display_name": "Python 3.9.12 ('base')",
   "language": "python",
   "name": "python3"
  },
  "language_info": {
   "codemirror_mode": {
    "name": "ipython",
    "version": 3
   },
   "file_extension": ".py",
   "mimetype": "text/x-python",
   "name": "python",
   "nbconvert_exporter": "python",
   "pygments_lexer": "ipython3",
   "version": "3.9.12"
  },
  "orig_nbformat": 4,
  "vscode": {
   "interpreter": {
    "hash": "40d3a090f54c6569ab1632332b64b2c03c39dcf918b08424e98f38b5ae0af88f"
   }
  }
 },
 "nbformat": 4,
 "nbformat_minor": 2
}
