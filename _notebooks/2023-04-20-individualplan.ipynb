{
 "cells": [
  {
   "cell_type": "markdown",
   "metadata": {},
   "source": [
    "#  Individual Lesson Plan\n",
    "> This will contain my individual lesson plan for our project\n",
    "- toc: true\n",
    "- categories: []\n",
    "- week: 30"
   ]
  },
  {
   "cell_type": "markdown",
   "metadata": {},
   "source": [
    "# Hack Problem\n",
    "\n",
    "- Use this link https://github.com/ali-ce/datasets to select a topic you are interested in.\n",
    "- Once you select your topic make sure it is a csv file and then you want to press on the button that says raw\n",
    "- After that copy that information and create a file with a name and .csv at the end and paste your information\n",
    "- Below is a start that you can use for your hacks\n",
    "- Your goal is to print 2 specific parts from data (example could be like population and country)"
   ]
  },
  {
   "cell_type": "code",
   "execution_count": 5,
   "metadata": {},
   "outputs": [
    {
     "name": "stdout",
     "output_type": "stream",
     "text": [
      "                Country  Population  Numer of Starbucks  \\\n",
      "0         United States   316128839               11851   \n",
      "1                 China  1357380000                1462   \n",
      "2                Canada    35158304                1425   \n",
      "3                 Japan   127338621                1052   \n",
      "4        United Kingdom    64097085                 770   \n",
      "..                  ...         ...                 ...   \n",
      "58                Aruba      102911                   3   \n",
      "59              Finland     5439407                   3   \n",
      "60             Colombia    48321405                   2   \n",
      "61  Netherland Antilles      227049                   2   \n",
      "62               Monaco       37831                   1   \n",
      "\n",
      "    Starbucks per million inhabitants  \n",
      "0                               37.49  \n",
      "1                                1.08  \n",
      "2                               40.53  \n",
      "3                                8.26  \n",
      "4                               12.01  \n",
      "..                                ...  \n",
      "58                              29.15  \n",
      "59                               0.55  \n",
      "60                               0.04  \n",
      "61                               8.81  \n",
      "62                              26.43  \n",
      "\n",
      "[63 rows x 4 columns]\n",
      "Number of countries: 63\n"
     ]
    }
   ],
   "source": [
    "import pandas as pd\n",
    "\n",
    "# read the CSV file\n",
    "df = pd.read_csv(\"starbucks.csv\")\n",
    "\n",
    "# display the data in a table\n",
    "print(df)\n"
   ]
  },
  {
   "cell_type": "code",
   "execution_count": null,
   "metadata": {},
   "outputs": [],
   "source": []
  }
 ],
 "metadata": {
  "kernelspec": {
   "display_name": "Python 3.9.12 ('base')",
   "language": "python",
   "name": "python3"
  },
  "language_info": {
   "codemirror_mode": {
    "name": "ipython",
    "version": 3
   },
   "file_extension": ".py",
   "mimetype": "text/x-python",
   "name": "python",
   "nbconvert_exporter": "python",
   "pygments_lexer": "ipython3",
   "version": "3.9.12"
  },
  "orig_nbformat": 4,
  "vscode": {
   "interpreter": {
    "hash": "40d3a090f54c6569ab1632332b64b2c03c39dcf918b08424e98f38b5ae0af88f"
   }
  }
 },
 "nbformat": 4,
 "nbformat_minor": 2
}
