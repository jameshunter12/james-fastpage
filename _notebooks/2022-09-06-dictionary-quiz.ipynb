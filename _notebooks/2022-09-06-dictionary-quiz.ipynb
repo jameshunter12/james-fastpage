{
 "cells": [
  {
   "cell_type": "markdown",
   "metadata": {},
   "source": [
    "# Dictionary Quiz\n",
    "\n",
    ">A quiz that cotains important dictionary terms\n",
    "\n",
    "- toc: true\n",
    "- badges: true\n",
    "- comments: true\n",
    "- categories: [jupter, python]\n"
   ]
  },
  {
   "cell_type": "code",
   "execution_count": 1,
   "metadata": {},
   "outputs": [
    {
     "name": "stdout",
     "output_type": "stream",
     "text": [
      "you got 4 out of 4\n"
     ]
    }
   ],
   "source": [
    "\n",
    "\n",
    "class Question:\n",
    "     def __init__(self, prompt, answer):\n",
    "          self.prompt = prompt\n",
    "          self.answer = answer\n",
    "#These are the questions followed by the possible answers\n",
    "question_prompts = [\n",
    "     \"What is the name of the syntax that can pass variables in html? \\n\\n\",\n",
    "     \"What is it called for a command you give your computer? \\n\\n\",\n",
    "     \"Is it important to define your varibles?\\n\\n\",\n",
    "     \"If you do not definne your varibles what will happen when you try and run the code?\\n\\n\",\n",
    "]\n",
    "#These are the answers to the questions above\n",
    "questions = [\n",
    "     Question(question_prompts[0], \"liquid\"),\n",
    "     Question(question_prompts[1], \"input\"),\n",
    "     Question(question_prompts[2], \"yes\"),\n",
    "     Question(question_prompts[3], \"syntax error\"),\n",
    "]\n",
    "#This is used to tell you your score\n",
    "def run_quiz(questions):\n",
    "     score = 0\n",
    "     for question in questions:\n",
    "          answer = input(question.prompt)\n",
    "          if answer == question.answer:\n",
    "               score += 1\n",
    "     print(\"you got\", score, \"out of\", len(questions))\n",
    "\n",
    "run_quiz(questions)\n",
    "\n"
   ]
  }
 ],
 "metadata": {
  "kernelspec": {
   "display_name": "JavaScript (Node.js)",
   "language": "javascript",
   "name": "javascript"
  },
  "language_info": {
   "codemirror_mode": {
    "name": "ipython",
    "version": 3
   },
   "file_extension": ".py",
   "mimetype": "text/x-python",
   "name": "javascript",
   "nbconvert_exporter": "python",
   "pygments_lexer": "ipython3",
   "version": "2.7.18"
  },
  "orig_nbformat": 4,
  "vscode": {
   "interpreter": {
    "hash": "949777d72b0d2535278d3dc13498b2535136f6dfe0678499012e853ee9abcab1"
   }
  }
 },
 "nbformat": 4,
 "nbformat_minor": 2
}
