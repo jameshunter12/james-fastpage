{
 "cells": [
  {
   "cell_type": "markdown",
   "metadata": {},
   "source": [
    "# 3.8-3.10 Homework and Hacks\n",
    "\n",
    "- toc: true \n",
    "- badges: true\n",
    "- comments: true\n",
    "- categories: [markdown]\n",
    "- image: None"
   ]
  },
  {
   "cell_type": "markdown",
   "metadata": {},
   "source": [
    "# Important Vocab\n",
    "- For Loop - FOR LOOP repeats a function for a set number of times; I is the number of times repeated\n",
    "- While Loop - The while loop is used to repeat a section of code an unknown number of times until a specific condition is met\n",
    "- Initialization - What sets the counter variable to a starting value. For example (var i = 0) represents an initial value of 0.\n",
    "- Condition - Allows the computer to know whether or not to keep repeating the loop.\n",
    "- Increment/decrement - Modifies the counter variable after each repetition.\n",
    "- Append, remove, pop - Various methods, append adds an element to the end, remove removes at an index, and pop removes the last item."
   ]
  },
  {
   "cell_type": "code",
   "execution_count": 14,
   "metadata": {},
   "outputs": [
    {
     "name": "stdout",
     "output_type": "stream",
     "text": [
      "Reversed List: [5, 4, 3, 2, 1]\n"
     ]
    }
   ],
   "source": [
    "list = [1, 2, 3, 4, 5] # Print this list in reverse order\n",
    "\n",
    "list.reverse()\n",
    "\n",
    "print('Reversed List:', list)\n"
   ]
  },
  {
   "cell_type": "code",
   "execution_count": 16,
   "metadata": {},
   "outputs": [
    {
     "name": "stdout",
     "output_type": "stream",
     "text": [
      "Sorted List: [0, 1, 2, 3, 4, 5, 6, 7, 8, 9]\n"
     ]
    }
   ],
   "source": [
    "list = [9, 8, 4, 3, 5, 2, 6, 7, 1, 0] # Sort this   \n",
    "\n",
    "list.sort()\n",
    "\n",
    "print('Sorted List:', list)"
   ]
  },
  {
   "cell_type": "code",
   "execution_count": 6,
   "metadata": {},
   "outputs": [
    {
     "name": "stdout",
     "output_type": "stream",
     "text": [
      "listay before sort: [9, 8, 4, 3, 5, 2, 6, 7, 1, 0]\n",
      "listay after sort: [0, 1, 2, 3, 4, 5, 6, 7, 8, 9]\n"
     ]
    }
   ],
   "source": [
    "list = [9, 8, 4, 3, 5, 2, 6, 7, 1, 0]\n",
    "print(f\"listay before sort: {list}\")\n",
    "def insertion_sort(list):\n",
    "    for index in range(1,len(list)): # repeats through length of the listay\n",
    "        value = list[index]\n",
    "        i = index - 1\n",
    "        while i >= 0:\n",
    "            if value < list[i]:\n",
    "                list[i+1] = list[i] # shift number in slot i to the right\n",
    "                list[i] = value # shift value left into slot i\n",
    "                i = i - 1\n",
    "            else:\n",
    "                break\n",
    "\n",
    "IS = insertion_sort(list)\n",
    "print(f\"listay after sort: {list}\")"
   ]
  },
  {
   "cell_type": "markdown",
   "metadata": {},
   "source": [
    "## I got question 8 wrong (image wont load)\n",
    "\n",
    "- I selected a because I thought a certain about of time met until a conditon is met\n",
    "- I am not sure why I selecetd b because it was not very close to the answer and did not make much sense\n",
    "- I selected c after because I realized it was saying the code repeats until a conditon is met, which is a While Loop"
   ]
  },
  {
   "cell_type": "markdown",
   "metadata": {},
   "source": [
    "## I got question 9 wrong (image wont load)\n",
    "\n",
    "- I selected a While Loop because I thought the the code would repeat until a condition is met (the user quits)\n",
    "- I selected a For Loop because the code is going to repeat a certain number of times until the user quits "
   ]
  }
 ],
 "metadata": {
  "kernelspec": {
   "display_name": "Python 3.9.6 64-bit",
   "language": "python",
   "name": "python3"
  },
  "language_info": {
   "codemirror_mode": {
    "name": "ipython",
    "version": 3
   },
   "file_extension": ".py",
   "mimetype": "text/x-python",
   "name": "python",
   "nbconvert_exporter": "python",
   "pygments_lexer": "ipython3",
   "version": "3.9.6"
  },
  "orig_nbformat": 4,
  "vscode": {
   "interpreter": {
    "hash": "31f2aee4e71d21fbe5cf8b01ff0e069b9275f58929596ceb00d14d90e3e16cd6"
   }
  }
 },
 "nbformat": 4,
 "nbformat_minor": 2
}
