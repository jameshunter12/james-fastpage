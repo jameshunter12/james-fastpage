{
 "cells": [
  {
   "attachments": {},
   "cell_type": "markdown",
   "metadata": {},
   "source": [
    "#  Data Structures- Hashmaps, Sets, Hash Tables, Hashing and Collisions\n",
    "> Observing hashmaps with python dictionaries\n",
    "- toc: true\n",
    "- image: /images/python.png\n",
    "- categories: []\n",
    "- type: pbl\n",
    "- week: 28"
   ]
  },
  {
   "attachments": {},
   "cell_type": "markdown",
   "metadata": {},
   "source": [
    "## What is a Hashtable/Hashmap?\n",
    "\n",
    "> A hashtable is a data structure that with a collection of key-value pairs, where each key maps to a value, and the keys must be unique and hashable.\n",
    "\n",
    "- In Python there is a built in hashtable known as a dictionary.\n",
    "\n",
    "> The primary purpose of a hashtable is to provide efficient lookup, insertion, and deletion operations. When an element is to be inserted into the hashtable, a hash function is used to map the key to a specific index in the underlying array that is used to store the key-value pairs. The value is then stored at that index. When searching for a value, the hash function is used again to find the index where the value is stored.\n",
    "\n",
    "> The key advantage of a hashtable over other data structures like arrays and linked lists is its average-case time complexity for lookup, insertion, and deletion operations.\n",
    "\n",
    "- The typical time complexity of a hashtable is O(1). \n"
   ]
  },
  {
   "attachments": {},
   "cell_type": "markdown",
   "metadata": {},
   "source": [
    "## What is Hashing and Collision?\n",
    "\n",
    "> Hashing is the process of mapping a given key to a value in a hash table or hashmap, using a hash function. The hash function takes the key as input and produces a hash value or hash code, which is then used to determine the index in the underlying array where the value is stored. The purpose of hashing is to provide a quick and efficient way to access data, by eliminating the need to search through an entire data structure to find a value.\n",
    "\n",
    "> However, it is possible for two different keys to map to the same hash value, resulting in a collision. When a collision occurs, there are different ways to resolve it, depending on the collision resolution strategy used.\n",
    "\n",
    "> Python's dictionary implementation is optimized to handle collisions efficiently, and the performance of the dictionary is generally very good, even in the presence of collisions. However, if the number of collisions is very high, the performance of the dictionary can degrade, so it is important to choose a good hash function that minimizes collisions when designing a Python dictionary.\n",
    "\n",
    "## What is a Set?"
   ]
  },
  {
   "cell_type": "code",
   "execution_count": null,
   "metadata": {},
   "outputs": [],
   "source": [
    "# Creating a set using set() function\n",
    "my_set = set([1, 2, 3, 2, 1])\n",
    "print(my_set)  \n",
    "\n",
    "# What do you notice in the output?\n",
    "#There are 3 outputs\n",
    "#They are in ascending order\n",
    "#No duplicate values\n",
    "\n",
    "# Why do you think Sets are in the same tech talk as Hashmaps/Hashtables?\n",
    "# They are the same since they cant have duplicates"
   ]
  },
  {
   "attachments": {},
   "cell_type": "markdown",
   "metadata": {},
   "source": [
    "## Dictionary Example\n",
    "\n",
    "Below are just some basic features of a dictionary. As always, documentation is always the main source for all the full capablilties. "
   ]
  },
  {
   "cell_type": "code",
   "execution_count": 7,
   "metadata": {},
   "outputs": [
    {
     "name": "stdout",
     "output_type": "stream",
     "text": [
      "{'nba': 'basketball', 'top_team': 'Bucks', 'year': 2023, 'champ-contenders': ['Nuggets', 'Grizzlies', 'Celtics'], 'standings': {1: 'Clippers', 2: 'Knicks', 3: 'Kings', 4: 'Suns', 5: 'Cavs', 6: 'Kings', 7: 'Clippers', 8: 'Sixers', 9: 'Nets', 10: 'Warriors', 11: 'Timberwolves', 12: 'Pelicans', 13: 'Heat', 14: 'Hawks', 15: 'Raptors', 16: 'Lakers', 17: 'Bulls', 18: 'Thunder'}}\n"
     ]
    }
   ],
   "source": [
    "# Creating a dictionary with information about the album \"Lover\"\n",
    "basketball_teams = {\n",
    "    \"nba\": \"basketball\",\n",
    "    \"top_team\": \"Bucks\",\n",
    "    \"year\": 2023,\n",
    "    \"champ-contenders\": [\"Nuggets\", \"Grizzlies\", \"Celtics\"],\n",
    "    \"standings\": {\n",
    "        1: \"Clippers\",\n",
    "        2: \"Knicks\",\n",
    "        3: \"Kings\",\n",
    "        4: \"Suns\",\n",
    "        5: \"Cavs\",\n",
    "        6: \"Kings\",\n",
    "        7: \"Clippers\",\n",
    "        8: \"Sixers\",\n",
    "        9: \"Nets\",\n",
    "        10: \"Warriors\",\n",
    "        11: \"Timberwolves\",\n",
    "        12: \"Pelicans\",\n",
    "        13: \"Heat\",\n",
    "        14: \"Hawks\",\n",
    "        15: \"Raptors\",\n",
    "        16: \"Lakers\",\n",
    "        17: \"Bulls\",\n",
    "        18: \"Thunder\"\n",
    "    }\n",
    "}\n",
    "\n",
    "# What data structures do you see?\n",
    "# Lists\n",
    "# Dictionaries\n",
    "\n",
    "# Printing the dictionary\n",
    "print(basketball_teams)"
   ]
  },
  {
   "cell_type": "code",
   "execution_count": null,
   "metadata": {},
   "outputs": [],
   "source": [
    "# Retrieve value from dictionary with key\n",
    "print(basketball_teams.get('standings'))\n",
    "# or\n",
    "print(\"Champ Contenders:\")\n",
    "print(basketball_teams['champ-contenders'])"
   ]
  },
  {
   "cell_type": "code",
   "execution_count": null,
   "metadata": {},
   "outputs": [],
   "source": [
    "# Retrieve value from a dictionary inside a dictionary\n",
    "\n",
    "# Using conditionals to retrieve a random song\n",
    "\n",
    "answer = input(\"Will Lakers win the NBA title? \")\n",
    "if answer.lower() == \"never\":\n",
    "    print(\"Finally a some one that understands basketball.\")\n",
    "else:\n",
    "    print(\"Lakers will never win another NBA title!\")"
   ]
  },
  {
   "cell_type": "code",
   "execution_count": null,
   "metadata": {},
   "outputs": [],
   "source": [
    "# adding a value with a new key\n",
    "basketball_teams[\"best\"] = list(set(['LeBron', 'MJ', 'Kobe', 'LeBron' ]))\n",
    "\n",
    "# What can you change to make sure there are no duplicate producers?\n",
    "#\n",
    "# Use a set to remove duplicates\n",
    "\n",
    "# Printing the dictionary\n",
    "print(\"the best NBA players are:\")\n",
    "print(basketball_teams[\"best\"])"
   ]
  },
  {
   "cell_type": "code",
   "execution_count": 9,
   "metadata": {},
   "outputs": [
    {
     "name": "stdout",
     "output_type": "stream",
     "text": [
      "{'nba': 'basketball', 'top_team': 'Bucks', 'year': 2023, 'champ-contenders': ['Nuggets', 'Grizzlies', 'Celtics'], 'standings': {1: 'Clippers', 2: 'Knicks', 3: 'Kings', 4: 'Suns', 5: 'Cavs', 6: 'Kings', 7: 'Clippers', 8: 'Sixers', 9: 'Nets', 10: 'Warriors', 11: 'Timberwolves', 12: 'Pelicans', 13: 'Heat', 14: 'Hawks', 15: 'Raptors', 16: 'Lakers', 17: 'Bulls', 18: 'DNHS'}, 'players': 'Ben, Jaden, Zion'}\n"
     ]
    }
   ],
   "source": [
    "# Adding a an key-value pair to an existing key \n",
    "basketball_teams[\"standings\"].update({18: \"DNHS\"})\n",
    "basketball_teams[\"players\"] = \"Ben, Jaden, Zion\"\n",
    "\n",
    "# How would add an additional genre to the dictionary, like electropop? \n",
    "# You cant use update since this is not a dictionary\n",
    "# \"basketball_teams[genre] = electropop\"\n",
    "\n",
    "# Printing the dictionary\n",
    "print(basketball_teams)"
   ]
  },
  {
   "cell_type": "code",
   "execution_count": 10,
   "metadata": {},
   "outputs": [
    {
     "name": "stdout",
     "output_type": "stream",
     "text": [
      "nba: basketball\n",
      "top_team: Bucks\n",
      "year: 2023\n",
      "champ-contenders: ['Nuggets', 'Grizzlies', 'Celtics']\n",
      "standings: {1: 'Clippers', 2: 'Knicks', 3: 'Kings', 4: 'Suns', 5: 'Cavs', 6: 'Kings', 7: 'Clippers', 8: 'Sixers', 9: 'Nets', 10: 'Warriors', 11: 'Timberwolves', 12: 'Pelicans', 13: 'Heat', 14: 'Hawks', 15: 'Raptors', 16: 'Lakers', 17: 'Bulls', 18: 'DNHS'}\n",
      "players: Ben, Jaden, Zion\n"
     ]
    }
   ],
   "source": [
    "# Print basketball_teams in more readable format\n",
    "for k,v in basketball_teams.items(): # iterate using a for loop for key and value\n",
    "    print(str(k) + \": \" + str(v))\n",
    "\n",
    "# Write your own code to print tracks in readable format\n",
    "# \n",
    "#"
   ]
  },
  {
   "cell_type": "code",
   "execution_count": 22,
   "metadata": {},
   "outputs": [
    {
     "name": "stdout",
     "output_type": "stream",
     "text": [
      "Chicago Bulls is a team apart of the Eastern Confrence.\n",
      "Here's the best player on the Chicago Bulls: Tyrese\n",
      "You are very smart\n"
     ]
    }
   ],
   "source": [
    "# Using conditionals to retrieve a random song\n",
    "import random\n",
    "\n",
    "eastteams = {\"bucks\": \"Milwaukee Bucks\", \"celtics\": \"Boston Celtics\", \"nets\": \"New Jersey Nets\", \"knicks\": \"New York Knicks\", \"sixers\": \"Philadelphia 76ers\", \"raptors\": \"Toronto Raptors\", \"bulls\": \"Chicago Bulls\", \"cavs\": \"Cleveland Cavaliers\", \"pistons\": \"Detroit Pistons\", \"pacers\": \"Indiana Pacers\", \"hawks\": \"Atlanta Hawks\", \"hornets\": \"Charlotte Hornets\", \"heat\": \"Miami Heat\", \"magic\": \"Orlando Magic\", \"wizards\": \"Washington Wizards\"}\n",
    "\n",
    "def search():\n",
    "    options = list(eastteams.keys())\n",
    "    search = input(f\"What NBA team from the eastern conference do you want to know about? Options: {options}\\n\")\n",
    "    search = search.lower()\n",
    "    if search not in eastteams:\n",
    "        print(\"They are not in the eastern conference.\")\n",
    "    else:\n",
    "        team = eastteams[search]\n",
    "        print(f\"{team} is a team apart of the Eastern Confrence.\")\n",
    "        random_eastteam = random.choice([\"LaVine\", \"Giannis\", \"Tatum\", \"Mikal\", \"Brunson\", \"Embiid\", \"Siakam\", \"Mitchell\", \"Ivey\", \"Tyrese\", \"Trae\", \"LaMelo\", \"Butler\", \"Banchero\", \"Porzingis\"])\n",
    "        print(f\"Here's the best player on the {team}: {random_eastteam}\")\n",
    "    if search == \"bulls\":\n",
    "        print(\"You are very smart\")\n",
    "\n",
    "search()\n",
    "\n",
    "# This is a very basic code segment, how can you improve upon this code?\n",
    "\n",
    "# My improved code is in the segment below."
   ]
  },
  {
   "cell_type": "markdown",
   "metadata": {},
   "source": [
    "![](listvsdict.png)"
   ]
  },
  {
   "attachments": {},
   "cell_type": "markdown",
   "metadata": {},
   "source": [
    "## Hacks\n",
    "\n",
    "- Answer *ALL* questions in the code segments\n",
    "- Create a diagram or comparison illustration (Canva).\n",
    "    - What are the pro and cons of using this data structure? \n",
    "    - Dictionary vs List    \n",
    "- Expand upon the code given to you, possible improvements in comments\n",
    "- Build your own album showing features of a python dictionary\n",
    "\n",
    "- For Mr. Yeung's class: Justify your favorite Taylor Swift song, answer may effect seed\n",
    "No comment"
   ]
  }
 ],
 "metadata": {
  "kernelspec": {
   "display_name": "Python 3.9.6 64-bit",
   "language": "python",
   "name": "python3"
  },
  "language_info": {
   "codemirror_mode": {
    "name": "ipython",
    "version": 3
   },
   "file_extension": ".py",
   "mimetype": "text/x-python",
   "name": "python",
   "nbconvert_exporter": "python",
   "pygments_lexer": "ipython3",
   "version": "3.9.6"
  },
  "orig_nbformat": 4,
  "vscode": {
   "interpreter": {
    "hash": "31f2aee4e71d21fbe5cf8b01ff0e069b9275f58929596ceb00d14d90e3e16cd6"
   }
  }
 },
 "nbformat": 4,
 "nbformat_minor": 2
}
