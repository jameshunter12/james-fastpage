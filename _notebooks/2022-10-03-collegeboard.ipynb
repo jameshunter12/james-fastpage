{
 "cells": [
  {
   "cell_type": "markdown",
   "metadata": {},
   "source": [
    "# College Board \n",
    "\n",
    "- toc: true \n",
    "- badges: true\n",
    "- comments: true\n",
    "- categories: [mardown]"
   ]
  },
  {
   "cell_type": "markdown",
   "metadata": {},
   "source": [
    "## What I Can Improve\n",
    "\n",
    "I did solid on the collaboration  and program design and development quiz, but I could dfeinity do better on progeam function and purpose quiz.\n",
    "\n",
    "I need to improve in most of the aspects. I think I can start with improving my vocab because if I understand the vocab then it will make everything a lot easier. If I know the vocab then I can easy tell what the question is asking\n",
    "\n",
    "I need to go through each lesson to review my understanding because right now I am confused on a lot of topics\n",
    "\n",
    "I haven't taken much notes as of now because I forgot to, so once I start taking notes on chapter 1 I think i will greatly imporve my understanding and clear up any confusion\n",
    "\n"
   ]
  }
 ],
 "metadata": {
  "kernelspec": {
   "display_name": "Python 3.9.6 64-bit",
   "language": "python",
   "name": "python3"
  },
  "language_info": {
   "name": "python",
   "version": "3.9.6"
  },
  "orig_nbformat": 4,
  "vscode": {
   "interpreter": {
    "hash": "31f2aee4e71d21fbe5cf8b01ff0e069b9275f58929596ceb00d14d90e3e16cd6"
   }
  }
 },
 "nbformat": 4,
 "nbformat_minor": 2
}
