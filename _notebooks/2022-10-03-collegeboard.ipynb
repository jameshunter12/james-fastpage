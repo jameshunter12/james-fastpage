{
 "cells": [
  {
   "cell_type": "markdown",
   "metadata": {},
   "source": [
    "# College Board \n",
    "\n",
    "- toc: true \n",
    "- badges: true\n",
    "- comments: true\n",
    "- categories: [mardown]"
   ]
  },
  {
   "cell_type": "markdown",
   "metadata": {},
   "source": [
    "![](https://lh3.googleusercontent.com/3vZM-ICHw4tdoTVQ1Nr4EumBkksN8HEsOnDcPy6OE3b3AnkJAdKDeb2qUu2oEsuZndrS_vOn0bL1Qfh7Hr1K7BhuS7n2CNAJA622xAS0I7exkt7cGFFIEn8j8wh7l9MPFZG8wleoTIRq3Tl8VU2FC6nSbrjWCc0FKVt5JxYIWV4RpW5I4xRn_r0jT2oO0zA8rRbuOXbJJFm5sQxmmwkHgDFLp_EI_T2UF6rahn4c_M6m87P0ZusMVJE3JF9IBRjfnFaP3jomRSYhZJ5fMoNyh3EVXlTBkHnLm2cYUDyiiocsHWgp863uhZD3a3I6xkjBcFNNCekNCYl-wtvxMAlYMnUo5Ftoh9TMEW0RnX55rql0REINN1SwkNjTjsA78Rk2mWlb_GET3Tin15pdZa8O0yN4VKVPKcbo1oSv_XNwAHJwljjn4xC3PAx5kTEFDs4unHPs-po72PhvJJPQ-RnmpiMYtd3Cx9TsrUWC26_T1PT0aP0H37gkJIQF9y7NR-hyScaehLNZP_8dy8L-xcOT50YofmefFpG6KcyYnGM4wKS3FZ60QlvVGv-7YrVHC3iMaSYrxWCABv3VhMvbS0rc4SsRY8yj5PKB6zkqM2EnFlrb0IBd06tPfyGvoR8fNxasdkZWHKlLIvDh3dW_S4iQEOCY9D7qGDSX6ntBGwkMOMTOWBB7OjLhaGCZZmg3Nh4yP2bVDdm8sSss-TMH1DIYD6o3W1zvYCswWU3rHv65Azz5UZHUoirvWRh_HLd5dbO452vZCsa1l8avIM4PofrFci-9HwlWOlF4F8YgB22h6ZBbhtjdsMAWArda8BA6k1JAujaSMuFWcQz915wDCje-R5hIV1V3mzFoW1psrkePdoyP1LECWVsOe17Ux13L6cyZsonjVBmNPyWITYdU3eRKruiOgcLUVLR7oaXuvTbjjU7_7kx33utYRedgs8w0owlMNueWoa1WGCM=w2628-h1642-no?authuser=0)"
   ]
  }
 ],
 "metadata": {
  "kernelspec": {
   "display_name": "Python 3.9.6 64-bit",
   "language": "python",
   "name": "python3"
  },
  "language_info": {
   "name": "python",
   "version": "3.9.6"
  },
  "orig_nbformat": 4,
  "vscode": {
   "interpreter": {
    "hash": "31f2aee4e71d21fbe5cf8b01ff0e069b9275f58929596ceb00d14d90e3e16cd6"
   }
  }
 },
 "nbformat": 4,
 "nbformat_minor": 2
}
