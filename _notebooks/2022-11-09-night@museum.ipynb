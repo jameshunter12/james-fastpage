{
 "cells": [
  {
   "cell_type": "markdown",
   "metadata": {},
   "source": [
    "# N@TM Experience\n",
    "> This is my experience at the night at the museum\n",
    "- toc: true \n",
    "- badges: true\n",
    "- comments: true\n",
    "- categories: [markdown]"
   ]
  },
  {
   "cell_type": "markdown",
   "metadata": {},
   "source": [
    "# What I Liked\n",
    "\n",
    "- I enjoyed showing our project to the parents and students\n",
    "- It was also really cool seeing the other peoples reactions to our project\n",
    "- I think seeing the reactions were worth it\n",
    "- We also answered their questions about how we did it and it is crazy to think that just a couple of months ago I would have had no idea what we were talking about\n",
    "- As we presented I realized how far we had came from the start. Before taking this class I thought it would have been incredibly difficult to create a website, but my perspective has changed.\n",
    "- We did get help from the flask template, so I still feel I have a long way until I can create a website from scratch\n",
    "- It was also interesting looking at other groups projects and how they did it\n",
    "\n",
    "- One thing I wished I did was looked at more groups projects, because I didn't look at many and it would have been nice to see what they came up with"
   ]
  }
 ],
 "metadata": {
  "kernelspec": {
   "display_name": "Python 2.7.18 64-bit",
   "language": "python",
   "name": "python3"
  },
  "language_info": {
   "name": "python",
   "version": "2.7.18"
  },
  "orig_nbformat": 4,
  "vscode": {
   "interpreter": {
    "hash": "949777d72b0d2535278d3dc13498b2535136f6dfe0678499012e853ee9abcab1"
   }
  }
 },
 "nbformat": 4,
 "nbformat_minor": 2
}
