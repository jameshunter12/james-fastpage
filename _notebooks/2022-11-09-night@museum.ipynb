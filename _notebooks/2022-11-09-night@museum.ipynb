{
 "cells": [
  {
   "cell_type": "markdown",
   "metadata": {},
   "source": [
    "# N@TM Experience\n",
    "> This is my experience at the night at the museum\n",
    "- toc: true \n",
    "- badges: true\n",
    "- comments: true\n",
    "- categories: [markdown]"
   ]
  },
  {
   "cell_type": "markdown",
   "metadata": {},
   "source": [
    "# What I Liked\n",
    "\n",
    "![](https://lh3.googleusercontent.com/n1ABYLEvdmIEha_9ouJRBvw_wQKJ6lbiekyiTE-qqQZsleQJJ7aNmEF2eJ0B6rS-WWKCIkQIaI4m67_0tElOpnXHAumDg_KwValpme7_QJ7njHC0CnD3ZFcC4YpeHkNX6QVX5gaW3EYexM8fT1LIN_FsppjNHM2tbnhO3eEW8p8pVRaMaD9mytS_GIFqG-pvBLAGIP0sAW0IEv4uZQ6SDPjm8LN0bMx16XU97sH0DBYDau3S1F4DvWq3J4dljbhjIWozbuaJYm82mCa6AIofGSSEX-1pP7FZO6TqBoeMIGNOoeMFrfuZ2alSJ9Hx3GUBjDc_Ii6oaXXwxG29NL3xEVjkRurUfqBPktfAnykhcBRRz7ivqgNG3Qr9bJd3hR6fA20zN6NfPTToFaTbDxpBJnWzdabO488CB5i16Mxl0OIGEDupdvy-hv9XYWQuewctLkFJxCcj0G1iMunMMQS9GiuQnKxQJV2aB9QQpNHrZeuxOgeEvW4euRiCACtSqgXQpLlKU6-4U9f5wFRe0a3Dny0IDEGOkzPbuSkcqq-VBA_bmG_mnQgrgkLo4Bz93TU68NacN8BsRZ5i4ToLX_-QFmX19bJPAjSJRFsHIHJ0pDNtsOjZHnGtjU4EL3E8JVIgSIuMLA-SgpwOIqAlucAjSh76QfrEcgpFWYEH4_Fu0Y-C5rc2nwXGLxROpamBIhUhxBoLFzoN_J7sCwEDSg5K8RciGGlnqG1RwIKnMFMEHbfm13yl4V9X8Zz3e_oCwyfHV_hhJzv1VHqikBPIEiZd0ol-60K4l5vhQe2CHJ7LHQHJBOzohh0lYY6Vi8G4EmHznMzTOCfg5Lahz_rw2lQAY0K8f2o3nDCTFAAo_P1CqiEazHjYr5rCxDaXIA7KFHR-bHF010j06KmUzOXGZ4SeSI_zEFb49Xyzp1EUGoJwuKmH=w1184-h1578-no?authuser=0)\n",
    "\n",
    "- I enjoyed showing our project to the parents and students\n",
    "- It was also really cool seeing the other peoples reactions to our project\n",
    "- I think seeing the reactions were worth it\n",
    "- We also answered their questions about how we did it and it is crazy to think that just a couple of months ago I would have had no idea what we were talking about\n",
    "- As we presented I realized how far we had came from the start. Before taking this class I thought it would have been incredibly difficult to create a website, but my perspective has changed.\n",
    "- We did get help from the flask template, so I still feel I have a long way until I can create a website from scratch\n",
    "- It was also interesting looking at other groups projects and how they did it\n",
    "\n",
    "- One thing I wished I did was looked at more groups projects, because I didn't look at many and it would have been nice to see what they came up with\n",
    "\n",
    "![](https://lh3.googleusercontent.com/bmia-TXb98oqrfJmPlbHqY0hI8lKyHtdebOFwk6j-XdEbH3gaIvBKh6OihGHJX3qeIsrHZbrermSTgNoCqhkDCAcqKlpDKukaUQxkittPXoBdxXPGSrSd_sxGcfPpkVCPbjzkf0WlDpaMYMec7JLyLrU8HG8sIOwuCKvaLfRmNWw8IPf5MPjqlEaY9C0nP4x_qTX7Xw87OTX8KQzLFCrJT2aqUo3K86aVAEmo5f2w6e3K2pLmFTN41oIpMyrqEPCSn8fDi2PPRA0Sdm8DE-0u9K2b_LDoQbUycy4FRFU4gSCovHz4ofRsMzwSWlFWKEoQNHRjfQ7p5TVmq0NTOnWs_CJ5o8hBXPhGGX1E0uGHt1gDD5meMH2ATUERUQUzbwegFpXS169RM3vu6FV40HuuOlmydsE38JmglqdhFqBOxi-VWiBFwfMBjqLcjE6bq4p4WRHqsZuLbTjY5oh4E0pKXX3MnN3qTrl-urz_l1SioWbTO3rsTcG7ll92O3StwLub0Hl7qrkbLm9mROo3VpmsATsEK98A5ZqlNT1PmBTlmXEwwwSjIzk7d9SuyyoXJ223vNDc1P5xtZHMDyt2Iy7TBlRmfNJW-9_eOtRnaf1L4q8UjYdA-LgwcClFikyrxb2NLqdTwS-_nobSNKurx0zl5qy4hM7gQIr9YgfAlCKSv34z7KAQsM0L-X4b66mRCfmgw03i2oO9yMnln8WwSCp6LPWiQWpRd2uW8wZ2LWcCtAJQDHUeLF1G3PKjL7KD-NshE9t-6MSrk2OnXbgfR859TpZBbc_C3Ruj0o76ddnecw5Ffj5bZPqju5p3t6kmpwKkFAMxqCbrCVVeXnWyeUhdl8sRTkqZLRHm9Fy_FkQZsrTE8mFvRMsb00tU15zc1JmpEa8rZ__No_0_LspHlALxXr2haNVMTQZsrelrlsEBTb8=w2104-h1578-no?authuser=0)"
   ]
  }
 ],
 "metadata": {
  "kernelspec": {
   "display_name": "Python 2.7.18 64-bit",
   "language": "python",
   "name": "python3"
  },
  "language_info": {
   "name": "python",
   "version": "2.7.18"
  },
  "orig_nbformat": 4,
  "vscode": {
   "interpreter": {
    "hash": "949777d72b0d2535278d3dc13498b2535136f6dfe0678499012e853ee9abcab1"
   }
  }
 },
 "nbformat": 4,
 "nbformat_minor": 2
}
