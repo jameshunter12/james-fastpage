{
 "cells": [
  {
   "cell_type": "markdown",
   "metadata": {},
   "source": [
    "# Technical Business Extra Credit\n",
    "\n",
    "- toc: true \n",
    "- badges: true\n",
    "- comments: true"
   ]
  },
  {
   "cell_type": "markdown",
   "metadata": {},
   "source": [
    "### Kathyleen Beveridge Notes\n",
    "- Lived in Spain and moved to San Diego in 2004\n",
    "- Was a finace major and when graduated worked at Wells Fargo\n",
    "- Worked as a broker\n",
    "- Started her high tech carrer HP\n",
    "- Switched and then worked at Qualcomm\n",
    "- HP Inc: Create technology that makes life better for everyone, every where\n",
    "- Qualcomm: Inventing the tech the world loves\n",
    "- Thermo Fisher Scientific: Enable our customers to make the world healthier, cleaner, and safer\n",
    "- At Thermo Fisher her job is to think if the product fits with the market"
   ]
  },
  {
   "cell_type": "markdown",
   "metadata": {},
   "source": [
    "### Kris Porter Notes\n",
    "- Software Engineer- SRE, DevOps, Infrastructure\n",
    "- Livermore High School alum and enjoyed STEM classes\n",
    "- Enrolled in UCLA for electrical engineering\n",
    "- Masters degrees in Electrical Engineering from Cal State LA\n",
    "- Did research at an undergraduate school\n",
    "- Worked to make a robot that deployed in Costa Rica and scoutted the environment\n",
    "- Systems of engineer at a start up, GPM\n",
    "- Intro to Devops, transition to Qualcomm\n",
    "- Began working at Twitter\n",
    "- CCNA training\n",
    "- Streaming Media infrastructure\n",
    "- Twitter Projects: New DataCenter Deployment and Migrating HomeTimelineto GraphQl"
   ]
  },
  {
   "cell_type": "markdown",
   "metadata": {},
   "source": [
    "### Extra Notes\n",
    "- Continuous learning is important\n",
    "- The best people to work with listen to the requirements and then they translate it to how technology can solve the requirement\n",
    "- Problem solving can be used in other carrers that don't necessary require coding\n",
    "- Coding can help to investment and finace because you can use understanding of algorithms and patterns"
   ]
  },
  {
   "cell_type": "markdown",
   "metadata": {},
   "source": [
    "## Photos\n",
    "![](class.png)\n",
    "![](kathyleen.png)\n",
    "![](kris.png)"
   ]
  }
 ],
 "metadata": {
  "kernelspec": {
   "display_name": "Python 3.9.6 64-bit",
   "language": "python",
   "name": "python3"
  },
  "language_info": {
   "name": "python",
   "version": "3.9.6"
  },
  "orig_nbformat": 4,
  "vscode": {
   "interpreter": {
    "hash": "31f2aee4e71d21fbe5cf8b01ff0e069b9275f58929596ceb00d14d90e3e16cd6"
   }
  }
 },
 "nbformat": 4,
 "nbformat_minor": 2
}
