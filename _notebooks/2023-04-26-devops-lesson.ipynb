{
 "cells": [
  {
   "attachments": {},
   "cell_type": "markdown",
   "metadata": {},
   "source": [
    "# DevOps Lesson\n",
    "\n",
    "- toc: true\n",
    "- categories: []\n",
    "- type: pbl"
   ]
  },
  {
   "cell_type": "code",
   "execution_count": 2,
   "metadata": {},
   "outputs": [
    {
     "name": "stdout",
     "output_type": "stream",
     "text": [
      "142.250.189.14\n"
     ]
    }
   ],
   "source": [
    "import socket\n",
    "\n",
    "# Change the following host and see what IP it prints!\n",
    "host = \"google.com\"\n",
    "# this allows us to translate a host name into an ip adress\n",
    "ip = socket.gethostbyname(host)\n",
    "\n",
    "print(ip)"
   ]
  },
  {
   "cell_type": "code",
   "execution_count": 3,
   "metadata": {},
   "outputs": [
    {
     "name": "stdout",
     "output_type": "stream",
     "text": [
      "Successfully connected!\n"
     ]
    }
   ],
   "source": [
    "# Initiate a TCP connection to port 80\n",
    "with socket.socket(socket.AF_INET, socket.SOCK_STREAM) as s:\n",
    "    s.connect((ip, 80))\n",
    "    print(\"Successfully connected!\")"
   ]
  },
  {
   "attachments": {},
   "cell_type": "markdown",
   "metadata": {},
   "source": [
    "## Check-In\n",
    "\n",
    "1. What is an IP address?\n",
    "IP address is used to identify and communicate with devices on a certain network suhc as a computer.\n",
    "2. What is a TCP port?\n",
    "TCP allows us to tell if each packet is received correctly. Allows us to abstract and reassemble certain parts of data during a transaction."
   ]
  },
  {
   "cell_type": "code",
   "execution_count": 4,
   "metadata": {},
   "outputs": [
    {
     "name": "stdout",
     "output_type": "stream",
     "text": [
      "HTTP/1.1 200 OK\n",
      "Date: Thu, 27 Apr 2023 20:00:10 GMT\n",
      "Expires: -1\n",
      "Cache-Control: private, max-age=0\n",
      "Content-Type: text/html; charset=ISO-8859-1\n",
      "Content-Security-Policy-Report-Only: object-src 'none';base-uri 'self';script-src 'nonce-SP2mcegfZKgAiTs1Q5oPmw' 'strict-dynamic' 'report-sample' 'unsafe-eval' 'unsafe-inline' https: http:;report-uri https://csp.withgoogle.com/csp/gws/other-hp\n",
      "P3P: CP=\"This is not a P3P policy! See g.co/p3phelp for more info.\"\n",
      "Server: gws\n",
      "X-XSS-Protection: 0\n",
      "X-Frame-Options: SAMEORIGIN\n",
      "Set-Cookie: 1P_JAR=2023-04-27-20; expires=Sat, 27-May-2023 20:00:10 GMT; path=/; domain=.google.com; Secure\n",
      "Set-Cookie: AEC=AUEFqZcQUWVPgRRRFqHW8VG-TDYbWzat_l4oj_FRirlwKwhOJqWx0106pwM; expires=Tue, 24-Oct-2023 20:00:10 GMT; path=/; domain=.google.com; Secure; HttpOnly; SameSite=lax\n",
      "Set-Cookie: NID=511=Ck8OmI53dwHeTh6a0eEjBYvdYAxf7fsVclvZW5eig5tD-xsOGK18yNjB5eURDu8d5fbnRJqCyiqQo-2Bfu6Ymbf70y1O-Rh0afS7fSmmPC7Neu54I2kH6bqzEgHJv4TkRBcNeXxc_LQ3Qbr6Kex3-HgcPGd4E0VE751HpZIRQcU; expires=Fri, 27-Oct-2023 20:00:10 GMT; path=/; domain=.google.com; HttpOnly\n",
      "Accept-Ranges: none\n",
      "Vary: Accept-Encoding\n",
      "Transfer-Encoding: chunked\n",
      "\n",
      "5966\n",
      "<!doctype html><html itemscope=\"\" itemtype=\"http://schema.org/WebPage\" lang=\"en\"><head><meta content=\"Search the world's information, including webpages, images, videos and more. Google has many special features to help you find exactly what you're looking for.\" name=\"description\"><meta content=\"noodp\" name=\"robots\"><meta content=\"text/html; charset=UTF-8\" http-equiv=\"Content-Type\"><meta content=\"/images/branding/googleg/1x/googleg_standard_color_128dp.png\" itemprop=\"image\"><title>Google</title><script nonce=\"SP2mcegfZKgAiTs1Q5oPmw\">(function(){window.google={kEI:'StRKZPe8I8PJkPIP1_aJyA4',kEXPI:'0,1303458,55951,6059,206,2415,2389,2316,383,246,5,1129120,1197763,631,380097,16114,28684,22430,1362,284,12034,4747,12834,4998,13228,3847,38444,2872,2891,3926,4422,3406,606,30668,27618,2404,15324,432,3,1590,1,16916,2652,4,1528,2304,29062,13065,13658,2980,1457,16786,5830,2527,4094,7596,1\n"
     ]
    }
   ],
   "source": [
    "with socket.socket(socket.AF_INET, socket.SOCK_STREAM) as s:\n",
    "    s.connect((ip, 80))\n",
    "\n",
    "    # Send a GET request to \"/\"\n",
    "    s.sendall(b\"GET / HTTP/1.1\\r\\n\\r\\n\")\n",
    "\n",
    "    # Recieve & print 2048 bytes of data\n",
    "    data = s.recv(2048)\n",
    "    print(data.decode())"
   ]
  },
  {
   "cell_type": "code",
   "execution_count": 5,
   "metadata": {},
   "outputs": [
    {
     "name": "stdout",
     "output_type": "stream",
     "text": [
      "Status code: 200\n",
      "Headers: {'Date': 'Thu, 27 Apr 2023 20:00:12 GMT', 'Expires': '-1', 'Cache-Control': 'private, max-age=0', 'Content-Type': 'text/html; charset=ISO-8859-1', 'Content-Security-Policy-Report-Only': \"object-src 'none';base-uri 'self';script-src 'nonce-ZEYJ4PBue2lU75mPhf-GiA' 'strict-dynamic' 'report-sample' 'unsafe-eval' 'unsafe-inline' https: http:;report-uri https://csp.withgoogle.com/csp/gws/other-hp\", 'P3P': 'CP=\"This is not a P3P policy! See g.co/p3phelp for more info.\"', 'Content-Encoding': 'gzip', 'Server': 'gws', 'X-XSS-Protection': '0', 'X-Frame-Options': 'SAMEORIGIN', 'Set-Cookie': '1P_JAR=2023-04-27-20; expires=Sat, 27-May-2023 20:00:12 GMT; path=/; domain=.google.com; Secure, AEC=AUEFqZehjqCqul40lf0erll9TcMmrEVT4rtWQ08whOdt_H10OSvDGyVHXCs; expires=Tue, 24-Oct-2023 20:00:12 GMT; path=/; domain=.google.com; Secure; HttpOnly; SameSite=lax, NID=511=IfzhNiDYofeptFX5aeBqIWonmtW1RsndjEIhqUUI-aIFo6XlaZtGDwV3fKAQgjr6xGGqzikLB5JralgvSYw8rV2wmcZhBZ8FxKvov-P7VJ_s7Gh9Jdr9WRfI8tDp6egdeL2l2sEuqSA5nmVG0vsr-RJCmlxKOHzCXRfIhfYBjCY; expires=Fri, 27-Oct-2023 20:00:12 GMT; path=/; domain=.google.com; HttpOnly', 'Alt-Svc': 'h3=\":443\"; ma=2592000,h3-29=\":443\"; ma=2592000', 'Transfer-Encoding': 'chunked'}\n",
      "Response text: <!doctype html><html itemscope=\"\" itemtype=\"http://schema.org/WebPage\" lang=\"en\"><head><meta content\n"
     ]
    }
   ],
   "source": [
    "import requests\n",
    "\n",
    "# Change the URL to whatever you'd like\n",
    "response = requests.get(\"https://google.com\")\n",
    "\n",
    "print(\"Status code:\", response.status_code)\n",
    "print(\"Headers:\", response.headers)\n",
    "print(\"Response text:\", response.text[:100])\n",
    "\n",
    "# Add a line to print the \"Content-Type\" header of the response\n",
    "# Try an image URL!"
   ]
  },
  {
   "attachments": {},
   "cell_type": "markdown",
   "metadata": {},
   "source": [
    "# NGINX"
   ]
  },
  {
   "cell_type": "code",
   "execution_count": 6,
   "metadata": {},
   "outputs": [
    {
     "name": "stdout",
     "output_type": "stream",
     "text": [
      "<html><head><title>ContentKeeper</title></heQad>\n",
      "<body bgcolor=\"#A02E5F\" text=\"White\" link=\"Lime\" vlink=\"Aqua\">\n",
      "<center><br><h1>ContentKeeper<br>Non-Managed Site</h1>\n",
      "No access is available to NON-Managed Sites.<br><br>\n",
      "<table border=\"1\" cellspacing=\"0\">\n",
      "<tr><td>URL</td><td><b>3.130.255.192</b></td></tr>\n",
      "<tr><td>Username</td><td><b>1924258/pusd</b></td></tr></table>\n",
      "</body></html>\n",
      "\n"
     ]
    }
   ],
   "source": [
    "aws = \"3.130.255.192\"\n",
    "\n",
    "response = requests.get(\"http://\" + aws)\n",
    "print(response.text)\n"
   ]
  },
  {
   "attachments": {},
   "cell_type": "markdown",
   "metadata": {},
   "source": [
    "## Configuration\n",
    "\n",
    "```nginx\n",
    "server {\n",
    "    // Listen on virtual \"port 80\"\n",
    "    listen 80;\n",
    "    listen [::]:80;\n",
    "    server_name 3.130.255.192;\n",
    "\n",
    "    location / {\n",
    "        // Inform server about original client\n",
    "        proxy_set_header        Host $host;\n",
    "        proxy_set_header        X-Real-IP $remote_addr;\n",
    "        proxy_set_header        X-Forwarded-For $proxy_add_x_forwarded_for;\n",
    "        proxy_set_header        X-Forwarded-Proto $scheme;\n",
    "\n",
    "        // Forward all requests transparently to the server running on our computer\n",
    "        proxy_pass              http://localhost:9099;\n",
    "    }\n",
    "}\n",
    "```\n",
    "\n",
    "### Load Balancing\n",
    "\n",
    "```nginx\n",
    "upstream example.com {\n",
    "    server server1.example.com;\n",
    "    server server1.example.com;\n",
    "}\n",
    "```\n",
    "\n",
    "### HTTP Headers\n",
    "\n",
    "```nginx\n",
    "server {\n",
    "    add_header X-Cool-Header \"I love APCSP!\";\n",
    "\n",
    "    location /pages {\n",
    "        add_header X-Cooler-Header \"This is my secret header!\";\n",
    "    }\n",
    "}\n",
    "```\n",
    "\n",
    "## Check In\n",
    "\n",
    "1. Research 1 HTTP header and describe, in detail, its purpose.\n",
    "- Another HTTP header that is commonly used is the \"Authorization\" header. The purpose of the Authorization header is to provide credentials to access a protected resource. The header typically contains some type of authentication information that is used to authenticate the user making the request.\n",
    "2. Write a line in a sample NGINX configuration that will add that specific header to the `/information` location\n",
    "- location /information {\n",
    "    add_header Authorization \"Bearer my_access_token\";\n",
    "    ...\n",
    "}\n",
    "3. Explain the purpose of the load balancing performed by NGINX\n",
    "- The purpose of load balancing performed by NGINX is to distribute incoming network traffic across multiple servers to improve performance, increase availability, and reduce the risk of downtime due to server failures.\n",
    "4. Modify the following code block to obtain the value of the secret header on `/products` of the AWS site\n",
    "- ASK ABOUT"
   ]
  },
  {
   "cell_type": "code",
   "execution_count": 12,
   "metadata": {},
   "outputs": [
    {
     "name": "stdout",
     "output_type": "stream",
     "text": [
      "The secret header is: This is my secret header!\n"
     ]
    }
   ],
   "source": [
    "aws = \"3.130.255.192\"\n",
    "\n",
    "response = requests.get(\"http://\" + aws + \"/products\")\n",
    "\n",
    "print(\"The secret header is: \" + response.headers['X-Cooler-Header'])"
   ]
  },
  {
   "attachments": {},
   "cell_type": "markdown",
   "metadata": {},
   "source": [
    "# Hacks\n",
    "\n",
    "- Complete the above check-in questions and change the hosts (0.1)\n",
    "- Complete the above code-segment to retrieve the secret header (0.1)\n",
    "\n",
    "## Bonus (0.05)\n",
    "\n",
    "Create a diagram showing the layers of abstraction that allow us to use HTTP (IP, TCP, etc.)"
   ]
  },
  {
   "attachments": {},
   "cell_type": "markdown",
   "metadata": {},
   "source": [
    "# CORS Hacks\n",
    "\n",
    "1. Explain what CORS is and what it stands for\n",
    "- CORS stands for Cross-Origin Resource Sharing. It is a mechanism that allows web servers to specify which domains are allowed to access the resources on the server. By default, web browsers restrict cross-origin HTTP requests initiated from scripts, so CORS is used to lessen these restrictions and allow web applications to access resources from different domains.\n",
    "2. Describe how you would be able to implement CORS into your own websites\n",
    "- To implement CORS in a website, the server-side application needs to set the Access-Control-Allow-Origin header to indicate which origins are allowed to access the server's resources. Then the server can set other headers to control the types of HTTP methods and headers that are allowed to be used in cross-origin requests.\n",
    "3. Describe why you would want to implement CORS into your own websites\n",
    "- To allow access to resources hosted on a different domain, such as third-party API.\n",
    "4. How could use CORS to benefit yourself in the future?\n",
    "- It can demonstrate my skills in web security, which are highly valued skills in the industry.\n",
    "\n",
    "Total: 0.2 points\n",
    "\n",
    "# KASM Hacks\n",
    "\n",
    "1. What is the purpose of \"sudo\" when running commands in terminal?\n",
    "- The \"sudo\" command is used to run commands with extra privileges in a terminal. It allows a user to execute commands as the root user, which has unrestricted access to the system and can perform administrative tasks that regular users cannot. Using \"sudo\" is necessary when performing tasks that require administrative privileges, such as installing software.\n",
    "2. What are some commands which allow us to look at how the storage of a machine is set up as?\n",
    "- \"df\" - displays the amount of disk space used and available on mounted file systems.\n",
    "3. What do you think are some alternatives to running \"curl -O\" to get the zip file for KASM?\n",
    "- Downloading the zip file manually from the website and saving it to a local directory.\n",
    "4. What kind of commands do you think the \"install.sh\" command has and why is it necessary to call it?\n",
    "- The \"install.sh\" command is likely to have commands that install the software that it is associated with. It is necessary to call \"install.sh\" because it helps the installation process and ensures that all necessary dependencies are installed correctly.\n",
    "5. Explain in at least 3-4 sentences how deploying KASM is related to/requires other topics talked about in the lesson and/or potential ways to add things mentioned in the lesson to this guide.\n",
    "\n",
    "Total: 0.2 points\n",
    "\n",
    "# AWS/RDS Hacks ()\n",
    "\n",
    "See the [setup post](https://firestorm0986.github.io/SLAAT/posts/sqlite-aws/)\n",
    "\n",
    "- Create your own database in the EC2 I have created (ec2-database-connect)\n",
    "    - name it with your first and last name (example: aditya-nawandhar) (0.1)\n",
    "    - Create a table using the commands on the link provided. (0.1)\n",
    "    - using commands from the link provided make columns and rows with test data (can be anything) (example: “name” and “class” are the columns with rows being something like “Aditya” and “Junior”). At least 4 test rows (0.1)\n",
    "    - additional points if the data matches CPT (Bonus: 0.05)\n",
    "\n",
    "Total: 0.3"
   ]
  }
 ],
 "metadata": {
  "kernelspec": {
   "display_name": "Python 3.9.12 ('base')",
   "language": "python",
   "name": "python3"
  },
  "language_info": {
   "codemirror_mode": {
    "name": "ipython",
    "version": 3
   },
   "file_extension": ".py",
   "mimetype": "text/x-python",
   "name": "python",
   "nbconvert_exporter": "python",
   "pygments_lexer": "ipython3",
   "version": "3.9.12"
  },
  "orig_nbformat": 4,
  "vscode": {
   "interpreter": {
    "hash": "40d3a090f54c6569ab1632332b64b2c03c39dcf918b08424e98f38b5ae0af88f"
   }
  }
 },
 "nbformat": 4,
 "nbformat_minor": 2
}
